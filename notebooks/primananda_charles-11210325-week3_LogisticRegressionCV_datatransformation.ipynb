{
 "cells": [
  {
   "cell_type": "code",
   "execution_count": 5,
   "metadata": {},
   "outputs": [],
   "source": [
    "# Model prediction using LogisticRegressionCV with SMOTE and using liblinear with predict proba\n",
    "\n",
    "# Import all necessary packages\n",
    "import pandas as pd\n",
    "import numpy as np\n",
    "from sklearn.linear_model import LogisticRegressionCV\n",
    "from sklearn.metrics import mean_squared_error as mse\n",
    "from sklearn.metrics import mean_absolute_error as mae\n",
    "from sklearn.preprocessing import StandardScaler\n",
    "from sklearn.model_selection import train_test_split\n",
    "from sklearn.metrics import accuracy_score\n",
    "from sklearn.metrics import roc_auc_score\n",
    "from sklearn.metrics import f1_score\n",
    "from sklearn.metrics import recall_score\n",
    "from imblearn.over_sampling import SMOTE"
   ]
  },
  {
   "cell_type": "code",
   "execution_count": 21,
   "metadata": {},
   "outputs": [
    {
     "name": "stdout",
     "output_type": "stream",
     "text": [
      "[[ 0.93005882 -1.73183431  1.00610018 ...  1.1072419  -0.05507101\n",
      "   0.47321012]\n",
      " [-0.38091406 -1.7314013   0.71400493 ... -0.36478721  0.43214835\n",
      "   0.1966711 ]\n",
      " [-0.28687803 -1.73096829  1.29819543 ... -0.6101254  -0.05507101\n",
      "  -0.90948499]\n",
      " ...\n",
      " [-0.33188458  1.73096829  1.29819543 ...  1.35258008 -0.05507101\n",
      "   0.74974914]\n",
      " [-1.39921865  1.7314013  -1.38908087 ... -0.85546358  0.06673383\n",
      "  -1.0477545 ]\n",
      " [-0.99491401  1.73183431 -0.80489037 ...  0.61656553 -0.66409522\n",
      "   0.1966711 ]]\n",
      "\n",
      "------------------------------------------------------------------------------------------\n",
      "\n",
      "[6.85697100e+03 7.79850000e+03 6.27778750e+01 1.85766625e+01\n",
      " 7.26708750e+00 2.80703750e+00 6.23121250e+00 4.46089000e+01\n",
      " 2.64525000e-01 8.16562500e-01 1.95837000e+01 1.39252500e+00\n",
      " 1.94778750e+00 7.13658250e+01 1.07783750e+00 2.16850000e+00\n",
      " 3.24530000e+00 1.62451250e+00 6.48687500e-01 2.45212500e-01\n",
      " 1.25776250e+00]\n"
     ]
    }
   ],
   "source": [
    "# Loading the files as DataFrame and standardise\n",
    "sample = pd.read_csv(\"sample_submission.csv\")\n",
    "test = pd.read_csv(\"test.csv\")\n",
    "train = pd.read_csv(\"train.csv\")\n",
    "target = train.pop(\"TARGET_5Yrs\")\n",
    "scaler = StandardScaler()\n",
    "print(scaler.fit_transform(train), end=\"\\n\\n\" + \"-\"*10*9 + \"\\n\\n\")\n",
    "print(scaler.mean_)"
   ]
  },
  {
   "cell_type": "code",
   "execution_count": 7,
   "metadata": {},
   "outputs": [
    {
     "name": "stdout",
     "output_type": "stream",
     "text": [
      "Id_old     0\n",
      "Id         0\n",
      "GP         0\n",
      "MIN        0\n",
      "PTS        0\n",
      "FGM        0\n",
      "FGA        0\n",
      "FG%        0\n",
      "3P Made    0\n",
      "3PA        0\n",
      "3P%        0\n",
      "FTM        0\n",
      "FTA        0\n",
      "FT%        0\n",
      "OREB       0\n",
      "DREB       0\n",
      "REB        0\n",
      "AST        0\n",
      "STL        0\n",
      "BLK        0\n",
      "TOV        0\n",
      "dtype: int64\n",
      "\n",
      "------------------------------------------------------------------------------------------\n",
      "\n",
      "Id_old     0\n",
      "Id         0\n",
      "GP         0\n",
      "MIN        0\n",
      "PTS        0\n",
      "FGM        0\n",
      "FGA        0\n",
      "FG%        0\n",
      "3P Made    0\n",
      "3PA        0\n",
      "3P%        0\n",
      "FTM        0\n",
      "FTA        0\n",
      "FT%        0\n",
      "OREB       0\n",
      "DREB       0\n",
      "REB        0\n",
      "AST        0\n",
      "STL        0\n",
      "BLK        0\n",
      "TOV        0\n",
      "dtype: int64\n"
     ]
    }
   ],
   "source": [
    "# check for any null values on train and test\n",
    "print(train.isnull().sum(), end=\"\\n\\n\" + \"-\"*10*9 + \"\\n\\n\")\n",
    "print(test.isnull().sum())"
   ]
  },
  {
   "cell_type": "code",
   "execution_count": 8,
   "metadata": {},
   "outputs": [
    {
     "name": "stdout",
     "output_type": "stream",
     "text": [
      "count    8000.000000\n",
      "mean        0.833625\n",
      "std         0.372440\n",
      "min         0.000000\n",
      "25%         1.000000\n",
      "50%         1.000000\n",
      "75%         1.000000\n",
      "max         1.000000\n",
      "Name: TARGET_5Yrs, dtype: float64\n",
      "\n",
      "------------------------------------------------------------------------------------------\n",
      "\n",
      "1    6669\n",
      "0    1331\n",
      "Name: TARGET_5Yrs, dtype: int64\n"
     ]
    }
   ],
   "source": [
    "# Prove that the target variable is imbalance - 83% is \"1\" with 6669 occurences out of 8000 entries\n",
    "print(target.describe(), end=\"\\n\\n\" + \"-\"*10*9 + \"\\n\\n\")\n",
    "print(target.value_counts())"
   ]
  },
  {
   "cell_type": "code",
   "execution_count": 20,
   "metadata": {},
   "outputs": [
    {
     "name": "stdout",
     "output_type": "stream",
     "text": [
      "Id_old        0\n",
      "Id            0\n",
      "GP            2\n",
      "MIN           0\n",
      "PTS           0\n",
      "FGM           0\n",
      "FGA           0\n",
      "FG%           0\n",
      "3P Made    1629\n",
      "3PA        1658\n",
      "3P%         878\n",
      "FTM           0\n",
      "FTA           0\n",
      "FT%           1\n",
      "OREB          0\n",
      "DREB          0\n",
      "REB           0\n",
      "AST           0\n",
      "STL           0\n",
      "BLK        1048\n",
      "TOV           0\n",
      "dtype: int64\n"
     ]
    }
   ],
   "source": [
    "print(train.where(train < 0).count())"
   ]
  },
  {
   "cell_type": "code",
   "execution_count": 10,
   "metadata": {},
   "outputs": [
    {
     "name": "stdout",
     "output_type": "stream",
     "text": [
      "Id_old       0\n",
      "Id           0\n",
      "GP           0\n",
      "MIN          0\n",
      "PTS          0\n",
      "FGM          0\n",
      "FGA          0\n",
      "FG%          0\n",
      "3P Made    780\n",
      "3PA        801\n",
      "3P%        435\n",
      "FTM          0\n",
      "FTA          0\n",
      "FT%          1\n",
      "OREB         0\n",
      "DREB         0\n",
      "REB          0\n",
      "AST          0\n",
      "STL          0\n",
      "BLK        482\n",
      "TOV          0\n",
      "dtype: int64\n"
     ]
    }
   ],
   "source": [
    "print(test.where(train < 0).count())"
   ]
  },
  {
   "cell_type": "code",
   "execution_count": 26,
   "metadata": {},
   "outputs": [],
   "source": [
    "# change negative values to 0 in train and test\n",
    "train[train < 0] = 0\n",
    "test[test < 0] = 0"
   ]
  },
  {
   "cell_type": "code",
   "execution_count": 27,
   "metadata": {},
   "outputs": [
    {
     "data": {
      "text/html": [
       "<div>\n",
       "<style scoped>\n",
       "    .dataframe tbody tr th:only-of-type {\n",
       "        vertical-align: middle;\n",
       "    }\n",
       "\n",
       "    .dataframe tbody tr th {\n",
       "        vertical-align: top;\n",
       "    }\n",
       "\n",
       "    .dataframe thead th {\n",
       "        text-align: right;\n",
       "    }\n",
       "</style>\n",
       "<table border=\"1\" class=\"dataframe\">\n",
       "  <thead>\n",
       "    <tr style=\"text-align: right;\">\n",
       "      <th></th>\n",
       "      <th>Id_old</th>\n",
       "      <th>Id</th>\n",
       "      <th>GP</th>\n",
       "      <th>MIN</th>\n",
       "      <th>PTS</th>\n",
       "      <th>FGM</th>\n",
       "      <th>FGA</th>\n",
       "      <th>FG%</th>\n",
       "      <th>3P Made</th>\n",
       "      <th>3PA</th>\n",
       "      <th>...</th>\n",
       "      <th>FTM</th>\n",
       "      <th>FTA</th>\n",
       "      <th>FT%</th>\n",
       "      <th>OREB</th>\n",
       "      <th>DREB</th>\n",
       "      <th>REB</th>\n",
       "      <th>AST</th>\n",
       "      <th>STL</th>\n",
       "      <th>BLK</th>\n",
       "      <th>TOV</th>\n",
       "    </tr>\n",
       "  </thead>\n",
       "  <tbody>\n",
       "    <tr>\n",
       "      <th>0</th>\n",
       "      <td>10556</td>\n",
       "      <td>3799</td>\n",
       "      <td>80</td>\n",
       "      <td>24.3</td>\n",
       "      <td>7.8</td>\n",
       "      <td>3.0</td>\n",
       "      <td>6.4</td>\n",
       "      <td>45.7</td>\n",
       "      <td>0.1</td>\n",
       "      <td>0.3</td>\n",
       "      <td>...</td>\n",
       "      <td>2.0</td>\n",
       "      <td>2.9</td>\n",
       "      <td>72.1</td>\n",
       "      <td>2.2</td>\n",
       "      <td>2.0</td>\n",
       "      <td>3.8</td>\n",
       "      <td>3.2</td>\n",
       "      <td>1.1</td>\n",
       "      <td>0.2</td>\n",
       "      <td>1.6</td>\n",
       "    </tr>\n",
       "    <tr>\n",
       "      <th>1</th>\n",
       "      <td>5342</td>\n",
       "      <td>3800</td>\n",
       "      <td>75</td>\n",
       "      <td>21.8</td>\n",
       "      <td>10.5</td>\n",
       "      <td>4.2</td>\n",
       "      <td>7.9</td>\n",
       "      <td>55.1</td>\n",
       "      <td>0.0</td>\n",
       "      <td>0.0</td>\n",
       "      <td>...</td>\n",
       "      <td>2.4</td>\n",
       "      <td>3.6</td>\n",
       "      <td>67.8</td>\n",
       "      <td>3.6</td>\n",
       "      <td>3.7</td>\n",
       "      <td>6.6</td>\n",
       "      <td>0.7</td>\n",
       "      <td>0.5</td>\n",
       "      <td>0.6</td>\n",
       "      <td>1.4</td>\n",
       "    </tr>\n",
       "    <tr>\n",
       "      <th>2</th>\n",
       "      <td>5716</td>\n",
       "      <td>3801</td>\n",
       "      <td>85</td>\n",
       "      <td>19.1</td>\n",
       "      <td>4.5</td>\n",
       "      <td>1.9</td>\n",
       "      <td>4.5</td>\n",
       "      <td>42.8</td>\n",
       "      <td>0.4</td>\n",
       "      <td>1.2</td>\n",
       "      <td>...</td>\n",
       "      <td>0.4</td>\n",
       "      <td>0.6</td>\n",
       "      <td>75.7</td>\n",
       "      <td>0.6</td>\n",
       "      <td>1.8</td>\n",
       "      <td>2.4</td>\n",
       "      <td>0.8</td>\n",
       "      <td>0.4</td>\n",
       "      <td>0.2</td>\n",
       "      <td>0.6</td>\n",
       "    </tr>\n",
       "    <tr>\n",
       "      <th>3</th>\n",
       "      <td>13790</td>\n",
       "      <td>3802</td>\n",
       "      <td>63</td>\n",
       "      <td>19.1</td>\n",
       "      <td>8.2</td>\n",
       "      <td>3.5</td>\n",
       "      <td>6.7</td>\n",
       "      <td>52.5</td>\n",
       "      <td>0.3</td>\n",
       "      <td>0.8</td>\n",
       "      <td>...</td>\n",
       "      <td>0.9</td>\n",
       "      <td>1.5</td>\n",
       "      <td>66.9</td>\n",
       "      <td>0.8</td>\n",
       "      <td>2.0</td>\n",
       "      <td>3.0</td>\n",
       "      <td>1.8</td>\n",
       "      <td>0.4</td>\n",
       "      <td>0.1</td>\n",
       "      <td>1.9</td>\n",
       "    </tr>\n",
       "    <tr>\n",
       "      <th>4</th>\n",
       "      <td>5470</td>\n",
       "      <td>3803</td>\n",
       "      <td>63</td>\n",
       "      <td>17.8</td>\n",
       "      <td>3.7</td>\n",
       "      <td>1.7</td>\n",
       "      <td>3.4</td>\n",
       "      <td>50.8</td>\n",
       "      <td>0.5</td>\n",
       "      <td>1.4</td>\n",
       "      <td>...</td>\n",
       "      <td>0.2</td>\n",
       "      <td>0.5</td>\n",
       "      <td>54.0</td>\n",
       "      <td>2.4</td>\n",
       "      <td>2.7</td>\n",
       "      <td>4.9</td>\n",
       "      <td>0.4</td>\n",
       "      <td>0.4</td>\n",
       "      <td>0.6</td>\n",
       "      <td>0.7</td>\n",
       "    </tr>\n",
       "  </tbody>\n",
       "</table>\n",
       "<p>5 rows × 21 columns</p>\n",
       "</div>"
      ],
      "text/plain": [
       "   Id_old    Id  GP   MIN   PTS  FGM  FGA   FG%  3P Made  3PA  ...  FTM  FTA  \\\n",
       "0   10556  3799  80  24.3   7.8  3.0  6.4  45.7      0.1  0.3  ...  2.0  2.9   \n",
       "1    5342  3800  75  21.8  10.5  4.2  7.9  55.1      0.0  0.0  ...  2.4  3.6   \n",
       "2    5716  3801  85  19.1   4.5  1.9  4.5  42.8      0.4  1.2  ...  0.4  0.6   \n",
       "3   13790  3802  63  19.1   8.2  3.5  6.7  52.5      0.3  0.8  ...  0.9  1.5   \n",
       "4    5470  3803  63  17.8   3.7  1.7  3.4  50.8      0.5  1.4  ...  0.2  0.5   \n",
       "\n",
       "    FT%  OREB  DREB  REB  AST  STL  BLK  TOV  \n",
       "0  72.1   2.2   2.0  3.8  3.2  1.1  0.2  1.6  \n",
       "1  67.8   3.6   3.7  6.6  0.7  0.5  0.6  1.4  \n",
       "2  75.7   0.6   1.8  2.4  0.8  0.4  0.2  0.6  \n",
       "3  66.9   0.8   2.0  3.0  1.8  0.4  0.1  1.9  \n",
       "4  54.0   2.4   2.7  4.9  0.4  0.4  0.6  0.7  \n",
       "\n",
       "[5 rows x 21 columns]"
      ]
     },
     "execution_count": 27,
     "metadata": {},
     "output_type": "execute_result"
    }
   ],
   "source": [
    "train.head()"
   ]
  },
  {
   "cell_type": "code",
   "execution_count": 28,
   "metadata": {},
   "outputs": [
    {
     "name": "stdout",
     "output_type": "stream",
     "text": [
      "Id_old     0\n",
      "Id         0\n",
      "GP         0\n",
      "MIN        0\n",
      "PTS        0\n",
      "FGM        0\n",
      "FGA        0\n",
      "FG%        0\n",
      "3P Made    0\n",
      "3PA        0\n",
      "3P%        0\n",
      "FTM        0\n",
      "FTA        0\n",
      "FT%        0\n",
      "OREB       0\n",
      "DREB       0\n",
      "REB        0\n",
      "AST        0\n",
      "STL        0\n",
      "BLK        0\n",
      "TOV        0\n",
      "dtype: int64\n",
      "\n",
      "------------------------------------------------------------------------------------------\n",
      "\n",
      "Id_old     0\n",
      "Id         0\n",
      "GP         0\n",
      "MIN        0\n",
      "PTS        0\n",
      "FGM        0\n",
      "FGA        0\n",
      "FG%        0\n",
      "3P Made    0\n",
      "3PA        0\n",
      "3P%        0\n",
      "FTM        0\n",
      "FTA        0\n",
      "FT%        0\n",
      "OREB       0\n",
      "DREB       0\n",
      "REB        0\n",
      "AST        0\n",
      "STL        0\n",
      "BLK        0\n",
      "TOV        0\n",
      "dtype: int64\n"
     ]
    }
   ],
   "source": [
    "# check negative values again\n",
    "print(train.where(train < 0).count(), end=\"\\n\\n\" + \"-\"*10*9 + \"\\n\\n\")\n",
    "print(test.where(train < 0).count())"
   ]
  },
  {
   "cell_type": "code",
   "execution_count": 29,
   "metadata": {},
   "outputs": [],
   "source": [
    "# resampling using SMOTE\n",
    "sm = SMOTE(random_state=123)\n",
    "\n",
    "train_resampled, target_resampled = sm.fit_resample(train, target)"
   ]
  },
  {
   "cell_type": "code",
   "execution_count": 30,
   "metadata": {},
   "outputs": [
    {
     "name": "stdout",
     "output_type": "stream",
     "text": [
      "count    13338.000000\n",
      "mean         0.500000\n",
      "std          0.500019\n",
      "min          0.000000\n",
      "25%          0.000000\n",
      "50%          0.500000\n",
      "75%          1.000000\n",
      "max          1.000000\n",
      "Name: TARGET_5Yrs, dtype: float64\n",
      "\n",
      "------------------------------------------------------------------------------------------\n",
      "\n",
      "1    6669\n",
      "0    6669\n",
      "Name: TARGET_5Yrs, dtype: int64\n"
     ]
    }
   ],
   "source": [
    "# Check distribution after SMOTE\n",
    "print(target_resampled.describe(), end=\"\\n\\n\" + \"-\"*10*9 + \"\\n\\n\")\n",
    "print(target_resampled.value_counts())"
   ]
  },
  {
   "cell_type": "code",
   "execution_count": 31,
   "metadata": {},
   "outputs": [],
   "source": [
    "# split train into train and validation\n",
    "X_train, X_val, y_train, y_val = train_test_split(train_resampled, target_resampled, test_size=0.2, random_state=8)"
   ]
  },
  {
   "cell_type": "code",
   "execution_count": 32,
   "metadata": {},
   "outputs": [
    {
     "data": {
      "text/plain": [
       "LogisticRegressionCV(max_iter=1000, random_state=123, solver='liblinear')"
      ]
     },
     "execution_count": 32,
     "metadata": {},
     "output_type": "execute_result"
    }
   ],
   "source": [
    "# Instantiate LogisticRegression Class into reg\n",
    "reg = LogisticRegressionCV(solver='liblinear', max_iter=1000, random_state=123)\n",
    "\n",
    "# fitting\n",
    "reg.fit(X_train,y_train)"
   ]
  },
  {
   "cell_type": "code",
   "execution_count": 33,
   "metadata": {},
   "outputs": [],
   "source": [
    "# predictions probability\n",
    "y_train_preds = reg.predict_proba(X_train)[:,1]\n",
    "y_val_preds = reg.predict_proba(X_val)[:,1]"
   ]
  },
  {
   "cell_type": "code",
   "execution_count": 34,
   "metadata": {},
   "outputs": [
    {
     "name": "stdout",
     "output_type": "stream",
     "text": [
      "Train AUROC score: 0.7153827875405183\n",
      "Validation AUROC score: 0.7342571167074814\n"
     ]
    }
   ],
   "source": [
    "# AUROC scores\n",
    "print('Train AUROC score:',roc_auc_score(y_train,y_train_preds))\n",
    "print('Validation AUROC score:', roc_auc_score(y_val,y_val_preds))"
   ]
  },
  {
   "cell_type": "code",
   "execution_count": 35,
   "metadata": {},
   "outputs": [],
   "source": [
    "# prepare submission\n",
    "y_test_preds = reg.predict_proba(test)[:,1]"
   ]
  },
  {
   "cell_type": "code",
   "execution_count": 36,
   "metadata": {},
   "outputs": [
    {
     "name": "stdout",
     "output_type": "stream",
     "text": [
      "[]\n",
      "[]\n"
     ]
    }
   ],
   "source": [
    "# check if there is out of binary values\n",
    "print(list(y_test_preds[y_test_preds > 1]))\n",
    "print(list(y_test_preds[y_test_preds < 0]))"
   ]
  },
  {
   "cell_type": "code",
   "execution_count": 37,
   "metadata": {},
   "outputs": [],
   "source": [
    "#printout prediction into a file\n",
    "submission = pd.DataFrame({'Id':test['Id'],'TARGET_5Yrs':y_test_preds})\n",
    "submission.to_csv('submission_week_3_2.csv',index=False)"
   ]
  },
  {
   "cell_type": "code",
   "execution_count": 38,
   "metadata": {},
   "outputs": [
    {
     "data": {
      "text/plain": [
       "['LogisticRegressionCV_negative_values_to_zero_SMOTE_liblinear_predict_proba_1.joblib']"
      ]
     },
     "execution_count": 38,
     "metadata": {},
     "output_type": "execute_result"
    }
   ],
   "source": [
    "# save model\n",
    "from joblib import dump  \n",
    "\n",
    "dump(reg,  'LogisticRegressionCV_negative_values_to_zero_SMOTE_liblinear_predict_proba_1.joblib')"
   ]
  },
  {
   "cell_type": "code",
   "execution_count": null,
   "metadata": {},
   "outputs": [],
   "source": []
  }
 ],
 "metadata": {
  "kernelspec": {
   "display_name": "Python 3",
   "language": "python",
   "name": "python3"
  },
  "language_info": {
   "codemirror_mode": {
    "name": "ipython",
    "version": 3
   },
   "file_extension": ".py",
   "mimetype": "text/x-python",
   "name": "python",
   "nbconvert_exporter": "python",
   "pygments_lexer": "ipython3",
   "version": "3.7.3"
  }
 },
 "nbformat": 4,
 "nbformat_minor": 4
}
