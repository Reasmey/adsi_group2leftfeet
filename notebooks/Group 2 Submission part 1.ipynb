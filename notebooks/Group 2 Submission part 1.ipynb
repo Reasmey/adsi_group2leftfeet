{
 "cells": [
  {
   "cell_type": "code",
   "execution_count": 1,
   "metadata": {},
   "outputs": [],
   "source": [
    "# Model prediction using LogisticRegression with upsampling and using liblinear with predict proba\n",
    "\n",
    "# Import all necessary packages\n",
    "import pandas as pd\n",
    "import numpy as np\n",
    "from sklearn.linear_model import LogisticRegression\n",
    "from sklearn.model_selection import train_test_split\n",
    "from joblib import dump"
   ]
  },
  {
   "cell_type": "code",
   "execution_count": 5,
   "metadata": {},
   "outputs": [],
   "source": [
    "# Load the neccessary dataframe from the csv files\n",
    "train = pd.read_csv(\"../data/raw/train (1).csv\")\n",
    "test = pd.read_csv(\"../data/raw/test (1).csv\")"
   ]
  },
  {
   "cell_type": "code",
   "execution_count": 6,
   "metadata": {},
   "outputs": [
    {
     "name": "stdout",
     "output_type": "stream",
     "text": [
      "Id_old         0\n",
      "Id             0\n",
      "GP             0\n",
      "MIN            0\n",
      "PTS            0\n",
      "FGM            0\n",
      "FGA            0\n",
      "FG%            0\n",
      "3P Made        0\n",
      "3PA            0\n",
      "3P%            0\n",
      "FTM            0\n",
      "FTA            0\n",
      "FT%            0\n",
      "OREB           0\n",
      "DREB           0\n",
      "REB            0\n",
      "AST            0\n",
      "STL            0\n",
      "BLK            0\n",
      "TOV            0\n",
      "TARGET_5Yrs    0\n",
      "dtype: int64\n",
      "\n",
      "-------\n",
      "\n",
      "Id_old     0\n",
      "Id         0\n",
      "GP         0\n",
      "MIN        0\n",
      "PTS        0\n",
      "FGM        0\n",
      "FGA        0\n",
      "FG%        0\n",
      "3P Made    0\n",
      "3PA        0\n",
      "3P%        0\n",
      "FTM        0\n",
      "FTA        0\n",
      "FT%        0\n",
      "OREB       0\n",
      "DREB       0\n",
      "REB        0\n",
      "AST        0\n",
      "STL        0\n",
      "BLK        0\n",
      "TOV        0\n",
      "dtype: int64\n"
     ]
    }
   ],
   "source": [
    "# Check if the datasets contain any null values\n",
    "print(train.isnull().sum(),end=\"\\n\\n-------\\n\\n\")\n",
    "print(test.isnull().sum())"
   ]
  },
  {
   "cell_type": "code",
   "execution_count": 7,
   "metadata": {},
   "outputs": [
    {
     "name": "stdout",
     "output_type": "stream",
     "text": [
      "count    8000.000000\n",
      "mean        0.833625\n",
      "std         0.372440\n",
      "min         0.000000\n",
      "25%         1.000000\n",
      "50%         1.000000\n",
      "75%         1.000000\n",
      "max         1.000000\n",
      "Name: TARGET_5Yrs, dtype: float64\n",
      "\n",
      "-------\n",
      "\n",
      "1    6669\n",
      "0    1331\n",
      "Name: TARGET_5Yrs, dtype: int64\n"
     ]
    }
   ],
   "source": [
    "# Prove that the target variable is imbalance - 83% is \"1\" with 6669 occurences out of 8000 entries\n",
    "print(train.TARGET_5Yrs.describe(),end=\"\\n\\n-------\\n\\n\")\n",
    "print(train.TARGET_5Yrs.value_counts())"
   ]
  },
  {
   "cell_type": "code",
   "execution_count": 8,
   "metadata": {},
   "outputs": [],
   "source": [
    "# start the process of resampling\n",
    "\n",
    "from sklearn.utils import resample\n",
    "\n",
    "# separate 1s and 0s\n",
    "\n",
    "fiveyears = train[train.TARGET_5Yrs==1]\n",
    "lessyears = train[train.TARGET_5Yrs==0]\n",
    "\n",
    "# upsampling minority\n",
    "lessyears_upsampled = resample(lessyears, replace=True, n_samples=len(fiveyears), random_state=123)\n",
    "\n",
    "# combine fiveyears and lessyears_unsampled\n",
    "up_sampling=pd.concat([fiveyears, lessyears_upsampled])"
   ]
  },
  {
   "cell_type": "code",
   "execution_count": 9,
   "metadata": {},
   "outputs": [
    {
     "data": {
      "text/plain": [
       "1    6669\n",
       "0    6669\n",
       "Name: TARGET_5Yrs, dtype: int64"
      ]
     },
     "execution_count": 9,
     "metadata": {},
     "output_type": "execute_result"
    }
   ],
   "source": [
    "# check new class counts\n",
    "up_sampling.TARGET_5Yrs.value_counts()"
   ]
  },
  {
   "cell_type": "code",
   "execution_count": 10,
   "metadata": {},
   "outputs": [],
   "source": [
    "# Create a target dataframe\n",
    "target = up_sampling.pop(\"TARGET_5Yrs\")"
   ]
  },
  {
   "cell_type": "code",
   "execution_count": 11,
   "metadata": {},
   "outputs": [],
   "source": [
    "# split training sets into training and validation\n",
    "X_train, X_val, y_train, y_val = train_test_split(up_sampling, target, test_size=0.2, random_state=8)"
   ]
  },
  {
   "cell_type": "code",
   "execution_count": 12,
   "metadata": {},
   "outputs": [
    {
     "data": {
      "text/plain": [
       "LogisticRegression(solver='liblinear')"
      ]
     },
     "execution_count": 12,
     "metadata": {},
     "output_type": "execute_result"
    }
   ],
   "source": [
    "# Instantiate LogisticRegression Class into reg\n",
    "reg = LogisticRegression(solver='liblinear')\n",
    "\n",
    "# fitting\n",
    "reg.fit(X_train,y_train)"
   ]
  },
  {
   "cell_type": "code",
   "execution_count": 15,
   "metadata": {},
   "outputs": [
    {
     "name": "stdout",
     "output_type": "stream",
     "text": [
      "Model saved succesfully\n"
     ]
    }
   ],
   "source": [
    "from src.features.helper_functions import save_model\n",
    "\n",
    "save_model(reg, \"LogisticRegression_upsampling_liblinear_predict_proba_1\")"
   ]
  },
  {
   "cell_type": "code",
   "execution_count": 17,
   "metadata": {},
   "outputs": [],
   "source": [
    "# export necessary dataset to use by second notebooks\n",
    "np.save('../data/processed/X_train_up', X_train)\n",
    "np.save('../data/processed/X_val_up', X_val)\n",
    "np.save('../data/processed/y_train_up',y_train)\n",
    "np.save('../data/processed/y_val_up', y_val)"
   ]
  },
  {
   "cell_type": "code",
   "execution_count": null,
   "metadata": {},
   "outputs": [],
   "source": []
  }
 ],
 "metadata": {
  "kernelspec": {
   "display_name": "Python 3",
   "language": "python",
   "name": "python3"
  },
  "language_info": {
   "codemirror_mode": {
    "name": "ipython",
    "version": 3
   },
   "file_extension": ".py",
   "mimetype": "text/x-python",
   "name": "python",
   "nbconvert_exporter": "python",
   "pygments_lexer": "ipython3",
   "version": "3.7.6"
  }
 },
 "nbformat": 4,
 "nbformat_minor": 4
}
