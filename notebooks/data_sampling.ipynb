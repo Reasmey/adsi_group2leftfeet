{
 "cells": [
  {
   "cell_type": "markdown",
   "metadata": {},
   "source": [
    "# Experiment 1.3 XGBoost with class balancing\n",
    "\n",
    "Try to improve on the xgboost model score by treating the class imbalance in the training data. Can do this by resampling using various techniques:\n",
    "\n",
    "1. Use weights\n",
    "2. Upsample or downsample\n",
    "3. Synthetic Minority Oversampling Technique (SMOTE)\n",
    "\n",
    "Experiments will be tried in this order (from least to most destructive)\n",
    "\n",
    "Simple examples to follow\n",
    "\n",
    "https://machinelearningmastery.com/xgboost-for-imbalanced-classification/\n",
    "\n",
    "https://elitedatascience.com/imbalanced-classes\n",
    "\n",
    "https://machinelearningmastery.com/smote-oversampling-for-imbalanced-classification/\n",
    "\n",
    "The previous kaggle AUC to beat is 0.70615. \n",
    "The best validation AUC so far is 0.70257."
   ]
  },
  {
   "cell_type": "code",
   "execution_count": 4,
   "metadata": {},
   "outputs": [
    {
     "name": "stdout",
     "output_type": "stream",
     "text": [
      "Collecting xgboost\n",
      "  Downloading xgboost-1.3.3-py3-none-manylinux2010_x86_64.whl (157.5 MB)\n",
      "\u001b[K     |████████████████████████████████| 157.5 MB 2.9 kB/s eta 0:00:01   |▍                               | 1.9 MB 3.6 MB/s eta 0:00:44     |█▍                              | 6.8 MB 4.3 MB/s eta 0:00:36     |█▌                              | 7.3 MB 4.3 MB/s eta 0:00:36     |█▉                              | 9.1 MB 4.3 MB/s eta 0:00:35     |██                              | 9.8 MB 4.3 MB/s eta 0:00:35     |███▏                            | 15.4 MB 6.2 MB/s eta 0:00:23     |███▋                            | 17.5 MB 6.2 MB/s eta 0:00:23     |█████                           | 24.9 MB 8.4 MB/s eta 0:00:16     |██████▋                         | 32.7 MB 292 kB/s eta 0:07:07     |███████                         | 34.4 MB 292 kB/s eta 0:07:01     |███████                         | 34.8 MB 7.4 MB/s eta 0:00:17     |███████▋                        | 37.2 MB 7.4 MB/s eta 0:00:17     |███████▊                        | 37.9 MB 7.4 MB/s eta 0:00:17     |████████▏                       | 40.0 MB 7.4 MB/s eta 0:00:16     |████████▏                       | 40.3 MB 7.4 MB/s eta 0:00:16     |████████▎                       | 40.7 MB 7.4 MB/s eta 0:00:16     |████████▊                       | 42.8 MB 2.4 MB/s eta 0:00:49     |█████████▏                      | 45.2 MB 2.4 MB/s eta 0:00:48     |██████████▉                     | 53.2 MB 12.9 MB/s eta 0:00:09     |███████████▎                    | 55.7 MB 6.3 MB/s eta 0:00:17     |████████████▎                   | 60.6 MB 13.1 MB/s eta 0:00:08     |████████████▊                   | 62.4 MB 25.0 MB/s eta 0:00:04     |██████████████▏                 | 69.9 MB 7.3 MB/s eta 0:00:12     |██████████████▍                 | 70.7 MB 7.3 MB/s eta 0:00:12     |███████████████▍                | 75.5 MB 6.0 MB/s eta 0:00:14     |████████████████▏               | 79.7 MB 6.1 MB/s eta 0:00:13     |████████████████▌               | 81.1 MB 6.1 MB/s eta 0:00:13     |█████████████████▏              | 84.7 MB 6.1 MB/s eta 0:00:12     |█████████████████▊              | 87.4 MB 6.4 MB/s eta 0:00:11     |███████████████████             | 93.1 MB 5.1 MB/s eta 0:00:13     |███████████████████▌            | 96.2 MB 5.1 MB/s eta 0:00:12     |████████████████████            | 98.0 MB 5.1 MB/s eta 0:00:12     |████████████████████▎           | 99.8 MB 8.4 MB/s eta 0:00:07     |████████████████████▋           | 101.2 MB 8.4 MB/s eta 0:00:07     |█████████████████████▍          | 105.0 MB 8.4 MB/s eta 0:00:07     |██████████████████████▉         | 112.3 MB 190 kB/s eta 0:03:58     |███████████████████████▎        | 114.3 MB 190 kB/s eta 0:03:47     |███████████████████████▍        | 115.0 MB 6.3 MB/s eta 0:00:07     |███████████████████████▊        | 116.8 MB 6.3 MB/s eta 0:00:07     |███████████████████████▉        | 117.1 MB 6.3 MB/s eta 0:00:07     |███████████████████████▉        | 117.5 MB 6.3 MB/s eta 0:00:07     |████████████████████████▍       | 120.2 MB 6.3 MB/s eta 0:00:06     |██████████████████████████      | 127.6 MB 8.9 MB/s eta 0:00:04     |██████████████████████████▎     | 129.4 MB 6.1 MB/s eta 0:00:05     |███████████████████████████▊    | 136.7 MB 9.3 MB/s eta 0:00:03     |████████████████████████████▎   | 139.2 MB 9.3 MB/s eta 0:00:02     |████████████████████████████▌   | 140.2 MB 9.3 MB/s eta 0:00:02     |██████████████████████████████  | 147.6 MB 6.3 MB/s eta 0:00:02     |███████████████████████████████▏| 153.2 MB 7.9 MB/s eta 0:00:01     |███████████████████████████████▎| 153.9 MB 7.9 MB/s eta 0:00:01\n",
      "\u001b[?25hRequirement already satisfied: scipy in /opt/conda/lib/python3.7/site-packages (from xgboost) (1.4.1)\n",
      "Requirement already satisfied: numpy in /opt/conda/lib/python3.7/site-packages (from xgboost) (1.18.1)\n",
      "Installing collected packages: xgboost\n",
      "Successfully installed xgboost-1.3.3\n",
      "Could not fetch URL https://pypi.org/simple/pip/: There was a problem confirming the ssl certificate: HTTPSConnectionPool(host='pypi.org', port=443): Max retries exceeded with url: /simple/pip/ (Caused by SSLError(SSLError(\"bad handshake: SysCallError(32, 'EPIPE')\"))) - skipping\n",
      "Note: you may need to restart the kernel to use updated packages.\n"
     ]
    }
   ],
   "source": [
    "pip install xgboost"
   ]
  },
  {
   "cell_type": "code",
   "execution_count": 5,
   "metadata": {},
   "outputs": [
    {
     "name": "stdout",
     "output_type": "stream",
     "text": [
      "Collecting imblearn\n",
      "  Downloading imblearn-0.0-py2.py3-none-any.whl (1.9 kB)\n",
      "Collecting imbalanced-learn\n",
      "  Downloading imbalanced_learn-0.7.0-py3-none-any.whl (167 kB)\n",
      "\u001b[K     |████████████████████████████████| 167 kB 3.7 MB/s eta 0:00:01\n",
      "\u001b[?25hCollecting scikit-learn>=0.23\n",
      "  Downloading scikit_learn-0.24.1-cp37-cp37m-manylinux2010_x86_64.whl (22.3 MB)\n",
      "\u001b[K     |████████████████████████████████| 22.3 MB 75 kB/s  eta 0:00:01    |█▏                              | 839 kB 6.2 MB/s eta 0:00:04     |████▏                           | 2.9 MB 6.2 MB/s eta 0:00:04     |████▊                           | 3.3 MB 6.2 MB/s eta 0:00:04     |██████▏                         | 4.3 MB 6.2 MB/s eta 0:00:03     |██████▊                         | 4.7 MB 6.2 MB/s eta 0:00:03     |████████▊                       | 6.0 MB 6.2 MB/s eta 0:00:03     |██████████▊                     | 7.4 MB 5.8 MB/s eta 0:00:03     |█████████████▏                  | 9.2 MB 5.8 MB/s eta 0:00:03     |██████████████▏                 | 9.9 MB 5.8 MB/s eta 0:00:03     |███████████████████▏            | 13.4 MB 5.8 MB/s eta 0:00:02     |███████████████████▊            | 13.7 MB 6.4 MB/s eta 0:00:02     |███████████████████████▏        | 16.1 MB 6.4 MB/s eta 0:00:01     |██████████████████████████▏     | 18.2 MB 6.4 MB/s eta 0:00:01     |███████████████████████████▏    | 18.9 MB 6.4 MB/s eta 0:00:01     |███████████████████████████▋    | 19.2 MB 6.4 MB/s eta 0:00:01     |██████████████████████████████▋ | 21.3 MB 6.8 MB/s eta 0:00:01\n",
      "\u001b[?25hRequirement already satisfied: scipy>=0.19.1 in /opt/conda/lib/python3.7/site-packages (from imbalanced-learn->imblearn) (1.4.1)\n",
      "Requirement already satisfied: numpy>=1.13.3 in /opt/conda/lib/python3.7/site-packages (from imbalanced-learn->imblearn) (1.18.1)\n",
      "Requirement already satisfied: joblib>=0.11 in /opt/conda/lib/python3.7/site-packages (from imbalanced-learn->imblearn) (0.14.1)\n",
      "Collecting threadpoolctl>=2.0.0\n",
      "  Downloading threadpoolctl-2.1.0-py3-none-any.whl (12 kB)\n",
      "Installing collected packages: threadpoolctl, scikit-learn, imbalanced-learn, imblearn\n",
      "  Attempting uninstall: scikit-learn\n",
      "    Found existing installation: scikit-learn 0.22.1\n",
      "    Uninstalling scikit-learn-0.22.1:\n",
      "      Successfully uninstalled scikit-learn-0.22.1\n",
      "Successfully installed imbalanced-learn-0.7.0 imblearn-0.0 scikit-learn-0.24.1 threadpoolctl-2.1.0\n",
      "Note: you may need to restart the kernel to use updated packages.\n"
     ]
    }
   ],
   "source": [
    "pip install imblearn"
   ]
  },
  {
   "cell_type": "code",
   "execution_count": 6,
   "metadata": {},
   "outputs": [],
   "source": [
    "import pandas as pd\n",
    "import numpy as np\n",
    "import matplotlib.pyplot as plt\n",
    "from xgboost import XGBClassifier\n",
    "from imblearn.over_sampling import SMOTE"
   ]
  },
  {
   "cell_type": "code",
   "execution_count": 7,
   "metadata": {},
   "outputs": [],
   "source": [
    "# import load_data function from helper file \n",
    "%load_ext autoreload\n",
    "%autoreload 2\n",
    "\n",
    "# fix system path\n",
    "import sys\n",
    "sys.path.append(\"/home/jovyan/work\")"
   ]
  },
  {
   "cell_type": "code",
   "execution_count": 8,
   "metadata": {},
   "outputs": [],
   "source": [
    "from src.features.helper_functions import load_sets\n",
    "\n",
    "X_train, y_train, X_val, y_val, X_test = load_sets()"
   ]
  },
  {
   "cell_type": "markdown",
   "metadata": {},
   "source": [
    "Check the class counts again"
   ]
  },
  {
   "cell_type": "code",
   "execution_count": 12,
   "metadata": {},
   "outputs": [
    {
     "name": "stdout",
     "output_type": "stream",
     "text": [
      "[[   0    1]\n",
      " [1074 5326]]\n"
     ]
    }
   ],
   "source": [
    "# check distribution of the target\n",
    "unique_elements, counts_elements = np.unique(y_train, return_counts=True)\n",
    "print(np.asarray((unique_elements, counts_elements)))"
   ]
  },
  {
   "cell_type": "code",
   "execution_count": 14,
   "metadata": {},
   "outputs": [
    {
     "data": {
      "text/plain": [
       "4.992551210428306"
      ]
     },
     "execution_count": 14,
     "metadata": {},
     "output_type": "execute_result"
    }
   ],
   "source": [
    "5362/1074"
   ]
  },
  {
   "cell_type": "markdown",
   "metadata": {},
   "source": [
    "Ratio is 20% 0 to 1, so for the weights in xgboost use \n",
    "scale_pos_weight=5."
   ]
  },
  {
   "cell_type": "markdown",
   "metadata": {},
   "source": [
    "## Train using class weights\n",
    "Use stratified kfold for cross validation - need to use this to assess the effectiveness of applying weights"
   ]
  },
  {
   "cell_type": "code",
   "execution_count": 15,
   "metadata": {},
   "outputs": [],
   "source": [
    "from sklearn.model_selection import StratifiedKFold\n",
    "from sklearn.model_selection import cross_val_score\n",
    "\n",
    "# create kfold object\n",
    "kfold = StratifiedKFold(n_splits=10, shuffle=True, random_state=7)"
   ]
  },
  {
   "cell_type": "code",
   "execution_count": 16,
   "metadata": {},
   "outputs": [],
   "source": [
    "# instatiate model\n",
    "model = XGBClassifier(scale_pos_weight=5)"
   ]
  },
  {
   "cell_type": "code",
   "execution_count": 18,
   "metadata": {},
   "outputs": [
    {
     "ename": "NameError",
     "evalue": "name 'mean' is not defined",
     "output_type": "error",
     "traceback": [
      "\u001b[0;31m\u001b[0m",
      "\u001b[0;31mNameError\u001b[0mTraceback (most recent call last)",
      "\u001b[0;32m<ipython-input-18-a5dc3397ddcc>\u001b[0m in \u001b[0;36m<module>\u001b[0;34m\u001b[0m\n\u001b[1;32m      2\u001b[0m \u001b[0mscores\u001b[0m \u001b[0;34m=\u001b[0m \u001b[0mcross_val_score\u001b[0m\u001b[0;34m(\u001b[0m\u001b[0mmodel\u001b[0m\u001b[0;34m,\u001b[0m \u001b[0mX_train\u001b[0m\u001b[0;34m,\u001b[0m \u001b[0my_train\u001b[0m\u001b[0;34m,\u001b[0m \u001b[0mscoring\u001b[0m\u001b[0;34m=\u001b[0m\u001b[0;34m'roc_auc'\u001b[0m\u001b[0;34m,\u001b[0m \u001b[0mcv\u001b[0m\u001b[0;34m=\u001b[0m\u001b[0mkfold\u001b[0m\u001b[0;34m,\u001b[0m \u001b[0mn_jobs\u001b[0m\u001b[0;34m=\u001b[0m\u001b[0;34m-\u001b[0m\u001b[0;36m1\u001b[0m\u001b[0;34m)\u001b[0m\u001b[0;34m\u001b[0m\u001b[0;34m\u001b[0m\u001b[0m\n\u001b[1;32m      3\u001b[0m \u001b[0;31m# summarize performance\u001b[0m\u001b[0;34m\u001b[0m\u001b[0;34m\u001b[0m\u001b[0;34m\u001b[0m\u001b[0m\n\u001b[0;32m----> 4\u001b[0;31m \u001b[0mprint\u001b[0m\u001b[0;34m(\u001b[0m\u001b[0;34m'Mean ROC AUC: %.5f'\u001b[0m \u001b[0;34m%\u001b[0m \u001b[0mmean\u001b[0m\u001b[0;34m(\u001b[0m\u001b[0mscores\u001b[0m\u001b[0;34m)\u001b[0m\u001b[0;34m)\u001b[0m\u001b[0;34m\u001b[0m\u001b[0;34m\u001b[0m\u001b[0m\n\u001b[0m",
      "\u001b[0;31mNameError\u001b[0m: name 'mean' is not defined"
     ]
    }
   ],
   "source": [
    "# evaluate model\n",
    "scores = cross_val_score(model, X_train, y_train, scoring='roc_auc', cv=kfold, n_jobs=-1)"
   ]
  },
  {
   "cell_type": "code",
   "execution_count": 19,
   "metadata": {},
   "outputs": [
    {
     "name": "stdout",
     "output_type": "stream",
     "text": [
      "Mean ROC AUC: 0.65223\n"
     ]
    }
   ],
   "source": [
    "# summarise performance\n",
    "print('Mean ROC AUC: %.5f' % np.mean(scores))"
   ]
  },
  {
   "cell_type": "markdown",
   "metadata": {},
   "source": [
    "Not the best AUC, but could be better.Try with the best parameters from previous grid search experiment, and also add in a range of weights to see if a different value is better."
   ]
  },
  {
   "cell_type": "code",
   "execution_count": 21,
   "metadata": {},
   "outputs": [],
   "source": [
    "# load previous model\n",
    "from joblib import load\n",
    "model_best_params = load('../models/rex_xgb_gridsearch.joblib')"
   ]
  },
  {
   "cell_type": "code",
   "execution_count": 22,
   "metadata": {},
   "outputs": [],
   "source": [
    "from sklearn.model_selection import GridSearchCV\n",
    "\n",
    "# define grid\n",
    "weights = [2, 3, 4, 5]\n",
    "param_grid = dict(scale_pos_weight=weights)\n",
    "\n",
    "# define grid search\n",
    "grid = GridSearchCV(estimator=model_best_params, param_grid=param_grid, n_jobs=-1, cv=kfold, scoring='roc_auc')"
   ]
  },
  {
   "cell_type": "code",
   "execution_count": 23,
   "metadata": {},
   "outputs": [
    {
     "name": "stderr",
     "output_type": "stream",
     "text": [
      "/opt/conda/lib/python3.7/site-packages/xgboost/sklearn.py:888: UserWarning: The use of label encoder in XGBClassifier is deprecated and will be removed in a future release. To remove this warning, do the following: 1) Pass option use_label_encoder=False when constructing XGBClassifier object; and 2) Encode your labels (y) as integers starting with 0, i.e. 0, 1, 2, ..., [num_class - 1].\n",
      "  warnings.warn(label_encoder_deprecation_msg, UserWarning)\n"
     ]
    },
    {
     "name": "stdout",
     "output_type": "stream",
     "text": [
      "[12:38:34] WARNING: ../src/learner.cc:1061: Starting in XGBoost 1.3.0, the default evaluation metric used with the objective 'binary:logistic' was changed from 'error' to 'logloss'. Explicitly set eval_metric if you'd like to restore the old behavior.\n",
      "Best: 0.700503 using {'scale_pos_weight': 5}\n",
      "0.699500 (0.027510) with: {'scale_pos_weight': 2}\n",
      "0.700491 (0.027545) with: {'scale_pos_weight': 3}\n",
      "0.700256 (0.027630) with: {'scale_pos_weight': 4}\n",
      "0.700503 (0.027853) with: {'scale_pos_weight': 5}\n"
     ]
    }
   ],
   "source": [
    "# execute the grid search\n",
    "grid_result = grid.fit(X_train, y_train)\n",
    "\n",
    "# report the best configuration\n",
    "print(\"Best: %f using %s\" % (grid_result.best_score_, grid_result.best_params_))\n",
    "\n",
    "# report all configurations\n",
    "means = grid_result.cv_results_['mean_test_score']\n",
    "stds = grid_result.cv_results_['std_test_score']\n",
    "params = grid_result.cv_results_['params']\n",
    "for mean, stdev, param in zip(means, stds, params):\n",
    "    print(\"%f (%f) with: %r\" % (mean, stdev, param))"
   ]
  },
  {
   "cell_type": "markdown",
   "metadata": {},
   "source": [
    "The AUC sits just above 0.7, and just below the validation set AUC from the previous experiment. \n",
    "Let's try and make a prediction and see what the new validation AUC will be, using weight of 5."
   ]
  },
  {
   "cell_type": "code",
   "execution_count": 25,
   "metadata": {},
   "outputs": [],
   "source": [
    "# train model with weights and best params\n",
    "model = XGBClassifier(max_depth = 2, n_estimators = 140, learning_rate = 0.05, scale_pos_weight=5)"
   ]
  },
  {
   "cell_type": "code",
   "execution_count": 26,
   "metadata": {},
   "outputs": [
    {
     "name": "stdout",
     "output_type": "stream",
     "text": [
      "[12:45:38] WARNING: ../src/learner.cc:1061: Starting in XGBoost 1.3.0, the default evaluation metric used with the objective 'binary:logistic' was changed from 'error' to 'logloss'. Explicitly set eval_metric if you'd like to restore the old behavior.\n"
     ]
    }
   ],
   "source": [
    "model_weight_bp = model.fit(X_train, y_train)"
   ]
  },
  {
   "cell_type": "code",
   "execution_count": 29,
   "metadata": {},
   "outputs": [],
   "source": [
    "from src.features.helper_functions import save_model"
   ]
  },
  {
   "cell_type": "code",
   "execution_count": 30,
   "metadata": {},
   "outputs": [
    {
     "name": "stdout",
     "output_type": "stream",
     "text": [
      "Model saved succesfully\n"
     ]
    }
   ],
   "source": [
    "save_model(model_weight_bp, 'rez_xgb_bestparam_weight')"
   ]
  },
  {
   "cell_type": "markdown",
   "metadata": {},
   "source": [
    "## Predict on val set"
   ]
  },
  {
   "cell_type": "code",
   "execution_count": 31,
   "metadata": {},
   "outputs": [],
   "source": [
    "# predict class\n",
    "y_train_preds = model_weight_bp.predict(X_train)\n",
    "y_val_preds = model_weight_bp.predict(X_val)"
   ]
  },
  {
   "cell_type": "code",
   "execution_count": 32,
   "metadata": {},
   "outputs": [],
   "source": [
    "# predict proabilities\n",
    "y_train_preds_prob = model_weight_bp.predict_proba(X_train)\n",
    "y_val_preds_prob = model_weight_bp.predict_proba(X_val)"
   ]
  },
  {
   "cell_type": "code",
   "execution_count": 33,
   "metadata": {},
   "outputs": [],
   "source": [
    "from sklearn.metrics import mean_squared_error as mse\n",
    "from sklearn.metrics import mean_absolute_error as mae"
   ]
  },
  {
   "cell_type": "code",
   "execution_count": 34,
   "metadata": {},
   "outputs": [
    {
     "name": "stdout",
     "output_type": "stream",
     "text": [
      "0.4096492402043485\n",
      "0.1678125\n",
      "0.4007804885470349\n",
      "0.160625\n"
     ]
    }
   ],
   "source": [
    "print(mse(y_train, y_train_preds, squared=False))\n",
    "print(mae(y_train, y_train_preds))\n",
    "\n",
    "print(mse(y_val, y_val_preds, squared=False))\n",
    "print(mae(y_val, y_val_preds))"
   ]
  },
  {
   "cell_type": "markdown",
   "metadata": {},
   "source": [
    "Validation RMSE and MAE are slightly lower than the best params model"
   ]
  },
  {
   "cell_type": "code",
   "execution_count": 35,
   "metadata": {},
   "outputs": [
    {
     "name": "stdout",
     "output_type": "stream",
     "text": [
      "              precision    recall  f1-score   support\n",
      "\n",
      "           0       0.00      0.00      0.00       257\n",
      "           1       0.84      1.00      0.91      1343\n",
      "\n",
      "    accuracy                           0.84      1600\n",
      "   macro avg       0.42      0.50      0.46      1600\n",
      "weighted avg       0.70      0.84      0.77      1600\n",
      "\n"
     ]
    },
    {
     "name": "stderr",
     "output_type": "stream",
     "text": [
      "/opt/conda/lib/python3.7/site-packages/sklearn/metrics/_classification.py:1245: UndefinedMetricWarning: Precision and F-score are ill-defined and being set to 0.0 in labels with no predicted samples. Use `zero_division` parameter to control this behavior.\n",
      "  _warn_prf(average, modifier, msg_start, len(result))\n",
      "/opt/conda/lib/python3.7/site-packages/sklearn/metrics/_classification.py:1245: UndefinedMetricWarning: Precision and F-score are ill-defined and being set to 0.0 in labels with no predicted samples. Use `zero_division` parameter to control this behavior.\n",
      "  _warn_prf(average, modifier, msg_start, len(result))\n",
      "/opt/conda/lib/python3.7/site-packages/sklearn/metrics/_classification.py:1245: UndefinedMetricWarning: Precision and F-score are ill-defined and being set to 0.0 in labels with no predicted samples. Use `zero_division` parameter to control this behavior.\n",
      "  _warn_prf(average, modifier, msg_start, len(result))\n"
     ]
    }
   ],
   "source": [
    "from sklearn.metrics import classification_report\n",
    "\n",
    "class_report = classification_report(y_val, y_val_preds)\n",
    "print(class_report)"
   ]
  },
  {
   "cell_type": "code",
   "execution_count": 37,
   "metadata": {},
   "outputs": [
    {
     "name": "stdout",
     "output_type": "stream",
     "text": [
      "0.7266867816152237\n",
      "0.7006759360395884\n"
     ]
    }
   ],
   "source": [
    "from sklearn.metrics import roc_auc_score\n",
    "\n",
    "print(roc_auc_score(y_train, y_train_preds_prob[:,1]))\n",
    "print(roc_auc_score(y_val, y_val_preds_prob[:,1]))"
   ]
  },
  {
   "cell_type": "code",
   "execution_count": 38,
   "metadata": {},
   "outputs": [
    {
     "data": {
      "image/png": "[encoded data removed]",
      "text/plain": [
       "<Figure size 432x288 with 2 Axes>"
      ]
     },
     "metadata": {
      "needs_background": "light"
     },
     "output_type": "display_data"
    }
   ],
   "source": [
    "from sklearn.metrics import plot_confusion_matrix\n",
    "\n",
    "plot_confusion_matrix(model_best_params, X_val, y_val, cmap=plt.cm.Blues)  \n",
    "plt.show() "
   ]
  },
  {
   "cell_type": "code",
   "execution_count": null,
   "metadata": {},
   "outputs": [],
   "source": []
  }
 ],
 "metadata": {
  "kernelspec": {
   "display_name": "Python 3",
   "language": "python",
   "name": "python3"
  },
  "language_info": {
   "codemirror_mode": {
    "name": "ipython",
    "version": 3
   },
   "file_extension": ".py",
   "mimetype": "text/x-python",
   "name": "python",
   "nbconvert_exporter": "python",
   "pygments_lexer": "ipython3",
   "version": "3.7.6"
  }
 },
 "nbformat": 4,
 "nbformat_minor": 4
}
