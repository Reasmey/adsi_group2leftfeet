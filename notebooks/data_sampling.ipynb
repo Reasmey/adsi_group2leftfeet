{
 "cells": [
  {
   "cell_type": "markdown",
   "metadata": {},
   "source": [
    "# Experiment 1.3 XGBoost with class balancing\n",
    "\n",
    "Try to improve on the xgboost model score by treating the class imbalance in the training data. Can do this by resampling using various techniques:\n",
    "\n",
    "1. Adjust the weight of the positive class in xgboost (scale_pos_weight)\n",
    "2. Upsample or downsample the adta\n",
    "3. Synthetic Minority Oversampling Technique (SMOTE)\n",
    "\n",
    "Experiments will be tried in this order (from least to most destructive)\n",
    "\n",
    "Simple examples to follow\n",
    "\n",
    "https://machinelearningmastery.com/xgboost-for-imbalanced-classification/\n",
    "\n",
    "https://elitedatascience.com/imbalanced-classes\n",
    "\n",
    "https://machinelearningmastery.com/smote-oversampling-for-imbalanced-classification/\n",
    "\n",
    "The previous kaggle AUC to beat is 0.70615. \n",
    "The best validation AUC so far is 0.70257."
   ]
  },
  {
   "cell_type": "code",
   "execution_count": 1,
   "metadata": {},
   "outputs": [],
   "source": [
    "import pandas as pd\n",
    "import numpy as np\n",
    "import matplotlib.pyplot as plt\n",
    "from xgboost import XGBClassifier\n",
    "from imblearn.over_sampling import SMOTE"
   ]
  },
  {
   "cell_type": "code",
   "execution_count": 2,
   "metadata": {},
   "outputs": [],
   "source": [
    "# import load_data function from helper file \n",
    "%load_ext autoreload\n",
    "%autoreload 2\n",
    "\n",
    "# fix system path\n",
    "import sys\n",
    "sys.path.append(\"/home/jovyan/work\")"
   ]
  },
  {
   "cell_type": "code",
   "execution_count": 3,
   "metadata": {},
   "outputs": [],
   "source": [
    "from src.features.helper_functions import load_sets\n",
    "\n",
    "X_train, y_train, X_val, y_val, X_test = load_sets()"
   ]
  },
  {
   "cell_type": "markdown",
   "metadata": {},
   "source": [
    "## 1. Scaling positive class weight"
   ]
  },
  {
   "cell_type": "markdown",
   "metadata": {},
   "source": [
    "Check the class counts again"
   ]
  },
  {
   "cell_type": "code",
   "execution_count": 4,
   "metadata": {},
   "outputs": [
    {
     "name": "stdout",
     "output_type": "stream",
     "text": [
      "[[   0    1]\n",
      " [1074 5326]]\n"
     ]
    }
   ],
   "source": [
    "# check distribution of the target\n",
    "unique_elements, counts_elements = np.unique(y_train, return_counts=True)\n",
    "print(np.asarray((unique_elements, counts_elements)))"
   ]
  },
  {
   "cell_type": "markdown",
   "metadata": {},
   "source": [
    "The documentation for xgboost suggests that the number to use in the scale_pos_weight argument is the ratio of negative (0) to positive (1).\n",
    "\n",
    "https://xgboost.readthedocs.io/en/latest/tutorials/param_tuning.html\n",
    "https://xgboost.readthedocs.io/en/latest/parameter.html\n",
    "https://stats.stackexchange.com/questions/243207/what-is-the-proper-usage-of-scale-pos-weight-in-xgboost-for-imbalanced-datasets\n",
    "\n",
    "In this case, the positive class outweights the negative, so the imbalance is flipped, therefore our ratio will be <1."
   ]
  },
  {
   "cell_type": "code",
   "execution_count": 5,
   "metadata": {},
   "outputs": [
    {
     "data": {
      "text/plain": [
       "0.2016522718738265"
      ]
     },
     "execution_count": 5,
     "metadata": {},
     "output_type": "execute_result"
    }
   ],
   "source": [
    "1074/5326"
   ]
  },
  {
   "cell_type": "markdown",
   "metadata": {},
   "source": [
    "Ratio is 20% 0 to 1, so for the weights in xgboost use \n",
    "scale_pos_weight=0.2."
   ]
  },
  {
   "cell_type": "markdown",
   "metadata": {},
   "source": [
    "## Train using class weights\n",
    "Use stratified kfold for cross validation - need to use this to assess the effectiveness of applying weights"
   ]
  },
  {
   "cell_type": "code",
   "execution_count": 6,
   "metadata": {},
   "outputs": [],
   "source": [
    "from sklearn.model_selection import StratifiedKFold\n",
    "from sklearn.model_selection import cross_val_score\n",
    "\n",
    "# create kfold object\n",
    "kfold = StratifiedKFold(n_splits=10, shuffle=True, random_state=7)"
   ]
  },
  {
   "cell_type": "code",
   "execution_count": 7,
   "metadata": {},
   "outputs": [],
   "source": [
    "# instatiate model\n",
    "model = XGBClassifier(scale_pos_weight=0.2)"
   ]
  },
  {
   "cell_type": "code",
   "execution_count": 8,
   "metadata": {},
   "outputs": [],
   "source": [
    "# evaluate model\n",
    "scores = cross_val_score(model, X_train, y_train, scoring='roc_auc', cv=kfold, n_jobs=-1)"
   ]
  },
  {
   "cell_type": "code",
   "execution_count": 9,
   "metadata": {},
   "outputs": [
    {
     "name": "stdout",
     "output_type": "stream",
     "text": [
      "Mean ROC AUC: 0.64356\n"
     ]
    }
   ],
   "source": [
    "# summarise performance\n",
    "print('Mean ROC AUC: %.5f' % np.mean(scores))"
   ]
  },
  {
   "cell_type": "code",
   "execution_count": 10,
   "metadata": {},
   "outputs": [
    {
     "data": {
      "text/plain": [
       "array([0.67803475, 0.6398976 , 0.63505813, 0.60856376, 0.62532658,\n",
       "       0.60817801, 0.59910192, 0.69287803, 0.64531119, 0.70321637])"
      ]
     },
     "execution_count": 10,
     "metadata": {},
     "output_type": "execute_result"
    }
   ],
   "source": [
    "scores"
   ]
  },
  {
   "cell_type": "markdown",
   "metadata": {},
   "source": [
    "Not the best mean AUC, but the highest fold achieved 0.703. Try a small grid search experiment using a range of weights to see if a slightly different value is better."
   ]
  },
  {
   "cell_type": "code",
   "execution_count": 14,
   "metadata": {},
   "outputs": [],
   "source": [
    "from sklearn.model_selection import GridSearchCV\n",
    "\n",
    "# define grid\n",
    "weights = [0.2, 0.1, 0.3, 0.4]\n",
    "param_grid = dict(scale_pos_weight=weights)\n",
    "\n",
    "# define grid search\n",
    "grid = GridSearchCV(estimator=model, param_grid=param_grid, n_jobs=-1, cv=kfold, scoring='roc_auc')"
   ]
  },
  {
   "cell_type": "code",
   "execution_count": 15,
   "metadata": {},
   "outputs": [
    {
     "name": "stderr",
     "output_type": "stream",
     "text": [
      "/opt/conda/lib/python3.7/site-packages/xgboost/sklearn.py:888: UserWarning: The use of label encoder in XGBClassifier is deprecated and will be removed in a future release. To remove this warning, do the following: 1) Pass option use_label_encoder=False when constructing XGBClassifier object; and 2) Encode your labels (y) as integers starting with 0, i.e. 0, 1, 2, ..., [num_class - 1].\n",
      "  warnings.warn(label_encoder_deprecation_msg, UserWarning)\n"
     ]
    },
    {
     "name": "stdout",
     "output_type": "stream",
     "text": [
      "[09:35:00] WARNING: /home/conda/feedstock_root/build_artifacts/xgboost_1607604574104/work/src/learner.cc:1061: Starting in XGBoost 1.3.0, the default evaluation metric used with the objective 'binary:logistic' was changed from 'error' to 'logloss'. Explicitly set eval_metric if you'd like to restore the old behavior.\n",
      "Best: 0.651327 using {'scale_pos_weight': 0.1}\n",
      "0.643557 (0.034719) with: {'scale_pos_weight': 0.2}\n",
      "0.651327 (0.023777) with: {'scale_pos_weight': 0.1}\n",
      "0.645143 (0.026614) with: {'scale_pos_weight': 0.3}\n",
      "0.636430 (0.022929) with: {'scale_pos_weight': 0.4}\n"
     ]
    }
   ],
   "source": [
    "# execute the grid search\n",
    "grid_result = grid.fit(X_train, y_train)\n",
    "\n",
    "# report the best configuration\n",
    "print(\"Best: %f using %s\" % (grid_result.best_score_, grid_result.best_params_))\n",
    "\n",
    "# report all configurations\n",
    "means = grid_result.cv_results_['mean_test_score']\n",
    "stds = grid_result.cv_results_['std_test_score']\n",
    "params = grid_result.cv_results_['params']\n",
    "for mean, stdev, param in zip(means, stds, params):\n",
    "    print(\"%f (%f) with: %r\" % (mean, stdev, param))"
   ]
  },
  {
   "cell_type": "markdown",
   "metadata": {},
   "source": [
    "The AUC was best with weight at 0.1, which was higher than the mean AUC from above. Try smaller increments between 0.1 and 0.2."
   ]
  },
  {
   "cell_type": "code",
   "execution_count": 17,
   "metadata": {},
   "outputs": [
    {
     "name": "stderr",
     "output_type": "stream",
     "text": [
      "/opt/conda/lib/python3.7/site-packages/xgboost/sklearn.py:888: UserWarning: The use of label encoder in XGBClassifier is deprecated and will be removed in a future release. To remove this warning, do the following: 1) Pass option use_label_encoder=False when constructing XGBClassifier object; and 2) Encode your labels (y) as integers starting with 0, i.e. 0, 1, 2, ..., [num_class - 1].\n",
      "  warnings.warn(label_encoder_deprecation_msg, UserWarning)\n"
     ]
    },
    {
     "name": "stdout",
     "output_type": "stream",
     "text": [
      "[09:55:03] WARNING: /home/conda/feedstock_root/build_artifacts/xgboost_1607604574104/work/src/learner.cc:1061: Starting in XGBoost 1.3.0, the default evaluation metric used with the objective 'binary:logistic' was changed from 'error' to 'logloss'. Explicitly set eval_metric if you'd like to restore the old behavior.\n",
      "Best: 0.643178 using {'scale_pos_weight': 0.15}\n",
      "0.639835 (0.033028) with: {'scale_pos_weight': 0.125}\n",
      "0.643178 (0.028156) with: {'scale_pos_weight': 0.15}\n",
      "0.639867 (0.023654) with: {'scale_pos_weight': 0.175}\n"
     ]
    }
   ],
   "source": [
    "# define grid\n",
    "weights = [0.125, 0.15, 0.175]\n",
    "param_grid = dict(scale_pos_weight=weights)\n",
    "\n",
    "# define grid search\n",
    "grid = GridSearchCV(estimator=model, param_grid=param_grid, n_jobs=-1, cv=kfold, scoring='roc_auc')\n",
    "\n",
    "# execute the grid search\n",
    "grid_result = grid.fit(X_train, y_train)\n",
    "\n",
    "# report the best configuration\n",
    "print(\"Best: %f using %s\" % (grid_result.best_score_, grid_result.best_params_))\n",
    "\n",
    "# report all configurations\n",
    "means = grid_result.cv_results_['mean_test_score']\n",
    "stds = grid_result.cv_results_['std_test_score']\n",
    "params = grid_result.cv_results_['params']\n",
    "for mean, stdev, param in zip(means, stds, params):\n",
    "    print(\"%f (%f) with: %r\" % (mean, stdev, param))"
   ]
  },
  {
   "cell_type": "markdown",
   "metadata": {},
   "source": [
    "Smaller increments did not make a difference, use weight = 0.1. \n",
    "\n",
    "Can the AUC score be improved using the previous tuned model with this added weight parameter?"
   ]
  },
  {
   "cell_type": "code",
   "execution_count": 11,
   "metadata": {},
   "outputs": [],
   "source": [
    "# load previous model\n",
    "# from joblib import load\n",
    "# model_best_params = load('../models/rex_xgb_gridsearch.joblib')"
   ]
  },
  {
   "cell_type": "markdown",
   "metadata": {},
   "source": [
    "## Use weight scale with previous best model parameters"
   ]
  },
  {
   "cell_type": "code",
   "execution_count": 18,
   "metadata": {},
   "outputs": [],
   "source": [
    "# instantiate model with weights and best params\n",
    "model = XGBClassifier(max_depth = 2, n_estimators = 140, learning_rate = 0.05, scale_pos_weight=0.1)"
   ]
  },
  {
   "cell_type": "code",
   "execution_count": 19,
   "metadata": {},
   "outputs": [
    {
     "name": "stdout",
     "output_type": "stream",
     "text": [
      "[10:50:16] WARNING: /home/conda/feedstock_root/build_artifacts/xgboost_1607604574104/work/src/learner.cc:1061: Starting in XGBoost 1.3.0, the default evaluation metric used with the objective 'binary:logistic' was changed from 'error' to 'logloss'. Explicitly set eval_metric if you'd like to restore the old behavior.\n"
     ]
    }
   ],
   "source": [
    "# fit model\n",
    "model_weight_bp = model.fit(X_train, y_train)"
   ]
  },
  {
   "cell_type": "code",
   "execution_count": 20,
   "metadata": {},
   "outputs": [],
   "source": [
    "from src.features.helper_functions import save_model"
   ]
  },
  {
   "cell_type": "code",
   "execution_count": 21,
   "metadata": {},
   "outputs": [
    {
     "name": "stdout",
     "output_type": "stream",
     "text": [
      "Model saved succesfully\n"
     ]
    }
   ],
   "source": [
    "save_model(model_weight_bp, 'rez_xgb_bestparam_weight')"
   ]
  },
  {
   "cell_type": "markdown",
   "metadata": {},
   "source": [
    "## Predict on train & val set"
   ]
  },
  {
   "cell_type": "code",
   "execution_count": 22,
   "metadata": {},
   "outputs": [],
   "source": [
    "# predict class\n",
    "y_train_preds = model_weight_bp.predict(X_train)\n",
    "y_val_preds = model_weight_bp.predict(X_val)"
   ]
  },
  {
   "cell_type": "code",
   "execution_count": 23,
   "metadata": {},
   "outputs": [],
   "source": [
    "# predict proabilities\n",
    "y_train_preds_prob = model_weight_bp.predict_proba(X_train)\n",
    "y_val_preds_prob = model_weight_bp.predict_proba(X_val)"
   ]
  },
  {
   "cell_type": "markdown",
   "metadata": {},
   "source": [
    "#### Train set metrics"
   ]
  },
  {
   "cell_type": "code",
   "execution_count": 31,
   "metadata": {},
   "outputs": [
    {
     "name": "stdout",
     "output_type": "stream",
     "text": [
      "Accuracy: 40.59%\n",
      "Precision: 95.74% \n",
      "Recall: 29.95% \n",
      "AUC: 61.668% \n",
      "              precision    recall  f1-score   support\n",
      "\n",
      "           0       0.21      0.93      0.35      1074\n",
      "           1       0.96      0.30      0.46      5326\n",
      "\n",
      "    accuracy                           0.41      6400\n",
      "   macro avg       0.58      0.62      0.40      6400\n",
      "weighted avg       0.83      0.41      0.44      6400\n",
      "\n"
     ]
    },
    {
     "data": {
      "text/plain": [
       "array([[1003,   71],\n",
       "       [3731, 1595]])"
      ]
     },
     "execution_count": 31,
     "metadata": {},
     "output_type": "execute_result"
    }
   ],
   "source": [
    "from sklearn.metrics import roc_auc_score ,recall_score, precision_score, accuracy_score, classification_report, confusion_matrix\n",
    "    \n",
    "accuracy = accuracy_score(y_train, y_train_preds)\n",
    "precision=precision_score(y_train, y_train_preds)\n",
    "recall=recall_score(y_train, y_train_preds)\n",
    "roc=roc_auc_score(y_train, y_train_preds)\n",
    "\n",
    "print(\"Accuracy: %.2f%%\" % (accuracy * 100.0))\n",
    "print(\"Precision: %.2f%% \" % (precision *100))\n",
    "print(\"Recall: %.2f%% \" % (recall * 100))\n",
    "print(\"AUC: %.3f%% \" % (roc *100))\n",
    "\n",
    "class_report = classification_report(y_train, y_train_preds)\n",
    "print(class_report)\n",
    "\n",
    "confusion_matrix(y_train,y_train_preds)  "
   ]
  },
  {
   "cell_type": "code",
   "execution_count": 34,
   "metadata": {},
   "outputs": [
    {
     "data": {
      "text/plain": [
       "0.7343423848853627"
      ]
     },
     "execution_count": 34,
     "metadata": {},
     "output_type": "execute_result"
    }
   ],
   "source": [
    "roc_auc_score(y_train, y_train_preds_prob[:,1])"
   ]
  },
  {
   "cell_type": "code",
   "execution_count": 33,
   "metadata": {},
   "outputs": [
    {
     "data": {
      "image/png": "[encoded data removed]",
      "text/plain": [
       "<Figure size 432x288 with 2 Axes>"
      ]
     },
     "metadata": {
      "needs_background": "light"
     },
     "output_type": "display_data"
    }
   ],
   "source": [
    "from sklearn.metrics import plot_confusion_matrix\n",
    "\n",
    "plot_confusion_matrix(model_weight_bp, X_train, y_train, cmap=plt.cm.Blues, values_format='4d')  \n",
    "plt.show() "
   ]
  },
  {
   "cell_type": "markdown",
   "metadata": {},
   "source": [
    "#### val set metrics"
   ]
  },
  {
   "cell_type": "code",
   "execution_count": 35,
   "metadata": {},
   "outputs": [
    {
     "name": "stdout",
     "output_type": "stream",
     "text": [
      "Validation Accuracy: 39.88%\n",
      "Validation Precision: 95.68% \n",
      "Validation Recall: 29.71% \n",
      "Validation AUC: 61.353% \n",
      "              precision    recall  f1-score   support\n",
      "\n",
      "           0       0.20      0.93      0.33       257\n",
      "           1       0.96      0.30      0.45      1343\n",
      "\n",
      "    accuracy                           0.40      1600\n",
      "   macro avg       0.58      0.61      0.39      1600\n",
      "weighted avg       0.84      0.40      0.43      1600\n",
      "\n"
     ]
    },
    {
     "data": {
      "text/plain": [
       "array([[239,  18],\n",
       "       [944, 399]])"
      ]
     },
     "execution_count": 35,
     "metadata": {},
     "output_type": "execute_result"
    }
   ],
   "source": [
    "accuracy = accuracy_score(y_val, y_val_preds)\n",
    "precision=precision_score(y_val, y_val_preds)\n",
    "recall=recall_score(y_val, y_val_preds)\n",
    "roc=roc_auc_score(y_val, y_val_preds)\n",
    "\n",
    "print(\"Validation Accuracy: %.2f%%\" % (accuracy * 100.0))\n",
    "print(\"Validation Precision: %.2f%% \" % (precision *100))\n",
    "print(\"Validation Recall: %.2f%% \" % (recall * 100))\n",
    "print(\"Validation AUC: %.3f%% \" % (roc *100))\n",
    "\n",
    "class_report = classification_report(y_val, y_val_preds)\n",
    "print(class_report)\n",
    "\n",
    "confusion_matrix(y_val, y_val_preds) "
   ]
  },
  {
   "cell_type": "code",
   "execution_count": 39,
   "metadata": {},
   "outputs": [
    {
     "data": {
      "image/png": "[encoded data removed]",
      "text/plain": [
       "<Figure size 432x288 with 2 Axes>"
      ]
     },
     "metadata": {
      "needs_background": "light"
     },
     "output_type": "display_data"
    }
   ],
   "source": [
    "plot_confusion_matrix(model_weight_bp, X_val, y_val, cmap=plt.cm.Blues, values_format='4d')  \n",
    "plt.show() "
   ]
  },
  {
   "cell_type": "code",
   "execution_count": 40,
   "metadata": {},
   "outputs": [
    {
     "data": {
      "text/plain": [
       "0.7034413923181447"
      ]
     },
     "execution_count": 40,
     "metadata": {},
     "output_type": "execute_result"
    }
   ],
   "source": [
    "roc_auc_score(y_val, y_val_preds_prob[:,1])"
   ]
  },
  {
   "cell_type": "code",
   "execution_count": 41,
   "metadata": {},
   "outputs": [],
   "source": [
    "from sklearn.metrics import roc_curve\n",
    "\n",
    "# roc curve for models\n",
    "fpr, tpr, thresh = roc_curve(y_val, y_val_preds_prob[:,1], pos_label=1)\n",
    "\n",
    "# roc curve for tpr = fpr \n",
    "random_probs = [0 for i in range(len(y_val))]\n",
    "p_fpr, p_tpr, _ = roc_curve(y_val, random_probs, pos_label=1)"
   ]
  },
  {
   "cell_type": "code",
   "execution_count": 43,
   "metadata": {},
   "outputs": [
    {
     "data": {
      "image/png": "[encoded data removed]",
      "text/plain": [
       "<Figure size 576x396 with 1 Axes>"
      ]
     },
     "metadata": {},
     "output_type": "display_data"
    }
   ],
   "source": [
    "# use matplotlib to plot ROC curve\n",
    "plt.style.use('seaborn')\n",
    "\n",
    "# plot roc curves\n",
    "plt.plot(fpr, tpr, linestyle='--',color='orange', label='Weight & best params')\n",
    "plt.plot(p_fpr, p_tpr, linestyle='--', color='blue')\n",
    "# title\n",
    "plt.title('ROC curve')\n",
    "# x label\n",
    "plt.xlabel('False Positive Rate')\n",
    "# y label\n",
    "plt.ylabel('True Positive rate')\n",
    "\n",
    "plt.legend(loc='best')\n",
    "plt.savefig('../src/visualization/Rez XGBoost weight best params',dpi=300)\n",
    "plt.show()"
   ]
  },
  {
   "cell_type": "markdown",
   "metadata": {},
   "source": [
    "The AUC scores for the training and validation sets are slightly higher than the previous experiment (by about 0.002) but have not moved closer i.e. the model is still not predicting more generally.\n",
    "\n",
    "\"write more about the fp and fn rates\"\n",
    "\n",
    "This demonstrates that ..."
   ]
  },
  {
   "cell_type": "code",
   "execution_count": 44,
   "metadata": {},
   "outputs": [],
   "source": [
    "y_test_preds = model_weight_bp.predict(X_test)\n",
    "y_test_preds_prob = model_weight_bp.predict_proba(X_test)"
   ]
  },
  {
   "cell_type": "code",
   "execution_count": 45,
   "metadata": {},
   "outputs": [
    {
     "name": "stdout",
     "output_type": "stream",
     "text": [
      "[0 0 1 ... 0 1 0]\n",
      "[[0.6821836  0.31781635]\n",
      " [0.6827359  0.3172641 ]\n",
      " [0.4022969  0.5977031 ]\n",
      " ...\n",
      " [0.74759483 0.2524052 ]\n",
      " [0.3700593  0.6299407 ]\n",
      " [0.69436973 0.30563027]]\n"
     ]
    }
   ],
   "source": [
    "print(y_test_preds)\n",
    "print(y_test_preds_prob)"
   ]
  },
  {
   "cell_type": "code",
   "execution_count": 46,
   "metadata": {},
   "outputs": [
    {
     "name": "stdout",
     "output_type": "stream",
     "text": [
      "[[   0    1]\n",
      " [2753 1046]]\n"
     ]
    }
   ],
   "source": [
    "unique_elements, counts_elements = np.unique(y_test_preds, return_counts=True)\n",
    "print(np.asarray((unique_elements, counts_elements)))"
   ]
  },
  {
   "cell_type": "code",
   "execution_count": 48,
   "metadata": {},
   "outputs": [],
   "source": [
    "from src.features.helper_functions import create_output"
   ]
  },
  {
   "cell_type": "code",
   "execution_count": 52,
   "metadata": {},
   "outputs": [],
   "source": [
    "output = create_output(X_test, y_test_preds_prob)"
   ]
  },
  {
   "cell_type": "code",
   "execution_count": 53,
   "metadata": {},
   "outputs": [],
   "source": [
    "# save to csv\n",
    "output.to_csv('../data/processed/output_xgboost_weight_bp_wk2.csv',index=False)"
   ]
  },
  {
   "cell_type": "code",
   "execution_count": null,
   "metadata": {},
   "outputs": [],
   "source": []
  },
  {
   "cell_type": "markdown",
   "metadata": {},
   "source": [
    "# 2. Upsampling the minority class 0"
   ]
  },
  {
   "cell_type": "code",
   "execution_count": null,
   "metadata": {},
   "outputs": [],
   "source": []
  }
 ],
 "metadata": {
  "kernelspec": {
   "display_name": "Python 3",
   "language": "python",
   "name": "python3"
  },
  "language_info": {
   "codemirror_mode": {
    "name": "ipython",
    "version": 3
   },
   "file_extension": ".py",
   "mimetype": "text/x-python",
   "name": "python",
   "nbconvert_exporter": "python",
   "pygments_lexer": "ipython3",
   "version": "3.7.6"
  }
 },
 "nbformat": 4,
 "nbformat_minor": 4
}
