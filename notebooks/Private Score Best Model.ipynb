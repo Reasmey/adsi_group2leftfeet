{
 "cells": [
  {
   "cell_type": "code",
   "execution_count": 1,
   "metadata": {},
   "outputs": [],
   "source": [
    "# Model prediction using LogisticRegression with upsampling and using liblinear with predict proba\n",
    "\n",
    "# Import all necessary packages\n",
    "import pandas as pd\n",
    "import numpy as np\n",
    "from sklearn.linear_model import LogisticRegression\n",
    "from sklearn.metrics import mean_squared_error as mse\n",
    "from sklearn.metrics import mean_absolute_error as mae\n",
    "from sklearn.preprocessing import StandardScaler\n",
    "from sklearn.model_selection import train_test_split\n",
    "from sklearn.metrics import accuracy_score\n",
    "from sklearn.metrics import roc_auc_score\n",
    "from sklearn.metrics import f1_score\n",
    "from sklearn.metrics import recall_score"
   ]
  },
  {
   "cell_type": "code",
   "execution_count": 2,
   "metadata": {},
   "outputs": [
    {
     "name": "stdout",
     "output_type": "stream",
     "text": [
      "[[ 0.93005882 -1.73183431  1.00610018 ... -0.05507101  0.47321012\n",
      "   0.44674394]\n",
      " [-0.38091406 -1.7314013   0.71400493 ...  0.43214835  0.1966711\n",
      "   0.44674394]\n",
      " [-0.28687803 -1.73096829  1.29819543 ... -0.05507101 -0.90948499\n",
      "   0.44674394]\n",
      " ...\n",
      " [-0.33188458  1.73096829  1.29819543 ... -0.05507101  0.74974914\n",
      "   0.44674394]\n",
      " [-1.39921865  1.7314013  -1.38908087 ...  0.06673383 -1.0477545\n",
      "   0.44674394]\n",
      " [-0.99491401  1.73183431 -0.80489037 ... -0.66409522  0.1966711\n",
      "   0.44674394]]\n",
      "\n",
      "----\n",
      "\n",
      "[6.85697100e+03 7.79850000e+03 6.27778750e+01 1.85766625e+01\n",
      " 7.26708750e+00 2.80703750e+00 6.23121250e+00 4.46089000e+01\n",
      " 2.64525000e-01 8.16562500e-01 1.95837000e+01 1.39252500e+00\n",
      " 1.94778750e+00 7.13658250e+01 1.07783750e+00 2.16850000e+00\n",
      " 3.24530000e+00 1.62451250e+00 6.48687500e-01 2.45212500e-01\n",
      " 1.25776250e+00 8.33625000e-01]\n"
     ]
    }
   ],
   "source": [
    "sample = pd.read_csv(\"sample_submission.csv\")\n",
    "test = pd.read_csv(\"test.csv\")\n",
    "train = pd.read_csv(\"train.csv\")\n",
    "#target = train.pop(\"TARGET_5Yrs\")\n",
    "scaler = StandardScaler()\n",
    "print(scaler.fit_transform(train), end=\"\\n\\n----\\n\\n\")\n",
    "print(scaler.mean_)"
   ]
  },
  {
   "cell_type": "code",
   "execution_count": 3,
   "metadata": {},
   "outputs": [
    {
     "data": {
      "text/plain": [
       "Id_old         0\n",
       "Id             0\n",
       "GP             0\n",
       "MIN            0\n",
       "PTS            0\n",
       "FGM            0\n",
       "FGA            0\n",
       "FG%            0\n",
       "3P Made        0\n",
       "3PA            0\n",
       "3P%            0\n",
       "FTM            0\n",
       "FTA            0\n",
       "FT%            0\n",
       "OREB           0\n",
       "DREB           0\n",
       "REB            0\n",
       "AST            0\n",
       "STL            0\n",
       "BLK            0\n",
       "TOV            0\n",
       "TARGET_5Yrs    0\n",
       "dtype: int64"
      ]
     },
     "execution_count": 3,
     "metadata": {},
     "output_type": "execute_result"
    }
   ],
   "source": [
    "train.isnull().sum()"
   ]
  },
  {
   "cell_type": "code",
   "execution_count": 4,
   "metadata": {},
   "outputs": [
    {
     "data": {
      "text/plain": [
       "Id_old     0\n",
       "Id         0\n",
       "GP         0\n",
       "MIN        0\n",
       "PTS        0\n",
       "FGM        0\n",
       "FGA        0\n",
       "FG%        0\n",
       "3P Made    0\n",
       "3PA        0\n",
       "3P%        0\n",
       "FTM        0\n",
       "FTA        0\n",
       "FT%        0\n",
       "OREB       0\n",
       "DREB       0\n",
       "REB        0\n",
       "AST        0\n",
       "STL        0\n",
       "BLK        0\n",
       "TOV        0\n",
       "dtype: int64"
      ]
     },
     "execution_count": 4,
     "metadata": {},
     "output_type": "execute_result"
    }
   ],
   "source": [
    "test.isnull().sum()"
   ]
  },
  {
   "cell_type": "code",
   "execution_count": 5,
   "metadata": {},
   "outputs": [
    {
     "name": "stdout",
     "output_type": "stream",
     "text": [
      "count    8000.000000\n",
      "mean        0.833625\n",
      "std         0.372440\n",
      "min         0.000000\n",
      "25%         1.000000\n",
      "50%         1.000000\n",
      "75%         1.000000\n",
      "max         1.000000\n",
      "Name: TARGET_5Yrs, dtype: float64\n",
      "\n",
      "-------\n",
      "\n",
      "1    6669\n",
      "0    1331\n",
      "Name: TARGET_5Yrs, dtype: int64\n"
     ]
    }
   ],
   "source": [
    "# Prove that the target variable is imbalance - 83% is \"1\" with 6669 occurences out of 8000 entries\n",
    "print(train.TARGET_5Yrs.describe(),end=\"\\n\\n-------\\n\\n\")\n",
    "print(train.TARGET_5Yrs.value_counts())"
   ]
  },
  {
   "cell_type": "code",
   "execution_count": 6,
   "metadata": {},
   "outputs": [
    {
     "name": "stdout",
     "output_type": "stream",
     "text": [
      "<class 'pandas.core.frame.DataFrame'>\n",
      "RangeIndex: 8000 entries, 0 to 7999\n",
      "Data columns (total 22 columns):\n",
      "Id_old         8000 non-null int64\n",
      "Id             8000 non-null int64\n",
      "GP             8000 non-null int64\n",
      "MIN            8000 non-null float64\n",
      "PTS            8000 non-null float64\n",
      "FGM            8000 non-null float64\n",
      "FGA            8000 non-null float64\n",
      "FG%            8000 non-null float64\n",
      "3P Made        8000 non-null float64\n",
      "3PA            8000 non-null float64\n",
      "3P%            8000 non-null float64\n",
      "FTM            8000 non-null float64\n",
      "FTA            8000 non-null float64\n",
      "FT%            8000 non-null float64\n",
      "OREB           8000 non-null float64\n",
      "DREB           8000 non-null float64\n",
      "REB            8000 non-null float64\n",
      "AST            8000 non-null float64\n",
      "STL            8000 non-null float64\n",
      "BLK            8000 non-null float64\n",
      "TOV            8000 non-null float64\n",
      "TARGET_5Yrs    8000 non-null int64\n",
      "dtypes: float64(18), int64(4)\n",
      "memory usage: 1.3 MB\n"
     ]
    }
   ],
   "source": [
    "train.info()"
   ]
  },
  {
   "cell_type": "code",
   "execution_count": 7,
   "metadata": {},
   "outputs": [],
   "source": [
    "from sklearn.utils import resample\n",
    "\n",
    "# separate 1s and 0s\n",
    "\n",
    "fiveyears = train[train.TARGET_5Yrs==1]\n",
    "lessyears = train[train.TARGET_5Yrs==0]\n",
    "\n",
    "# upsampling minority\n",
    "lessyears_upsampled = resample(lessyears, replace=True, n_samples=len(fiveyears), random_state=123)\n",
    "\n",
    "# combine fiveyears and lessyears_unsampled\n",
    "up_sampling=pd.concat([fiveyears, lessyears_upsampled])"
   ]
  },
  {
   "cell_type": "code",
   "execution_count": 8,
   "metadata": {},
   "outputs": [
    {
     "data": {
      "text/plain": [
       "1    6669\n",
       "0    6669\n",
       "Name: TARGET_5Yrs, dtype: int64"
      ]
     },
     "execution_count": 8,
     "metadata": {},
     "output_type": "execute_result"
    }
   ],
   "source": [
    "# check new class counts\n",
    "up_sampling.TARGET_5Yrs.value_counts()"
   ]
  },
  {
   "cell_type": "code",
   "execution_count": 9,
   "metadata": {},
   "outputs": [],
   "source": [
    "# Create a target dataframe\n",
    "target = up_sampling.pop(\"TARGET_5Yrs\")"
   ]
  },
  {
   "cell_type": "code",
   "execution_count": 10,
   "metadata": {},
   "outputs": [],
   "source": [
    "X_train, X_val, y_train, y_val = train_test_split(up_sampling, target, test_size=0.2, random_state=8)"
   ]
  },
  {
   "cell_type": "code",
   "execution_count": 11,
   "metadata": {},
   "outputs": [
    {
     "data": {
      "text/plain": [
       "LogisticRegression(solver='liblinear')"
      ]
     },
     "execution_count": 11,
     "metadata": {},
     "output_type": "execute_result"
    }
   ],
   "source": [
    "# Instantiate LogisticRegression Class into reg\n",
    "reg = LogisticRegression(solver='liblinear')\n",
    "\n",
    "# fitting\n",
    "reg.fit(X_train,y_train)"
   ]
  },
  {
   "cell_type": "code",
   "execution_count": 33,
   "metadata": {},
   "outputs": [],
   "source": [
    "# predictions probability\n",
    "y_train_preds = reg.predict_proba(X_train)[:,1]\n",
    "y_val_preds = reg.predict_proba(X_val)[:,1]"
   ]
  },
  {
   "cell_type": "code",
   "execution_count": 34,
   "metadata": {},
   "outputs": [
    {
     "name": "stdout",
     "output_type": "stream",
     "text": [
      "Train RMSE - 0.4656553764838133\n",
      "Train MAE - 0.43396152580674635\n",
      "Val RMSE - 0.4665964404250694\n",
      "Val MAE - 0.4345550671733113\n",
      "Train AUROC score: 0.7066710289404331\n",
      "Validation AUROC score: 0.7047796299293305\n"
     ]
    }
   ],
   "source": [
    "#RMSE and MAE scores for this model on training set and validation set\n",
    "print(\"Train RMSE - \" + str(mse(y_train, y_train_preds, squared=False)))\n",
    "print(\"Train MAE - \" + str(mae(y_train, y_train_preds)))\n",
    "print(\"Val RMSE - \" + str(mse(y_val, y_val_preds, squared=False)))\n",
    "print(\"Val MAE - \" + str(mae(y_val, y_val_preds)))\n",
    "\n",
    "# AUROC scores\n",
    "print('Train AUROC score:',roc_auc_score(y_train,y_train_preds))\n",
    "print('Validation AUROC score:', roc_auc_score(y_val,y_val_preds))"
   ]
  },
  {
   "cell_type": "code",
   "execution_count": 35,
   "metadata": {},
   "outputs": [],
   "source": [
    "# prepare submission\n",
    "y_test_preds = reg.predict_proba(test)[:,1]"
   ]
  },
  {
   "cell_type": "code",
   "execution_count": 37,
   "metadata": {},
   "outputs": [
    {
     "name": "stdout",
     "output_type": "stream",
     "text": [
      "[]\n",
      "[]\n"
     ]
    }
   ],
   "source": [
    "# check if there is out of binary values\n",
    "print(list(y_test_preds[y_test_preds > 1]))\n",
    "print(list(y_test_preds[y_test_preds < 0]))"
   ]
  },
  {
   "cell_type": "code",
   "execution_count": 38,
   "metadata": {},
   "outputs": [],
   "source": [
    "submission = pd.DataFrame({'Id':test['Id'],'TARGET_5Yrs':y_test_preds})\n",
    "submission.to_csv('submission_week_2_9.csv',index=False)"
   ]
  },
  {
   "cell_type": "code",
   "execution_count": 43,
   "metadata": {},
   "outputs": [
    {
     "data": {
      "text/plain": [
       "['LogisticRegression_upsampling_liblinear_predict_proba_1.joblib']"
      ]
     },
     "execution_count": 43,
     "metadata": {},
     "output_type": "execute_result"
    }
   ],
   "source": [
    "from joblib import dump  \n",
    "\n",
    "dump(reg,  'LogisticRegression_upsampling_liblinear_predict_proba_1.joblib')"
   ]
  },
  {
   "cell_type": "code",
   "execution_count": 40,
   "metadata": {},
   "outputs": [
    {
     "name": "stdout",
     "output_type": "stream",
     "text": [
      "Train RMSE - 0.590687631523455\n",
      "Train MAE - 0.5660384741932536\n",
      "Val RMSE - 0.5904253584245199\n",
      "Val MAE - 0.5654449328266887\n",
      "Train AUROC score: 0.293328971059567\n",
      "Validation AUROC score: 0.2952203700706695\n",
      "[]\n",
      "[]\n"
     ]
    }
   ],
   "source": [
    "# use predict proba 0\n",
    "# predictions probability\n",
    "y_train_preds = reg.predict_proba(X_train)[:,0]\n",
    "y_val_preds = reg.predict_proba(X_val)[:,0]\n",
    "\n",
    "#RMSE and MAE scores for this model on training set and validation set\n",
    "print(\"Train RMSE - \" + str(mse(y_train, y_train_preds, squared=False)))\n",
    "print(\"Train MAE - \" + str(mae(y_train, y_train_preds)))\n",
    "print(\"Val RMSE - \" + str(mse(y_val, y_val_preds, squared=False)))\n",
    "print(\"Val MAE - \" + str(mae(y_val, y_val_preds)))\n",
    "\n",
    "# AUROC scores\n",
    "print('Train AUROC score:',roc_auc_score(y_train,y_train_preds))\n",
    "print('Validation AUROC score:', roc_auc_score(y_val,y_val_preds))\n",
    "\n",
    "# prepare submission\n",
    "y_test_preds = reg.predict_proba(test)[:,0]\n",
    "\n",
    "# check if there is out of binary values\n",
    "print(list(y_test_preds[y_test_preds > 1]))\n",
    "print(list(y_test_preds[y_test_preds < 0]))"
   ]
  },
  {
   "cell_type": "code",
   "execution_count": 41,
   "metadata": {},
   "outputs": [],
   "source": [
    "submission = pd.DataFrame({'Id':test['Id'],'TARGET_5Yrs':y_test_preds})\n",
    "submission.to_csv('submission_week_2_10.csv',index=False)"
   ]
  },
  {
   "cell_type": "code",
   "execution_count": 42,
   "metadata": {},
   "outputs": [
    {
     "data": {
      "text/plain": [
       "['LogisticRegression_upsampling_liblinear_predict_proba_0.joblib']"
      ]
     },
     "execution_count": 42,
     "metadata": {},
     "output_type": "execute_result"
    }
   ],
   "source": [
    "from joblib import dump  \n",
    "\n",
    "dump(reg,  'LogisticRegression_upsampling_liblinear_predict_proba_0.joblib')"
   ]
  },
  {
   "cell_type": "code",
   "execution_count": null,
   "metadata": {},
   "outputs": [],
   "source": []
  }
 ],
 "metadata": {
  "kernelspec": {
   "display_name": "Python 3",
   "language": "python",
   "name": "python3"
  },
  "language_info": {
   "codemirror_mode": {
    "name": "ipython",
    "version": 3
   },
   "file_extension": ".py",
   "mimetype": "text/x-python",
   "name": "python",
   "nbconvert_exporter": "python",
   "pygments_lexer": "ipython3",
   "version": "3.7.6"
  }
 },
 "nbformat": 4,
 "nbformat_minor": 4
}
