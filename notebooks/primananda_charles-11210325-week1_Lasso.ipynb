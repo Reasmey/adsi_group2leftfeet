{
 "cells": [
  {
   "cell_type": "code",
   "execution_count": 2,
   "metadata": {},
   "outputs": [],
   "source": [
    "# Model prediction using Lasso\n",
    "\n",
    "# Import all necessary packages\n",
    "import pandas as pd\n",
    "import numpy as np\n",
    "from sklearn.linear_model import Lasso\n",
    "from sklearn.metrics import mean_squared_error as mse\n",
    "from sklearn.metrics import mean_absolute_error as mae\n",
    "from sklearn.preprocessing import StandardScaler\n",
    "from sklearn.model_selection import train_test_split\n",
    "from sklearn.metrics import accuracy_score"
   ]
  },
  {
   "cell_type": "code",
   "execution_count": 3,
   "metadata": {},
   "outputs": [
    {
     "data": {
      "text/plain": [
       "array([[ 0.93005882, -1.73183431,  1.00610018, ...,  1.1072419 ,\n",
       "        -0.05507101,  0.47321012],\n",
       "       [-0.38091406, -1.7314013 ,  0.71400493, ..., -0.36478721,\n",
       "         0.43214835,  0.1966711 ],\n",
       "       [-0.28687803, -1.73096829,  1.29819543, ..., -0.6101254 ,\n",
       "        -0.05507101, -0.90948499],\n",
       "       ...,\n",
       "       [-0.33188458,  1.73096829,  1.29819543, ...,  1.35258008,\n",
       "        -0.05507101,  0.74974914],\n",
       "       [-1.39921865,  1.7314013 , -1.38908087, ..., -0.85546358,\n",
       "         0.06673383, -1.0477545 ],\n",
       "       [-0.99491401,  1.73183431, -0.80489037, ...,  0.61656553,\n",
       "        -0.66409522,  0.1966711 ]])"
      ]
     },
     "execution_count": 3,
     "metadata": {},
     "output_type": "execute_result"
    }
   ],
   "source": [
    "sample = pd.read_csv(\"sample_submission.csv\")\n",
    "test = pd.read_csv(\"test.csv\")\n",
    "train = pd.read_csv(\"train.csv\")\n",
    "target = train.pop(\"TARGET_5Yrs\")\n",
    "scaler = StandardScaler()\n",
    "scaler.fit_transform(train)"
   ]
  },
  {
   "cell_type": "code",
   "execution_count": 4,
   "metadata": {},
   "outputs": [],
   "source": [
    "X_train, X_val, y_train, y_val = train_test_split(train, target, test_size=0.2, random_state=8)"
   ]
  },
  {
   "cell_type": "code",
   "execution_count": 5,
   "metadata": {},
   "outputs": [
    {
     "data": {
      "text/plain": [
       "Lasso()"
      ]
     },
     "execution_count": 5,
     "metadata": {},
     "output_type": "execute_result"
    }
   ],
   "source": [
    "# Instantiate Lasso Class into reg\n",
    "reg = Lasso(max_iter=1000)\n",
    "\n",
    "# fitting\n",
    "reg.fit(X_train,y_train)"
   ]
  },
  {
   "cell_type": "code",
   "execution_count": 6,
   "metadata": {},
   "outputs": [],
   "source": [
    "# predictions\n",
    "y_train_preds = reg.predict(X_train)\n",
    "y_val_preds = reg.predict(X_val)"
   ]
  },
  {
   "cell_type": "code",
   "execution_count": 7,
   "metadata": {},
   "outputs": [
    {
     "name": "stdout",
     "output_type": "stream",
     "text": [
      "Train RMSE - 0.36695727636332515\n",
      "Train MAE - 0.2731470179649823\n",
      "Val RMSE - 0.3613339428307061\n",
      "Val MAE - 0.2690114432300281\n"
     ]
    }
   ],
   "source": [
    "#RMSE and MAE scores for this model on training set and validation set\n",
    "print(\"Train RMSE - \" + str(mse(y_train, y_train_preds, squared=False)))\n",
    "print(\"Train MAE - \" + str(mae(y_train, y_train_preds)))\n",
    "print(\"Val RMSE - \" + str(mse(y_val, y_val_preds, squared=False)))\n",
    "print(\"Val MAE - \" + str(mae(y_val, y_val_preds)))"
   ]
  },
  {
   "cell_type": "code",
   "execution_count": 8,
   "metadata": {},
   "outputs": [],
   "source": [
    "# prepare submission\n",
    "y_test_preds = reg.predict(test)"
   ]
  },
  {
   "cell_type": "code",
   "execution_count": 9,
   "metadata": {},
   "outputs": [
    {
     "name": "stdout",
     "output_type": "stream",
     "text": [
      "[]\n",
      "[]\n"
     ]
    }
   ],
   "source": [
    "# check if there is out of binary values\n",
    "print(list(y_test_preds[y_test_preds > 1]))\n",
    "print(list(y_test_preds[y_test_preds < 0]))"
   ]
  },
  {
   "cell_type": "code",
   "execution_count": 10,
   "metadata": {},
   "outputs": [],
   "source": [
    "submission = pd.DataFrame({'Id':test['Id'],'TARGET_5Yrs':y_test_preds})\n",
    "submission.to_csv('submission_week_1_7_v1.csv',index=False)"
   ]
  },
  {
   "cell_type": "code",
   "execution_count": 11,
   "metadata": {},
   "outputs": [
    {
     "data": {
      "text/plain": [
       "['lasso_base.joblib']"
      ]
     },
     "execution_count": 11,
     "metadata": {},
     "output_type": "execute_result"
    }
   ],
   "source": [
    "from joblib import dump  \n",
    "\n",
    "dump(reg,  'lasso_base.joblib')"
   ]
  },
  {
   "cell_type": "code",
   "execution_count": null,
   "metadata": {},
   "outputs": [],
   "source": []
  }
 ],
 "metadata": {
  "kernelspec": {
   "display_name": "Python 3",
   "language": "python",
   "name": "python3"
  },
  "language_info": {
   "codemirror_mode": {
    "name": "ipython",
    "version": 3
   },
   "file_extension": ".py",
   "mimetype": "text/x-python",
   "name": "python",
   "nbconvert_exporter": "python",
   "pygments_lexer": "ipython3",
   "version": "3.7.6"
  }
 },
 "nbformat": 4,
 "nbformat_minor": 4
}
