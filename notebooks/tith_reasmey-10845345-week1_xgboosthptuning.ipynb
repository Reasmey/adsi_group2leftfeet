{
 "cells": [
  {
   "cell_type": "markdown",
   "metadata": {},
   "source": [
    "# Experiment 1.2 - Xgboost with hyperparameter tuning\n",
    "\n",
    "Use a method to tune hyperparameters for the xgboost model.\n",
    "\n",
    "https://www.mikulskibartosz.name/xgboost-hyperparameter-tuning-in-python-using-grid-search/\n",
    "\n",
    "https://machinelearningmastery.com/tune-number-size-decision-trees-xgboost-python/"
   ]
  },
  {
   "cell_type": "code",
   "execution_count": 1,
   "metadata": {},
   "outputs": [],
   "source": [
    "import pandas as pd\n",
    "import numpy as np\n",
    "import matplotlib.pyplot as plt"
   ]
  },
  {
   "cell_type": "code",
   "execution_count": 2,
   "metadata": {},
   "outputs": [],
   "source": [
    "# import load_data function from helper file \n",
    "%load_ext autoreload\n",
    "%autoreload 2\n",
    "\n",
    "# fix system path\n",
    "import sys\n",
    "sys.path.append(\"/home/jovyan/work\")"
   ]
  },
  {
   "cell_type": "code",
   "execution_count": 3,
   "metadata": {},
   "outputs": [],
   "source": [
    "from src.features.helper_functions import load_sets\n",
    "\n",
    "X_train, y_train, X_val, y_val, X_test = load_sets()"
   ]
  },
  {
   "cell_type": "code",
   "execution_count": 4,
   "metadata": {},
   "outputs": [
    {
     "name": "stdout",
     "output_type": "stream",
     "text": [
      "[[ 7.416e+03  6.400e+01  1.390e+01 ...  4.000e-01  1.000e-01  7.000e-01]\n",
      " [ 4.919e+03  8.100e+01  2.080e+01 ...  6.000e-01  1.000e-01  1.300e+00]\n",
      " [ 7.672e+03  5.000e+01  5.600e+00 ...  4.000e-01 -3.000e-01  3.000e-01]\n",
      " ...\n",
      " [ 5.832e+03  5.500e+01  1.560e+01 ...  5.000e-01  3.000e-01  8.000e-01]\n",
      " [ 5.163e+03  9.100e+01  4.790e+01 ...  9.000e-01  6.000e-01  1.600e+00]\n",
      " [ 8.346e+03  6.700e+01  2.640e+01 ...  6.000e-01  2.400e+00  1.000e+00]]\n",
      "[[9.0960e+03 4.2000e+01 7.4000e+00 ... 3.0000e-01 0.0000e+00 3.0000e-01]\n",
      " [1.1122e+04 5.9000e+01 1.2600e+01 ... 4.0000e-01 2.0000e-01 1.0000e+00]\n",
      " [1.1247e+04 7.0000e+01 1.6100e+01 ... 4.0000e-01 4.0000e-01 1.4000e+00]\n",
      " ...\n",
      " [1.0720e+04 6.7000e+01 2.3800e+01 ... 1.1000e+00 3.0000e-01 1.9000e+00]\n",
      " [7.6770e+03 4.4000e+01 2.0200e+01 ... 7.0000e-01 4.0000e-01 1.3000e+00]\n",
      " [1.1406e+04 7.9000e+01 2.8500e+01 ... 1.2000e+00 1.0000e-01 3.0000e+00]]\n"
     ]
    }
   ],
   "source": [
    "print(X_train)\n",
    "print(X_val)"
   ]
  },
  {
   "cell_type": "markdown",
   "metadata": {},
   "source": [
    "## Create grid search parameters"
   ]
  },
  {
   "cell_type": "code",
   "execution_count": 5,
   "metadata": {},
   "outputs": [],
   "source": [
    "# pip install xgboost -- run this if xgboost doesn't load\n",
    "from xgboost import XGBClassifier\n",
    "from sklearn.model_selection import GridSearchCV"
   ]
  },
  {
   "cell_type": "code",
   "execution_count": 6,
   "metadata": {},
   "outputs": [],
   "source": [
    "# instatiate xgboost \n",
    "model = XGBClassifier(seed=42)"
   ]
  },
  {
   "cell_type": "code",
   "execution_count": 7,
   "metadata": {},
   "outputs": [],
   "source": [
    "# define parameters to try\n",
    "parameters = {\n",
    "    'max_depth': range (2, 10, 1),\n",
    "    'n_estimators': range(60, 220, 40),\n",
    "    'learning_rate': [0.1, 0.01, 0.05]\n",
    "}"
   ]
  },
  {
   "cell_type": "code",
   "execution_count": 8,
   "metadata": {},
   "outputs": [],
   "source": [
    "grid_search = GridSearchCV(\n",
    "    estimator=model,\n",
    "    param_grid=parameters,\n",
    "    scoring = 'roc_auc', # use roc_auc to score\n",
    "    n_jobs = -1, # use all available processors\n",
    "    cv = 10, # no of folds for cross validation\n",
    "    verbose=3 # display all info as the model trains\n",
    ")"
   ]
  },
  {
   "cell_type": "code",
   "execution_count": 9,
   "metadata": {},
   "outputs": [
    {
     "name": "stdout",
     "output_type": "stream",
     "text": [
      "Fitting 10 folds for each of 96 candidates, totalling 960 fits\n"
     ]
    },
    {
     "name": "stderr",
     "output_type": "stream",
     "text": [
      "[Parallel(n_jobs=-1)]: Using backend LokyBackend with 2 concurrent workers.\n",
      "[Parallel(n_jobs=-1)]: Done  28 tasks      | elapsed:   43.6s\n",
      "[Parallel(n_jobs=-1)]: Done 124 tasks      | elapsed:  6.9min\n",
      "[Parallel(n_jobs=-1)]: Done 284 tasks      | elapsed: 30.1min\n",
      "[Parallel(n_jobs=-1)]: Done 508 tasks      | elapsed: 56.5min\n",
      "[Parallel(n_jobs=-1)]: Done 796 tasks      | elapsed: 98.7min\n",
      "[Parallel(n_jobs=-1)]: Done 960 out of 960 | elapsed: 132.2min finished\n",
      "/opt/conda/lib/python3.7/site-packages/xgboost/sklearn.py:888: UserWarning: The use of label encoder in XGBClassifier is deprecated and will be removed in a future release. To remove this warning, do the following: 1) Pass option use_label_encoder=False when constructing XGBClassifier object; and 2) Encode your labels (y) as integers starting with 0, i.e. 0, 1, 2, ..., [num_class - 1].\n",
      "  warnings.warn(label_encoder_deprecation_msg, UserWarning)\n"
     ]
    },
    {
     "name": "stdout",
     "output_type": "stream",
     "text": [
      "[14:41:58] WARNING: ../src/learner.cc:1061: Starting in XGBoost 1.3.0, the default evaluation metric used with the objective 'binary:logistic' was changed from 'error' to 'logloss'. Explicitly set eval_metric if you'd like to restore the old behavior.\n"
     ]
    }
   ],
   "source": [
    "# train\n",
    "grid_result = grid_search.fit(X_train, y_train)"
   ]
  },
  {
   "cell_type": "code",
   "execution_count": 10,
   "metadata": {},
   "outputs": [
    {
     "name": "stdout",
     "output_type": "stream",
     "text": [
      "Best: 0.699132 using {'learning_rate': 0.05, 'max_depth': 2, 'n_estimators': 140}\n"
     ]
    }
   ],
   "source": [
    "# from sklearn.model_selection import StratifiedKFold\n",
    "# kfold = StratifiedKFold(n_splits=10, shuffle=True, random_state=7)\n",
    "\n",
    "# summarise results\n",
    "print(\"Best: %f using %s\" % (grid_result.best_score_, grid_result.best_params_))"
   ]
  },
  {
   "cell_type": "markdown",
   "metadata": {},
   "source": [
    "## Train the model using best parameters"
   ]
  },
  {
   "cell_type": "code",
   "execution_count": 12,
   "metadata": {},
   "outputs": [],
   "source": [
    "# Train using best parameters\n",
    "model = XGBClassifier(max_depth = 2, n_estimators = 140, learning_rate = 0.05)"
   ]
  },
  {
   "cell_type": "code",
   "execution_count": 13,
   "metadata": {},
   "outputs": [
    {
     "name": "stdout",
     "output_type": "stream",
     "text": [
      "[01:53:58] WARNING: ../src/learner.cc:1061: Starting in XGBoost 1.3.0, the default evaluation metric used with the objective 'binary:logistic' was changed from 'error' to 'logloss'. Explicitly set eval_metric if you'd like to restore the old behavior.\n"
     ]
    }
   ],
   "source": [
    "model_best_params = model.fit(X_train, y_train)"
   ]
  },
  {
   "cell_type": "code",
   "execution_count": 14,
   "metadata": {},
   "outputs": [],
   "source": [
    "from src.features.helper_functions import save_model"
   ]
  },
  {
   "cell_type": "code",
   "execution_count": 16,
   "metadata": {},
   "outputs": [
    {
     "name": "stdout",
     "output_type": "stream",
     "text": [
      "Model saved\n"
     ]
    }
   ],
   "source": [
    "save_model(model_best_params, 'rex_xgb_gridsearch')"
   ]
  },
  {
   "cell_type": "markdown",
   "metadata": {},
   "source": [
    "## Make predictions using validation set"
   ]
  },
  {
   "cell_type": "code",
   "execution_count": 17,
   "metadata": {},
   "outputs": [],
   "source": [
    "# predict class\n",
    "y_train_preds = model_best_params.predict(X_train)\n",
    "y_val_preds = model_best_params.predict(X_val)"
   ]
  },
  {
   "cell_type": "code",
   "execution_count": 18,
   "metadata": {},
   "outputs": [],
   "source": [
    "# predict proabilities\n",
    "y_train_preds_prob = model_best_params.predict_proba(X_train)\n",
    "y_val_preds_prob = model_best_params.predict_proba(X_val)"
   ]
  },
  {
   "cell_type": "code",
   "execution_count": 19,
   "metadata": {},
   "outputs": [],
   "source": [
    "from sklearn.metrics import mean_squared_error as mse\n",
    "from sklearn.metrics import mean_absolute_error as mae"
   ]
  },
  {
   "cell_type": "code",
   "execution_count": 20,
   "metadata": {},
   "outputs": [
    {
     "name": "stdout",
     "output_type": "stream",
     "text": [
      "0.4052391269361832\n",
      "0.16421875\n",
      "0.40543186850567137\n",
      "0.164375\n"
     ]
    }
   ],
   "source": [
    "print(mse(y_train, y_train_preds, squared=False))\n",
    "print(mae(y_train, y_train_preds))\n",
    "\n",
    "print(mse(y_val, y_val_preds, squared=False))\n",
    "print(mae(y_val, y_val_preds))"
   ]
  },
  {
   "cell_type": "code",
   "execution_count": 21,
   "metadata": {},
   "outputs": [
    {
     "name": "stdout",
     "output_type": "stream",
     "text": [
      "Accuracy: 83.56%\n"
     ]
    }
   ],
   "source": [
    "from sklearn.metrics import accuracy_score\n",
    "\n",
    "accuracy = accuracy_score(y_val, y_val_preds)\n",
    "print(\"Accuracy: %.2f%%\" % (accuracy * 100.0))"
   ]
  },
  {
   "cell_type": "code",
   "execution_count": 22,
   "metadata": {},
   "outputs": [],
   "source": [
    "from sklearn.metrics import roc_auc_score ,recall_score, precision_score"
   ]
  },
  {
   "cell_type": "code",
   "execution_count": 23,
   "metadata": {},
   "outputs": [
    {
     "name": "stdout",
     "output_type": "stream",
     "text": [
      "Precision: 84.09% \n",
      "Recall: 99.18% \n",
      "AUC: 50.56% \n"
     ]
    }
   ],
   "source": [
    "precision=precision_score(y_val, y_val_preds)\n",
    "recall=recall_score(y_val, y_val_preds)\n",
    "roc=roc_auc_score(y_val, y_val_preds)\n",
    "print(\"Precision: %.2f%% \" % (precision *100))\n",
    "print(\"Recall: %.2f%% \" % (recall * 100))\n",
    "print(\"AUC: %.2f%% \" % (roc *100))"
   ]
  },
  {
   "cell_type": "code",
   "execution_count": 24,
   "metadata": {},
   "outputs": [
    {
     "data": {
      "text/plain": [
       "0.7322318537150594"
      ]
     },
     "execution_count": 24,
     "metadata": {},
     "output_type": "execute_result"
    }
   ],
   "source": [
    "roc_auc_score(y_train, y_train_preds_prob[:,1])"
   ]
  },
  {
   "cell_type": "code",
   "execution_count": 25,
   "metadata": {},
   "outputs": [
    {
     "data": {
      "text/plain": [
       "0.7025707588852415"
      ]
     },
     "execution_count": 25,
     "metadata": {},
     "output_type": "execute_result"
    }
   ],
   "source": [
    "roc_auc_score(y_val, y_val_preds_prob[:,1])"
   ]
  },
  {
   "cell_type": "code",
   "execution_count": 62,
   "metadata": {},
   "outputs": [
    {
     "data": {
      "image/png": "[encoded data removed]",
      "text/plain": [
       "<Figure size 576x396 with 2 Axes>"
      ]
     },
     "metadata": {},
     "output_type": "display_data"
    }
   ],
   "source": [
    "from sklearn.metrics import plot_confusion_matrix\n",
    "\n",
    "plot_confusion_matrix(model_best_params, X_val, y_val, cmap=plt.cm.Blues)  \n",
    "plt.show() "
   ]
  },
  {
   "cell_type": "markdown",
   "metadata": {},
   "source": [
    "About 250 are being falsely classed as 1, whereas only 11 are being wrongly classed as 0. This may be due to the imbalance majority classs 1, overpowering the 0's. "
   ]
  },
  {
   "cell_type": "markdown",
   "metadata": {},
   "source": [
    "Plot roc curve using code from here https://www.analyticsvidhya.com/blog/2020/06/auc-roc-curve-machine-learning/ "
   ]
  },
  {
   "cell_type": "code",
   "execution_count": 26,
   "metadata": {},
   "outputs": [],
   "source": [
    "from sklearn.metrics import roc_curve\n",
    "\n",
    "# roc curve for models\n",
    "fpr, tpr, thresh = roc_curve(y_val, y_val_preds_prob[:,1], pos_label=1)\n",
    "\n",
    "# roc curve for tpr = fpr \n",
    "random_probs = [0 for i in range(len(y_val))]\n",
    "p_fpr, p_tpr, _ = roc_curve(y_val, random_probs, pos_label=1)"
   ]
  },
  {
   "cell_type": "code",
   "execution_count": 27,
   "metadata": {},
   "outputs": [
    {
     "data": {
      "image/png": "[encoded data removed]",
      "text/plain": [
       "<Figure size 576x396 with 1 Axes>"
      ]
     },
     "metadata": {},
     "output_type": "display_data"
    }
   ],
   "source": [
    "# use matplotlib to plot ROC curve\n",
    "plt.style.use('seaborn')\n",
    "\n",
    "# plot roc curves\n",
    "plt.plot(fpr, tpr, linestyle='--',color='orange', label='XGBoost best params')\n",
    "plt.plot(p_fpr, p_tpr, linestyle='--', color='blue')\n",
    "# title\n",
    "plt.title('ROC curve')\n",
    "# x label\n",
    "plt.xlabel('False Positive Rate')\n",
    "# y label\n",
    "plt.ylabel('True Positive rate')\n",
    "\n",
    "plt.legend(loc='best')\n",
    "plt.savefig('../src/visualisation/Rez XGBoost best params',dpi=300)\n",
    "plt.show()"
   ]
  },
  {
   "cell_type": "markdown",
   "metadata": {},
   "source": [
    "Slight improvement over base model, the AUC is higher at 0.702, but that is still under the current best score on the leaderboard.\n",
    "\n",
    "More paramaters can be tuned, try a few more before moving onto a different model e.g. SVM."
   ]
  },
  {
   "cell_type": "markdown",
   "metadata": {},
   "source": [
    "## Make predictions with test set for Kaggle submission"
   ]
  },
  {
   "cell_type": "code",
   "execution_count": 28,
   "metadata": {},
   "outputs": [],
   "source": [
    "y_test_preds = model_best_params.predict(X_test)\n",
    "y_test_preds_prob = model_best_params.predict_proba(X_test)"
   ]
  },
  {
   "cell_type": "code",
   "execution_count": 29,
   "metadata": {},
   "outputs": [
    {
     "name": "stdout",
     "output_type": "stream",
     "text": [
      "[1 1 1 ... 1 1 1]\n",
      "[[0.18422568 0.8157743 ]\n",
      " [0.18015075 0.81984925]\n",
      " [0.06611437 0.93388563]\n",
      " ...\n",
      " [0.23977691 0.7602231 ]\n",
      " [0.06366652 0.9363335 ]\n",
      " [0.1832071  0.8167929 ]]\n"
     ]
    }
   ],
   "source": [
    "print(y_test_preds)\n",
    "print(y_test_preds_prob)"
   ]
  },
  {
   "cell_type": "code",
   "execution_count": 31,
   "metadata": {},
   "outputs": [
    {
     "name": "stdout",
     "output_type": "stream",
     "text": [
      "[[   0    1]\n",
      " [  26 3773]]\n"
     ]
    }
   ],
   "source": [
    "unique_elements, counts_elements = np.unique(y_test_preds, return_counts=True)\n",
    "print(np.asarray((unique_elements, counts_elements)))"
   ]
  },
  {
   "cell_type": "code",
   "execution_count": 32,
   "metadata": {},
   "outputs": [
    {
     "name": "stdout",
     "output_type": "stream",
     "text": [
      "           0     1     2     3    4     5     6    7    8     9   10   11  \\\n",
      "0        0.0  56.0   9.1   4.0  1.6   3.7  43.7  0.1  0.3   7.3  0.7  1.2   \n",
      "1        1.0  43.0  19.3  10.1  3.7   8.1  46.0  0.6  1.7  35.1  1.8  2.5   \n",
      "2        2.0  82.0  33.9  11.3  4.9  10.6  45.6  0.5  1.9  44.8  1.8  2.7   \n",
      "3        3.0  86.0  44.7  18.8  6.8  15.9  42.9  0.5  1.8  13.5  4.5  6.3   \n",
      "4        4.0  58.0  12.3   4.7  1.6   4.0  40.0  0.5  1.7  38.7  1.1  1.3   \n",
      "...      ...   ...   ...   ...  ...   ...   ...  ...  ...   ...  ...  ...   \n",
      "3794  3794.0  84.0  21.2   8.7  3.4   6.7  50.2  0.0  0.0  -4.5  1.7  2.5   \n",
      "3795  3795.0  49.0  16.3   6.4  2.9   6.6  44.4 -0.1 -0.4  19.8  1.0  1.9   \n",
      "3796  3796.0  53.0   9.9   2.1  0.8   1.8  43.1 -0.4 -0.6   1.9  0.6  1.0   \n",
      "3797  3797.0  89.0  38.3  14.5  5.4  11.8  45.2  0.5  1.2  24.7  2.5  2.9   \n",
      "3798  3798.0  55.0  12.0   3.0  1.1   2.5  42.3  0.1  0.6  11.7  0.9  1.1   \n",
      "\n",
      "        12   13   14   15   16   17   18   19  \n",
      "0     63.4  1.2  0.8  1.7  0.4  0.2  0.3  0.8  \n",
      "1     75.3  0.5  0.9  1.5  3.5  0.6  0.0  1.8  \n",
      "2     71.2  1.3  3.3  4.5  2.5  1.3  0.3  2.0  \n",
      "3     70.9  1.5  3.2  5.0  4.1  0.9  0.1  3.6  \n",
      "4     76.9  0.2  0.6  0.9  1.5  0.5 -0.4  0.9  \n",
      "...    ...  ...  ...  ...  ...  ...  ...  ...  \n",
      "3794  68.1  1.9  2.3  3.9  1.5  0.6  0.3  2.0  \n",
      "3795  50.2  1.7  2.8  4.4  0.4  0.4  0.4  0.7  \n",
      "3796  63.9  0.7  1.0  1.7  0.4  0.4  0.2  0.5  \n",
      "3797  89.2  1.5  4.0  5.5  3.7  1.3  0.3  2.4  \n",
      "3798  76.7  0.7  2.0  2.6  0.6  0.3  0.2  1.2  \n",
      "\n",
      "[3799 rows x 20 columns]\n"
     ]
    }
   ],
   "source": [
    "# convert X_test back to df\n",
    "df_test = pd.DataFrame(X_test)\n",
    "print(df_test)"
   ]
  },
  {
   "cell_type": "code",
   "execution_count": 42,
   "metadata": {},
   "outputs": [],
   "source": [
    "# output predictions\n",
    "id_col = df_test.iloc[:,[0]]"
   ]
  },
  {
   "cell_type": "code",
   "execution_count": 43,
   "metadata": {},
   "outputs": [
    {
     "name": "stdout",
     "output_type": "stream",
     "text": [
      "           0\n",
      "0        0.0\n",
      "1        1.0\n",
      "2        2.0\n",
      "3        3.0\n",
      "4        4.0\n",
      "...      ...\n",
      "3794  3794.0\n",
      "3795  3795.0\n",
      "3796  3796.0\n",
      "3797  3797.0\n",
      "3798  3798.0\n",
      "\n",
      "[3799 rows x 1 columns]\n"
     ]
    }
   ],
   "source": [
    "print(id_col)"
   ]
  },
  {
   "cell_type": "code",
   "execution_count": 48,
   "metadata": {},
   "outputs": [],
   "source": [
    "id_col.rename(columns = {0:'Id'}, inplace = True)"
   ]
  },
  {
   "cell_type": "code",
   "execution_count": 53,
   "metadata": {},
   "outputs": [
    {
     "name": "stdout",
     "output_type": "stream",
     "text": [
      "Index(['Id'], dtype='object')\n",
      "<class 'pandas.core.frame.DataFrame'>\n",
      "RangeIndex: 3799 entries, 0 to 3798\n",
      "Data columns (total 1 columns):\n",
      "Id    3799 non-null float64\n",
      "dtypes: float64(1)\n",
      "memory usage: 29.8 KB\n",
      "None\n"
     ]
    }
   ],
   "source": [
    "print(id_col.columns)\n",
    "print(id_col.info())"
   ]
  },
  {
   "cell_type": "code",
   "execution_count": 58,
   "metadata": {},
   "outputs": [],
   "source": [
    "# need to change Id to int\n",
    "id_col = id_col.Id.astype(int)"
   ]
  },
  {
   "cell_type": "code",
   "execution_count": 50,
   "metadata": {},
   "outputs": [
    {
     "name": "stdout",
     "output_type": "stream",
     "text": [
      "      TARGET_5Yrs\n",
      "0        0.815774\n",
      "1        0.819849\n",
      "2        0.933886\n",
      "3        0.958387\n",
      "4        0.798322\n",
      "...           ...\n",
      "3794     0.945737\n",
      "3795     0.815885\n",
      "3796     0.760223\n",
      "3797     0.936333\n",
      "3798     0.816793\n",
      "\n",
      "[3799 rows x 1 columns]\n"
     ]
    }
   ],
   "source": [
    "probabilities = pd.DataFrame(y_test_preds_prob[:,1], columns = ['TARGET_5Yrs'])\n",
    "print(probabilities)"
   ]
  },
  {
   "cell_type": "code",
   "execution_count": 59,
   "metadata": {},
   "outputs": [
    {
     "name": "stdout",
     "output_type": "stream",
     "text": [
      "   Id  TARGET_5Yrs\n",
      "0   0     0.815774\n",
      "1   1     0.819849\n",
      "2   2     0.933886\n",
      "3   3     0.958387\n",
      "4   4     0.798322\n"
     ]
    }
   ],
   "source": [
    "# concat columns\n",
    "output = pd.concat([id_col,probabilities], axis=1)\n",
    "\n",
    "#df_output = pd.DataFrame(output_list, columns = ['Id','TARGET_5Yrs'])\n",
    "print(output.head())"
   ]
  },
  {
   "cell_type": "code",
   "execution_count": 60,
   "metadata": {},
   "outputs": [],
   "source": [
    "# save to csv\n",
    "output.to_csv('../data/processed/output_xgboost_best_params_wk1.csv',index=False)"
   ]
  },
  {
   "cell_type": "markdown",
   "metadata": {},
   "source": [
    "# Kaggle AUC = 0.70615"
   ]
  },
  {
   "cell_type": "code",
   "execution_count": null,
   "metadata": {},
   "outputs": [],
   "source": []
  }
 ],
 "metadata": {
  "kernelspec": {
   "display_name": "Python 3",
   "language": "python",
   "name": "python3"
  },
  "language_info": {
   "codemirror_mode": {
    "name": "ipython",
    "version": 3
   },
   "file_extension": ".py",
   "mimetype": "text/x-python",
   "name": "python",
   "nbconvert_exporter": "python",
   "pygments_lexer": "ipython3",
   "version": "3.7.6"
  }
 },
 "nbformat": 4,
 "nbformat_minor": 4
}
