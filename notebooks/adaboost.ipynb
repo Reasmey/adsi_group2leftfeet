{
 "cells": [
  {
   "cell_type": "markdown",
   "metadata": {},
   "source": [
    "# Experiment 2 - Adaboost"
   ]
  },
  {
   "cell_type": "code",
   "execution_count": 1,
   "metadata": {},
   "outputs": [],
   "source": [
    "import pandas as pd\n",
    "import numpy as np\n",
    "import matplotlib.pyplot as plt"
   ]
  },
  {
   "cell_type": "code",
   "execution_count": 2,
   "metadata": {},
   "outputs": [],
   "source": [
    "# import load_data function from helper file \n",
    "%load_ext autoreload\n",
    "%autoreload 2\n",
    "\n",
    "# fix system path\n",
    "import sys\n",
    "sys.path.append(\"/home/jovyan/work\")"
   ]
  },
  {
   "cell_type": "code",
   "execution_count": 19,
   "metadata": {},
   "outputs": [],
   "source": [
    "from src.features.helper_functions import load_sets\n",
    "\n",
    "X_train, y_train, X_val, y_val, X_test = load_sets()"
   ]
  },
  {
   "cell_type": "code",
   "execution_count": 21,
   "metadata": {},
   "outputs": [],
   "source": [
    "from sklearn.ensemble import AdaBoostClassifier\n",
    "clf = AdaBoostClassifier(n_estimators = 60 , learning_rate = 0.3)\n",
    "adaboost = clf.fit(X_train, y_train)"
   ]
  },
  {
   "cell_type": "code",
   "execution_count": 22,
   "metadata": {},
   "outputs": [],
   "source": [
    "# predict class\n",
    "y_train_preds = adaboost.predict(X_train)\n",
    "y_val_preds = adaboost.predict(X_val)"
   ]
  },
  {
   "cell_type": "code",
   "execution_count": 23,
   "metadata": {},
   "outputs": [],
   "source": [
    "# predict proabilities\n",
    "y_train_preds_prob = adaboost.predict_proba(X_train)\n",
    "y_val_preds_prob = adaboost.predict_proba(X_val)"
   ]
  },
  {
   "cell_type": "code",
   "execution_count": 24,
   "metadata": {},
   "outputs": [],
   "source": [
    "from src.features.helper_functions import result_metrics"
   ]
  },
  {
   "cell_type": "code",
   "execution_count": 26,
   "metadata": {},
   "outputs": [
    {
     "name": "stdout",
     "output_type": "stream",
     "text": [
      "Accuracy: 83.45%\n",
      "Precision: 83.56% \n",
      "Recall: 99.74% \n",
      "AUC using prediction probabilities: 72.398% \n",
      "              precision    recall  f1-score   support\n",
      "\n",
      "           0       0.67      0.03      0.05      1074\n",
      "           1       0.84      1.00      0.91      5326\n",
      "\n",
      "    accuracy                           0.83      6400\n",
      "   macro avg       0.76      0.51      0.48      6400\n",
      "weighted avg       0.81      0.83      0.77      6400\n",
      "\n",
      "Confusion Matrix\n",
      "[[  29 1045]\n",
      " [  14 5312]]\n"
     ]
    }
   ],
   "source": [
    "result_metrics(y_train, y_train_preds,y_train_preds_prob)"
   ]
  },
  {
   "cell_type": "code",
   "execution_count": 27,
   "metadata": {},
   "outputs": [
    {
     "name": "stdout",
     "output_type": "stream",
     "text": [
      "Accuracy: 83.69%\n",
      "Precision: 84.20% \n",
      "Recall: 99.18% \n",
      "AUC using prediction probabilities: 70.159% \n",
      "              precision    recall  f1-score   support\n",
      "\n",
      "           0       0.39      0.03      0.05       257\n",
      "           1       0.84      0.99      0.91      1343\n",
      "\n",
      "    accuracy                           0.84      1600\n",
      "   macro avg       0.62      0.51      0.48      1600\n",
      "weighted avg       0.77      0.84      0.77      1600\n",
      "\n",
      "Confusion Matrix\n",
      "[[   7  250]\n",
      " [  11 1332]]\n"
     ]
    }
   ],
   "source": [
    "result_metrics(y_val, y_val_preds,y_val_preds_prob)"
   ]
  },
  {
   "cell_type": "code",
   "execution_count": 28,
   "metadata": {},
   "outputs": [],
   "source": [
    "# save model\n",
    "from src.features.helper_functions import save_model"
   ]
  },
  {
   "cell_type": "code",
   "execution_count": 29,
   "metadata": {},
   "outputs": [
    {
     "name": "stdout",
     "output_type": "stream",
     "text": [
      "Model saved succesfully\n"
     ]
    }
   ],
   "source": [
    "save_model(adaboost, 'rez_adaboost_1')"
   ]
  },
  {
   "cell_type": "code",
   "execution_count": null,
   "metadata": {},
   "outputs": [],
   "source": [
    "# predict on test set\n"
   ]
  },
  {
   "cell_type": "code",
   "execution_count": 30,
   "metadata": {},
   "outputs": [],
   "source": [
    "# create an output for kaggle testing anyway.\n",
    "y_test_preds = adaboost.predict(X_test)\n",
    "y_test_preds_prob = adaboost.predict_proba(X_test)"
   ]
  },
  {
   "cell_type": "code",
   "execution_count": 31,
   "metadata": {},
   "outputs": [
    {
     "name": "stdout",
     "output_type": "stream",
     "text": [
      "[1 1 1 ... 1 1 1]\n",
      "[[0.48292888 0.51707112]\n",
      " [0.47996327 0.52003673]\n",
      " [0.46317878 0.53682122]\n",
      " ...\n",
      " [0.48255331 0.51744669]\n",
      " [0.46393048 0.53606952]\n",
      " [0.48093576 0.51906424]]\n"
     ]
    }
   ],
   "source": [
    "print(y_test_preds)\n",
    "print(y_test_preds_prob)"
   ]
  },
  {
   "cell_type": "code",
   "execution_count": 32,
   "metadata": {},
   "outputs": [
    {
     "name": "stdout",
     "output_type": "stream",
     "text": [
      "[[   0    1]\n",
      " [  30 3769]]\n"
     ]
    }
   ],
   "source": [
    "unique_elements, counts_elements = np.unique(y_test_preds, return_counts=True)\n",
    "print(np.asarray((unique_elements, counts_elements)))"
   ]
  },
  {
   "cell_type": "code",
   "execution_count": 33,
   "metadata": {},
   "outputs": [],
   "source": [
    "from src.features.helper_functions import create_output"
   ]
  },
  {
   "cell_type": "code",
   "execution_count": 34,
   "metadata": {},
   "outputs": [],
   "source": [
    "output = create_output(y_test_preds_prob)"
   ]
  },
  {
   "cell_type": "code",
   "execution_count": 35,
   "metadata": {},
   "outputs": [
    {
     "data": {
      "text/html": [
       "<div>\n",
       "<style scoped>\n",
       "    .dataframe tbody tr th:only-of-type {\n",
       "        vertical-align: middle;\n",
       "    }\n",
       "\n",
       "    .dataframe tbody tr th {\n",
       "        vertical-align: top;\n",
       "    }\n",
       "\n",
       "    .dataframe thead th {\n",
       "        text-align: right;\n",
       "    }\n",
       "</style>\n",
       "<table border=\"1\" class=\"dataframe\">\n",
       "  <thead>\n",
       "    <tr style=\"text-align: right;\">\n",
       "      <th></th>\n",
       "      <th>Id</th>\n",
       "      <th>TARGET_5Yrs</th>\n",
       "    </tr>\n",
       "  </thead>\n",
       "  <tbody>\n",
       "    <tr>\n",
       "      <th>0</th>\n",
       "      <td>0</td>\n",
       "      <td>0.517071</td>\n",
       "    </tr>\n",
       "    <tr>\n",
       "      <th>1</th>\n",
       "      <td>1</td>\n",
       "      <td>0.520037</td>\n",
       "    </tr>\n",
       "    <tr>\n",
       "      <th>2</th>\n",
       "      <td>2</td>\n",
       "      <td>0.536821</td>\n",
       "    </tr>\n",
       "    <tr>\n",
       "      <th>3</th>\n",
       "      <td>3</td>\n",
       "      <td>0.676380</td>\n",
       "    </tr>\n",
       "    <tr>\n",
       "      <th>4</th>\n",
       "      <td>4</td>\n",
       "      <td>0.519435</td>\n",
       "    </tr>\n",
       "    <tr>\n",
       "      <th>...</th>\n",
       "      <td>...</td>\n",
       "      <td>...</td>\n",
       "    </tr>\n",
       "    <tr>\n",
       "      <th>3794</th>\n",
       "      <td>3794</td>\n",
       "      <td>0.537870</td>\n",
       "    </tr>\n",
       "    <tr>\n",
       "      <th>3795</th>\n",
       "      <td>3795</td>\n",
       "      <td>0.521863</td>\n",
       "    </tr>\n",
       "    <tr>\n",
       "      <th>3796</th>\n",
       "      <td>3796</td>\n",
       "      <td>0.517447</td>\n",
       "    </tr>\n",
       "    <tr>\n",
       "      <th>3797</th>\n",
       "      <td>3797</td>\n",
       "      <td>0.536070</td>\n",
       "    </tr>\n",
       "    <tr>\n",
       "      <th>3798</th>\n",
       "      <td>3798</td>\n",
       "      <td>0.519064</td>\n",
       "    </tr>\n",
       "  </tbody>\n",
       "</table>\n",
       "<p>3799 rows × 2 columns</p>\n",
       "</div>"
      ],
      "text/plain": [
       "        Id  TARGET_5Yrs\n",
       "0        0     0.517071\n",
       "1        1     0.520037\n",
       "2        2     0.536821\n",
       "3        3     0.676380\n",
       "4        4     0.519435\n",
       "...    ...          ...\n",
       "3794  3794     0.537870\n",
       "3795  3795     0.521863\n",
       "3796  3796     0.517447\n",
       "3797  3797     0.536070\n",
       "3798  3798     0.519064\n",
       "\n",
       "[3799 rows x 2 columns]"
      ]
     },
     "execution_count": 35,
     "metadata": {},
     "output_type": "execute_result"
    }
   ],
   "source": [
    "output"
   ]
  },
  {
   "cell_type": "code",
   "execution_count": 36,
   "metadata": {},
   "outputs": [],
   "source": [
    "# save to csv\n",
    "output.to_csv('../data/processed/output_adaboost_wk3.csv',index=False)"
   ]
  },
  {
   "cell_type": "markdown",
   "metadata": {},
   "source": [
    "# KAGGLE SCORE = 0.70264"
   ]
  },
  {
   "cell_type": "code",
   "execution_count": 63,
   "metadata": {},
   "outputs": [],
   "source": [
    "# lets try some other parameters\n",
    "clf = AdaBoostClassifier(n_estimators = 150, learning_rate = 0.1)\n",
    "adaboost_2 = clf.fit(X_train, y_train)"
   ]
  },
  {
   "cell_type": "markdown",
   "metadata": {},
   "source": [
    "Higher learning rate is beter, above 0.1 (0.05 was too low, it broke the model)\n",
    "n_estimators should be >60, 150-200 seemed ok.\n"
   ]
  },
  {
   "cell_type": "code",
   "execution_count": 64,
   "metadata": {},
   "outputs": [],
   "source": [
    "# predict class\n",
    "y_train_preds = adaboost_2.predict(X_train)\n",
    "y_val_preds = adaboost_2.predict(X_val)"
   ]
  },
  {
   "cell_type": "code",
   "execution_count": 65,
   "metadata": {},
   "outputs": [],
   "source": [
    "# predict proabilities\n",
    "y_train_preds_prob = adaboost_2.predict_proba(X_train)\n",
    "y_val_preds_prob = adaboost_2.predict_proba(X_val)"
   ]
  },
  {
   "cell_type": "code",
   "execution_count": 66,
   "metadata": {},
   "outputs": [
    {
     "name": "stdout",
     "output_type": "stream",
     "text": [
      "Accuracy: 83.44%\n",
      "Precision: 83.52% \n",
      "Recall: 99.79% \n",
      "AUC using prediction probabilities: 72.268% \n",
      "              precision    recall  f1-score   support\n",
      "\n",
      "           0       0.69      0.02      0.05      1074\n",
      "           1       0.84      1.00      0.91      5326\n",
      "\n",
      "    accuracy                           0.83      6400\n",
      "   macro avg       0.76      0.51      0.48      6400\n",
      "weighted avg       0.81      0.83      0.76      6400\n",
      "\n",
      "Confusion Matrix\n",
      "[[  25 1049]\n",
      " [  11 5315]]\n"
     ]
    }
   ],
   "source": [
    "result_metrics(y_train, y_train_preds,y_train_preds_prob)"
   ]
  },
  {
   "cell_type": "code",
   "execution_count": 67,
   "metadata": {},
   "outputs": [
    {
     "name": "stdout",
     "output_type": "stream",
     "text": [
      "Accuracy: 83.56%\n",
      "Precision: 84.13% \n",
      "Recall: 99.11% \n",
      "AUC using prediction probabilities: 70.408% \n",
      "              precision    recall  f1-score   support\n",
      "\n",
      "           0       0.33      0.02      0.04       257\n",
      "           1       0.84      0.99      0.91      1343\n",
      "\n",
      "    accuracy                           0.84      1600\n",
      "   macro avg       0.59      0.51      0.48      1600\n",
      "weighted avg       0.76      0.84      0.77      1600\n",
      "\n",
      "Confusion Matrix\n",
      "[[   6  251]\n",
      " [  12 1331]]\n"
     ]
    }
   ],
   "source": [
    "result_metrics(y_val, y_val_preds,y_val_preds_prob)"
   ]
  },
  {
   "cell_type": "code",
   "execution_count": 68,
   "metadata": {},
   "outputs": [],
   "source": [
    "# try adaboost with the resampled data\n",
    "X_train_smoteus = np.load('../data/interim/X_train_smoteus.npy')\n",
    "y_train_smoteus = np.load('../data/interim/y_train_smoteus.npy')"
   ]
  },
  {
   "cell_type": "code",
   "execution_count": 69,
   "metadata": {},
   "outputs": [
    {
     "data": {
      "text/plain": [
       "array([[59. ,  8.8,  2.9, ...,  0.1,  0.2,  0.6],\n",
       "       [57. , 15.7,  5.6, ...,  0.3,  0. ,  0.8],\n",
       "       [47. , 11.4,  4.1, ...,  0.4,  0.4,  0.8],\n",
       "       ...,\n",
       "       [46. , 26.5,  9.3, ...,  0.7,  0.6,  1.7],\n",
       "       [91. , 16.8,  4.8, ...,  0.7,  0.4,  0.9],\n",
       "       [60. , 21.1,  7.5, ...,  0.8,  0.2,  0.9]])"
      ]
     },
     "execution_count": 69,
     "metadata": {},
     "output_type": "execute_result"
    }
   ],
   "source": [
    "X_train_smoteus"
   ]
  },
  {
   "cell_type": "code",
   "execution_count": 70,
   "metadata": {},
   "outputs": [],
   "source": [
    "adaboost_3 = clf.fit(X_train_smoteus, y_train_smoteus)"
   ]
  },
  {
   "cell_type": "code",
   "execution_count": 71,
   "metadata": {},
   "outputs": [],
   "source": [
    "# predict class\n",
    "y_train_preds = adaboost_3.predict(X_train)\n",
    "y_val_preds = adaboost_3.predict(X_val)"
   ]
  },
  {
   "cell_type": "code",
   "execution_count": 72,
   "metadata": {},
   "outputs": [],
   "source": [
    "# predict proabilities\n",
    "y_train_preds_prob = adaboost_3.predict_proba(X_train)\n",
    "y_val_preds_prob = adaboost_3.predict_proba(X_val)"
   ]
  },
  {
   "cell_type": "code",
   "execution_count": 73,
   "metadata": {},
   "outputs": [
    {
     "name": "stdout",
     "output_type": "stream",
     "text": [
      "Accuracy: 75.62%\n",
      "Precision: 88.19% \n",
      "Recall: 81.64% \n",
      "AUC using prediction probabilities: 71.648% \n",
      "              precision    recall  f1-score   support\n",
      "\n",
      "           0       0.33      0.46      0.39      1074\n",
      "           1       0.88      0.82      0.85      5326\n",
      "\n",
      "    accuracy                           0.76      6400\n",
      "   macro avg       0.61      0.64      0.62      6400\n",
      "weighted avg       0.79      0.76      0.77      6400\n",
      "\n",
      "Confusion Matrix\n",
      "[[ 492  582]\n",
      " [ 978 4348]]\n"
     ]
    }
   ],
   "source": [
    "result_metrics(y_train, y_train_preds,y_train_preds_prob)"
   ]
  },
  {
   "cell_type": "code",
   "execution_count": 74,
   "metadata": {},
   "outputs": [
    {
     "name": "stdout",
     "output_type": "stream",
     "text": [
      "Accuracy: 73.50%\n",
      "Precision: 87.94% \n",
      "Recall: 79.30% \n",
      "AUC using prediction probabilities: 70.119% \n",
      "              precision    recall  f1-score   support\n",
      "\n",
      "           0       0.29      0.43      0.34       257\n",
      "           1       0.88      0.79      0.83      1343\n",
      "\n",
      "    accuracy                           0.73      1600\n",
      "   macro avg       0.58      0.61      0.59      1600\n",
      "weighted avg       0.78      0.73      0.76      1600\n",
      "\n",
      "Confusion Matrix\n",
      "[[ 111  146]\n",
      " [ 278 1065]]\n"
     ]
    }
   ],
   "source": [
    "result_metrics(y_val, y_val_preds,y_val_preds_prob)"
   ]
  },
  {
   "cell_type": "markdown",
   "metadata": {},
   "source": [
    "Try with oversampled data"
   ]
  },
  {
   "cell_type": "code",
   "execution_count": 75,
   "metadata": {},
   "outputs": [],
   "source": [
    "# try adaboost with the resampled data\n",
    "X_train_os = np.load('../data/interim/X_train_os.npy')\n",
    "y_train_os = np.load('../data/interim/y_train_os.npy')"
   ]
  },
  {
   "cell_type": "code",
   "execution_count": 77,
   "metadata": {},
   "outputs": [
    {
     "data": {
      "text/plain": [
       "(10652, 19)"
      ]
     },
     "execution_count": 77,
     "metadata": {},
     "output_type": "execute_result"
    }
   ],
   "source": [
    "X_train_os.shape"
   ]
  },
  {
   "cell_type": "code",
   "execution_count": 78,
   "metadata": {},
   "outputs": [],
   "source": [
    "adaboost_4 = clf.fit(X_train_os, y_train_os)"
   ]
  },
  {
   "cell_type": "code",
   "execution_count": 79,
   "metadata": {},
   "outputs": [],
   "source": [
    "# predict class\n",
    "y_train_preds = adaboost_4.predict(X_train)\n",
    "y_val_preds = adaboost_4.predict(X_val)"
   ]
  },
  {
   "cell_type": "code",
   "execution_count": 80,
   "metadata": {},
   "outputs": [],
   "source": [
    "# predict proabilities\n",
    "y_train_preds_prob = adaboost_4.predict_proba(X_train)\n",
    "y_val_preds_prob = adaboost_4.predict_proba(X_val)"
   ]
  },
  {
   "cell_type": "code",
   "execution_count": 81,
   "metadata": {},
   "outputs": [
    {
     "name": "stdout",
     "output_type": "stream",
     "text": [
      "Accuracy: 64.41%\n",
      "Precision: 90.60% \n",
      "Recall: 63.86% \n",
      "AUC using prediction probabilities: 72.157% \n",
      "              precision    recall  f1-score   support\n",
      "\n",
      "           0       0.27      0.67      0.39      1074\n",
      "           1       0.91      0.64      0.75      5326\n",
      "\n",
      "    accuracy                           0.64      6400\n",
      "   macro avg       0.59      0.65      0.57      6400\n",
      "weighted avg       0.80      0.64      0.69      6400\n",
      "\n",
      "Confusion Matrix\n",
      "[[ 721  353]\n",
      " [1925 3401]]\n"
     ]
    }
   ],
   "source": [
    "result_metrics(y_train, y_train_preds,y_train_preds_prob)"
   ]
  },
  {
   "cell_type": "code",
   "execution_count": 82,
   "metadata": {},
   "outputs": [
    {
     "name": "stdout",
     "output_type": "stream",
     "text": [
      "Accuracy: 62.69%\n",
      "Precision: 90.72% \n",
      "Recall: 61.88% \n",
      "AUC using prediction probabilities: 69.976% \n",
      "              precision    recall  f1-score   support\n",
      "\n",
      "           0       0.25      0.67      0.37       257\n",
      "           1       0.91      0.62      0.74      1343\n",
      "\n",
      "    accuracy                           0.63      1600\n",
      "   macro avg       0.58      0.64      0.55      1600\n",
      "weighted avg       0.80      0.63      0.68      1600\n",
      "\n",
      "Confusion Matrix\n",
      "[[172  85]\n",
      " [512 831]]\n"
     ]
    }
   ],
   "source": [
    "result_metrics(y_val, y_val_preds,y_val_preds_prob)"
   ]
  },
  {
   "cell_type": "markdown",
   "metadata": {},
   "source": [
    "Not much difference between original data and smote, oversampled is the worst performer."
   ]
  },
  {
   "cell_type": "markdown",
   "metadata": {},
   "source": [
    "Following this example https://www.kaggle.com/sasadeghi/final "
   ]
  },
  {
   "cell_type": "code",
   "execution_count": 83,
   "metadata": {},
   "outputs": [],
   "source": [
    "from sklearn.preprocessing import QuantileTransformer\n",
    "sc = QuantileTransformer()\n",
    "X = sc.fit_transform(X_train)\n",
    "XVAL = sc.transform(X_val)"
   ]
  },
  {
   "cell_type": "code",
   "execution_count": 84,
   "metadata": {},
   "outputs": [],
   "source": [
    "from sklearn.kernel_approximation import AdditiveChi2Sampler\n",
    "sc = AdditiveChi2Sampler()\n",
    "X = sc.fit_transform(X)\n",
    "XVAL = sc.transform(XVAL)"
   ]
  },
  {
   "cell_type": "code",
   "execution_count": 87,
   "metadata": {},
   "outputs": [],
   "source": [
    "# train on transformed data\n",
    "#clf = AdaBoostClassifier(n_estimators = 150, learning_rate = 0.1)\n",
    "adaboost_exmp = clf.fit(X, y_train)"
   ]
  },
  {
   "cell_type": "code",
   "execution_count": 88,
   "metadata": {},
   "outputs": [],
   "source": [
    "# predict class\n",
    "y_train_preds = adaboost_exmp.predict(X)\n",
    "y_val_preds = adaboost_exmp.predict(XVAL)"
   ]
  },
  {
   "cell_type": "code",
   "execution_count": 89,
   "metadata": {},
   "outputs": [],
   "source": [
    "# predict proabilities\n",
    "y_train_preds_prob = adaboost_exmp.predict_proba(X)\n",
    "y_val_preds_prob = adaboost_exmp.predict_proba(XVAL)"
   ]
  },
  {
   "cell_type": "code",
   "execution_count": 90,
   "metadata": {},
   "outputs": [
    {
     "name": "stdout",
     "output_type": "stream",
     "text": [
      "Accuracy: 83.41%\n",
      "Precision: 83.46% \n",
      "Recall: 99.85% \n",
      "AUC using prediction probabilities: 72.540% \n",
      "              precision    recall  f1-score   support\n",
      "\n",
      "           0       0.71      0.02      0.04      1074\n",
      "           1       0.83      1.00      0.91      5326\n",
      "\n",
      "    accuracy                           0.83      6400\n",
      "   macro avg       0.77      0.51      0.47      6400\n",
      "weighted avg       0.81      0.83      0.76      6400\n",
      "\n",
      "Confusion Matrix\n",
      "[[  20 1054]\n",
      " [   8 5318]]\n"
     ]
    }
   ],
   "source": [
    "result_metrics(y_train, y_train_preds,y_train_preds_prob)"
   ]
  },
  {
   "cell_type": "code",
   "execution_count": 91,
   "metadata": {},
   "outputs": [
    {
     "name": "stdout",
     "output_type": "stream",
     "text": [
      "Accuracy: 83.75%\n",
      "Precision: 84.16% \n",
      "Recall: 99.33% \n",
      "AUC using prediction probabilities: 69.956% \n",
      "              precision    recall  f1-score   support\n",
      "\n",
      "           0       0.40      0.02      0.04       257\n",
      "           1       0.84      0.99      0.91      1343\n",
      "\n",
      "    accuracy                           0.84      1600\n",
      "   macro avg       0.62      0.51      0.48      1600\n",
      "weighted avg       0.77      0.84      0.77      1600\n",
      "\n",
      "Confusion Matrix\n",
      "[[   6  251]\n",
      " [   9 1334]]\n"
     ]
    }
   ],
   "source": [
    "result_metrics(y_val, y_val_preds,y_val_preds_prob)"
   ]
  },
  {
   "cell_type": "markdown",
   "metadata": {},
   "source": [
    "Bit worse than the basic adaboost_2. "
   ]
  },
  {
   "cell_type": "markdown",
   "metadata": {},
   "source": [
    "# changing the base \"stump\" estimator"
   ]
  },
  {
   "cell_type": "markdown",
   "metadata": {},
   "source": [
    "https://machinelearningmastery.com/adaboost-ensemble-in-python/ \n",
    "\n",
    "We can use a simple decision tree classifier to use as a base for adaboost"
   ]
  },
  {
   "cell_type": "code",
   "execution_count": 92,
   "metadata": {},
   "outputs": [],
   "source": [
    "from sklearn.model_selection import cross_val_score\n",
    "from sklearn.model_selection import RepeatedStratifiedKFold\n",
    "from sklearn.tree import DecisionTreeClassifier"
   ]
  },
  {
   "cell_type": "code",
   "execution_count": 94,
   "metadata": {},
   "outputs": [
    {
     "name": "stdout",
     "output_type": "stream",
     "text": [
      ">1 0.694 (0.030)\n",
      ">2 0.680 (0.033)\n",
      ">3 0.654 (0.033)\n",
      ">4 0.638 (0.029)\n",
      ">5 0.625 (0.029)\n",
      ">6 0.622 (0.025)\n",
      ">7 0.619 (0.031)\n",
      ">8 0.620 (0.031)\n",
      ">9 0.642 (0.034)\n",
      ">10 0.635 (0.032)\n"
     ]
    }
   ],
   "source": [
    "# get a list of models to evaluate\n",
    "def get_models():\n",
    "\tmodels = dict()\n",
    "\t# explore depths from 1 to 10\n",
    "\tfor i in range(1,11):\n",
    "\t\t# define base model\n",
    "\t\tbase = DecisionTreeClassifier(max_depth=i)\n",
    "\t\t# define ensemble model\n",
    "\t\tmodels[str(i)] = AdaBoostClassifier(base_estimator=base,n_estimators = 150, learning_rate = 0.1)\n",
    "\treturn models\n",
    " \n",
    "# evaluate a given model using cross-validation\n",
    "def evaluate_model(model, X, y):\n",
    "\t# define the evaluation procedure\n",
    "\tcv = RepeatedStratifiedKFold(n_splits=10, n_repeats=3, random_state=1)\n",
    "\t# evaluate the model and collect the results\n",
    "\tscores = cross_val_score(model, X, y, scoring='roc_auc', cv=cv, n_jobs=-1)\n",
    "\treturn scores\n",
    " \n",
    "# get the models to evaluate\n",
    "models = get_models()\n",
    "# evaluate the models and store results\n",
    "results, names = list(), list()\n",
    "for name, model in models.items():\n",
    "\t# evaluate the model\n",
    "\tscores = evaluate_model(model, X_train, y_train)\n",
    "\t# store the results\n",
    "\tresults.append(scores)\n",
    "\tnames.append(name)\n",
    "\t# summarize the performance along the way\n",
    "\tprint('>%s %.3f (%.3f)' % (name, np.mean(scores), np.std(scores)))"
   ]
  },
  {
   "cell_type": "code",
   "execution_count": 98,
   "metadata": {},
   "outputs": [
    {
     "name": "stdout",
     "output_type": "stream",
     "text": [
      "Best: 0.698229 using {'learning_rate': 0.1, 'n_estimators': 50}\n"
     ]
    }
   ],
   "source": [
    "from sklearn.model_selection import GridSearchCV\n",
    "\n",
    "grid = dict()\n",
    "grid['n_estimators'] = [50, 100, 150, 200, 300]\n",
    "grid['learning_rate'] = [0.1,0.25, 0.5, 1.0, 1.5]\n",
    "# define the evaluation procedure\n",
    "cv = RepeatedStratifiedKFold(n_splits=10, n_repeats=3, random_state=1)\n",
    "# define the grid search procedure\n",
    "grid_search = GridSearchCV(estimator=clf, param_grid=grid, n_jobs=-1, cv=cv, scoring='roc_auc')\n",
    "# execute the grid search\n",
    "grid_result = grid_search.fit(X_train, y_train)\n",
    "# summarize the best score and configuration\n",
    "print(\"Best: %f using %s\" % (grid_result.best_score_, grid_result.best_params_))"
   ]
  },
  {
   "cell_type": "code",
   "execution_count": null,
   "metadata": {},
   "outputs": [],
   "source": []
  }
 ],
 "metadata": {
  "kernelspec": {
   "display_name": "Python 3",
   "language": "python",
   "name": "python3"
  },
  "language_info": {
   "codemirror_mode": {
    "name": "ipython",
    "version": 3
   },
   "file_extension": ".py",
   "mimetype": "text/x-python",
   "name": "python",
   "nbconvert_exporter": "python",
   "pygments_lexer": "ipython3",
   "version": "3.7.6"
  }
 },
 "nbformat": 4,
 "nbformat_minor": 4
}
