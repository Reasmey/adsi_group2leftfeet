{
 "cells": [
  {
   "cell_type": "markdown",
   "metadata": {},
   "source": [
    "# Experiment 3.4 - SVM"
   ]
  },
  {
   "cell_type": "code",
   "execution_count": null,
   "metadata": {},
   "outputs": [],
   "source": []
  },
  {
   "cell_type": "code",
   "execution_count": 1,
   "metadata": {},
   "outputs": [],
   "source": [
    "import pandas as pd\n",
    "import numpy as np\n",
    "import matplotlib.pyplot as plt"
   ]
  },
  {
   "cell_type": "code",
   "execution_count": 2,
   "metadata": {},
   "outputs": [],
   "source": [
    "# import load_data function from helper file \n",
    "%load_ext autoreload\n",
    "%autoreload 2\n",
    "\n",
    "# fix system path\n",
    "import sys\n",
    "sys.path.append(\"/home/jovyan/work\")"
   ]
  },
  {
   "cell_type": "code",
   "execution_count": 3,
   "metadata": {},
   "outputs": [],
   "source": [
    "from src.features.helper_functions import load_sets\n",
    "\n",
    "X_train, y_train, X_val, y_val, X_test = load_sets()"
   ]
  },
  {
   "cell_type": "code",
   "execution_count": 4,
   "metadata": {},
   "outputs": [],
   "source": [
    "from sklearn.preprocessing import StandardScaler\n",
    "scaler = StandardScaler()\n",
    "# fit and transform training set\n",
    "X_train = scaler.fit_transform(X_train)\n",
    "# only transform validation set\n",
    "X_val = scaler.transform(X_val)"
   ]
  },
  {
   "cell_type": "code",
   "execution_count": 9,
   "metadata": {},
   "outputs": [
    {
     "data": {
      "text/plain": [
       "SVC(kernel='linear', probability=True)"
      ]
     },
     "execution_count": 9,
     "metadata": {},
     "output_type": "execute_result"
    }
   ],
   "source": [
    "from sklearn.svm import SVC\n",
    "svclassifier = SVC(kernel='linear', probability=True)\n",
    "svclassifier.fit(X_train, y_train)"
   ]
  },
  {
   "cell_type": "code",
   "execution_count": 10,
   "metadata": {},
   "outputs": [],
   "source": [
    "# predict class\n",
    "y_train_preds = svclassifier.predict(X_train)\n",
    "y_val_preds = svclassifier.predict(X_val)"
   ]
  },
  {
   "cell_type": "code",
   "execution_count": 11,
   "metadata": {},
   "outputs": [],
   "source": [
    "# predict proabilities\n",
    "y_train_preds_prob = svclassifier.predict_proba(X_train)\n",
    "y_val_preds_prob = svclassifier.predict_proba(X_val)"
   ]
  },
  {
   "cell_type": "code",
   "execution_count": 12,
   "metadata": {},
   "outputs": [
    {
     "name": "stdout",
     "output_type": "stream",
     "text": [
      "Accuracy: 83.22%\n",
      "Precision: 83.22% \n",
      "Recall: 100.00% \n",
      "AUC using prediction probabilities: 48.385% \n",
      "              precision    recall  f1-score   support\n",
      "\n",
      "           0       0.00      0.00      0.00      1074\n",
      "           1       0.83      1.00      0.91      5326\n",
      "\n",
      "    accuracy                           0.83      6400\n",
      "   macro avg       0.42      0.50      0.45      6400\n",
      "weighted avg       0.69      0.83      0.76      6400\n",
      "\n",
      "Confusion Matrix\n",
      "[[   0 1074]\n",
      " [   0 5326]]\n"
     ]
    },
    {
     "name": "stderr",
     "output_type": "stream",
     "text": [
      "/opt/conda/lib/python3.7/site-packages/sklearn/metrics/_classification.py:1245: UndefinedMetricWarning: Precision and F-score are ill-defined and being set to 0.0 in labels with no predicted samples. Use `zero_division` parameter to control this behavior.\n",
      "  _warn_prf(average, modifier, msg_start, len(result))\n",
      "/opt/conda/lib/python3.7/site-packages/sklearn/metrics/_classification.py:1245: UndefinedMetricWarning: Precision and F-score are ill-defined and being set to 0.0 in labels with no predicted samples. Use `zero_division` parameter to control this behavior.\n",
      "  _warn_prf(average, modifier, msg_start, len(result))\n",
      "/opt/conda/lib/python3.7/site-packages/sklearn/metrics/_classification.py:1245: UndefinedMetricWarning: Precision and F-score are ill-defined and being set to 0.0 in labels with no predicted samples. Use `zero_division` parameter to control this behavior.\n",
      "  _warn_prf(average, modifier, msg_start, len(result))\n"
     ]
    }
   ],
   "source": [
    "from src.features.helper_functions import result_metrics\n",
    "result_metrics(y_train, y_train_preds,y_train_preds_prob)"
   ]
  },
  {
   "cell_type": "code",
   "execution_count": 13,
   "metadata": {},
   "outputs": [
    {
     "name": "stdout",
     "output_type": "stream",
     "text": [
      "Accuracy: 83.94%\n",
      "Precision: 83.94% \n",
      "Recall: 100.00% \n",
      "AUC using prediction probabilities: 46.567% \n",
      "              precision    recall  f1-score   support\n",
      "\n",
      "           0       0.00      0.00      0.00       257\n",
      "           1       0.84      1.00      0.91      1343\n",
      "\n",
      "    accuracy                           0.84      1600\n",
      "   macro avg       0.42      0.50      0.46      1600\n",
      "weighted avg       0.70      0.84      0.77      1600\n",
      "\n",
      "Confusion Matrix\n",
      "[[   0  257]\n",
      " [   0 1343]]\n"
     ]
    },
    {
     "name": "stderr",
     "output_type": "stream",
     "text": [
      "/opt/conda/lib/python3.7/site-packages/sklearn/metrics/_classification.py:1245: UndefinedMetricWarning: Precision and F-score are ill-defined and being set to 0.0 in labels with no predicted samples. Use `zero_division` parameter to control this behavior.\n",
      "  _warn_prf(average, modifier, msg_start, len(result))\n",
      "/opt/conda/lib/python3.7/site-packages/sklearn/metrics/_classification.py:1245: UndefinedMetricWarning: Precision and F-score are ill-defined and being set to 0.0 in labels with no predicted samples. Use `zero_division` parameter to control this behavior.\n",
      "  _warn_prf(average, modifier, msg_start, len(result))\n",
      "/opt/conda/lib/python3.7/site-packages/sklearn/metrics/_classification.py:1245: UndefinedMetricWarning: Precision and F-score are ill-defined and being set to 0.0 in labels with no predicted samples. Use `zero_division` parameter to control this behavior.\n",
      "  _warn_prf(average, modifier, msg_start, len(result))\n"
     ]
    }
   ],
   "source": [
    "result_metrics(y_val, y_val_preds,y_val_preds_prob)"
   ]
  },
  {
   "cell_type": "markdown",
   "metadata": {},
   "source": [
    "Not very good, perhaps a different kernel would do better"
   ]
  },
  {
   "cell_type": "code",
   "execution_count": 14,
   "metadata": {},
   "outputs": [
    {
     "data": {
      "text/plain": [
       "SVC(probability=True)"
      ]
     },
     "execution_count": 14,
     "metadata": {},
     "output_type": "execute_result"
    }
   ],
   "source": [
    "svclassifier_rbf = SVC(kernel='rbf', probability=True)\n",
    "svclassifier_rbf.fit(X_train, y_train)"
   ]
  },
  {
   "cell_type": "code",
   "execution_count": 15,
   "metadata": {},
   "outputs": [],
   "source": [
    "# predict class\n",
    "y_train_preds = svclassifier_rbf.predict(X_train)\n",
    "y_val_preds = svclassifier_rbf.predict(X_val)"
   ]
  },
  {
   "cell_type": "code",
   "execution_count": 16,
   "metadata": {},
   "outputs": [],
   "source": [
    "# predict proabilities\n",
    "y_train_preds_prob = svclassifier_rbf.predict_proba(X_train)\n",
    "y_val_preds_prob = svclassifier_rbf.predict_proba(X_val)"
   ]
  },
  {
   "cell_type": "code",
   "execution_count": 17,
   "metadata": {},
   "outputs": [
    {
     "name": "stdout",
     "output_type": "stream",
     "text": [
      "Accuracy: 83.23%\n",
      "Precision: 83.23% \n",
      "Recall: 100.00% \n",
      "AUC using prediction probabilities: 83.326% \n",
      "              precision    recall  f1-score   support\n",
      "\n",
      "           0       1.00      0.00      0.00      1074\n",
      "           1       0.83      1.00      0.91      5326\n",
      "\n",
      "    accuracy                           0.83      6400\n",
      "   macro avg       0.92      0.50      0.46      6400\n",
      "weighted avg       0.86      0.83      0.76      6400\n",
      "\n",
      "Confusion Matrix\n",
      "[[   1 1073]\n",
      " [   0 5326]]\n"
     ]
    }
   ],
   "source": [
    "from src.features.helper_functions import result_metrics\n",
    "result_metrics(y_train, y_train_preds,y_train_preds_prob)"
   ]
  },
  {
   "cell_type": "code",
   "execution_count": 18,
   "metadata": {},
   "outputs": [
    {
     "name": "stdout",
     "output_type": "stream",
     "text": [
      "Accuracy: 83.94%\n",
      "Precision: 83.94% \n",
      "Recall: 100.00% \n",
      "AUC using prediction probabilities: 60.510% \n",
      "              precision    recall  f1-score   support\n",
      "\n",
      "           0       0.00      0.00      0.00       257\n",
      "           1       0.84      1.00      0.91      1343\n",
      "\n",
      "    accuracy                           0.84      1600\n",
      "   macro avg       0.42      0.50      0.46      1600\n",
      "weighted avg       0.70      0.84      0.77      1600\n",
      "\n",
      "Confusion Matrix\n",
      "[[   0  257]\n",
      " [   0 1343]]\n"
     ]
    },
    {
     "name": "stderr",
     "output_type": "stream",
     "text": [
      "/opt/conda/lib/python3.7/site-packages/sklearn/metrics/_classification.py:1245: UndefinedMetricWarning: Precision and F-score are ill-defined and being set to 0.0 in labels with no predicted samples. Use `zero_division` parameter to control this behavior.\n",
      "  _warn_prf(average, modifier, msg_start, len(result))\n",
      "/opt/conda/lib/python3.7/site-packages/sklearn/metrics/_classification.py:1245: UndefinedMetricWarning: Precision and F-score are ill-defined and being set to 0.0 in labels with no predicted samples. Use `zero_division` parameter to control this behavior.\n",
      "  _warn_prf(average, modifier, msg_start, len(result))\n",
      "/opt/conda/lib/python3.7/site-packages/sklearn/metrics/_classification.py:1245: UndefinedMetricWarning: Precision and F-score are ill-defined and being set to 0.0 in labels with no predicted samples. Use `zero_division` parameter to control this behavior.\n",
      "  _warn_prf(average, modifier, msg_start, len(result))\n"
     ]
    }
   ],
   "source": [
    "result_metrics(y_val, y_val_preds,y_val_preds_prob)"
   ]
  },
  {
   "cell_type": "markdown",
   "metadata": {},
   "source": [
    "Bit better, but not much, try sigmoid kernel"
   ]
  },
  {
   "cell_type": "code",
   "execution_count": 19,
   "metadata": {},
   "outputs": [
    {
     "data": {
      "text/plain": [
       "SVC(kernel='sigmoid', probability=True)"
      ]
     },
     "execution_count": 19,
     "metadata": {},
     "output_type": "execute_result"
    }
   ],
   "source": [
    "svclassifier_sig = SVC(kernel='sigmoid', probability=True)\n",
    "svclassifier_sig.fit(X_train, y_train)"
   ]
  },
  {
   "cell_type": "code",
   "execution_count": 20,
   "metadata": {},
   "outputs": [],
   "source": [
    "# predict class\n",
    "y_train_preds = svclassifier_sig.predict(X_train)\n",
    "y_val_preds = svclassifier_sig.predict(X_val)"
   ]
  },
  {
   "cell_type": "code",
   "execution_count": 21,
   "metadata": {},
   "outputs": [],
   "source": [
    "# predict proabilities\n",
    "y_train_preds_prob = svclassifier_sig.predict_proba(X_train)\n",
    "y_val_preds_prob = svclassifier_sig.predict_proba(X_val)"
   ]
  },
  {
   "cell_type": "code",
   "execution_count": 22,
   "metadata": {},
   "outputs": [
    {
     "name": "stdout",
     "output_type": "stream",
     "text": [
      "Accuracy: 74.55%\n",
      "Precision: 84.19% \n",
      "Recall: 85.47% \n",
      "AUC using prediction probabilities: 58.881% \n",
      "              precision    recall  f1-score   support\n",
      "\n",
      "           0       0.22      0.20      0.21      1074\n",
      "           1       0.84      0.85      0.85      5326\n",
      "\n",
      "    accuracy                           0.75      6400\n",
      "   macro avg       0.53      0.53      0.53      6400\n",
      "weighted avg       0.74      0.75      0.74      6400\n",
      "\n",
      "Confusion Matrix\n",
      "[[ 219  855]\n",
      " [ 774 4552]]\n"
     ]
    }
   ],
   "source": [
    "from src.features.helper_functions import result_metrics\n",
    "result_metrics(y_train, y_train_preds,y_train_preds_prob)"
   ]
  },
  {
   "cell_type": "code",
   "execution_count": 23,
   "metadata": {},
   "outputs": [
    {
     "name": "stdout",
     "output_type": "stream",
     "text": [
      "Accuracy: 74.56%\n",
      "Precision: 84.67% \n",
      "Recall: 85.11% \n",
      "AUC using prediction probabilities: 57.998% \n",
      "              precision    recall  f1-score   support\n",
      "\n",
      "           0       0.20      0.19      0.20       257\n",
      "           1       0.85      0.85      0.85      1343\n",
      "\n",
      "    accuracy                           0.75      1600\n",
      "   macro avg       0.52      0.52      0.52      1600\n",
      "weighted avg       0.74      0.75      0.74      1600\n",
      "\n",
      "Confusion Matrix\n",
      "[[  50  207]\n",
      " [ 200 1143]]\n"
     ]
    }
   ],
   "source": [
    "result_metrics(y_val, y_val_preds,y_val_preds_prob)"
   ]
  },
  {
   "cell_type": "code",
   "execution_count": null,
   "metadata": {},
   "outputs": [],
   "source": []
  }
 ],
 "metadata": {
  "kernelspec": {
   "display_name": "Python 3",
   "language": "python",
   "name": "python3"
  },
  "language_info": {
   "codemirror_mode": {
    "name": "ipython",
    "version": 3
   },
   "file_extension": ".py",
   "mimetype": "text/x-python",
   "name": "python",
   "nbconvert_exporter": "python",
   "pygments_lexer": "ipython3",
   "version": "3.7.6"
  }
 },
 "nbformat": 4,
 "nbformat_minor": 4
}
