{
 "cells": [
  {
   "cell_type": "code",
   "execution_count": 12,
   "metadata": {},
   "outputs": [],
   "source": [
    "# Model prediction using LogisticRegressionCV with SMOTE and using liblinear with predict proba\n",
    "\n",
    "# Import all necessary packages\n",
    "import pandas as pd\n",
    "import numpy as np\n",
    "from sklearn.linear_model import LogisticRegressionCV\n",
    "from sklearn.metrics import mean_squared_error as mse\n",
    "from sklearn.metrics import mean_absolute_error as mae\n",
    "from sklearn.preprocessing import StandardScaler\n",
    "from sklearn.model_selection import train_test_split\n",
    "from sklearn.metrics import accuracy_score\n",
    "from sklearn.metrics import roc_auc_score\n",
    "from sklearn.metrics import f1_score\n",
    "from sklearn.metrics import recall_score\n",
    "from imblearn.over_sampling import SMOTE"
   ]
  },
  {
   "cell_type": "code",
   "execution_count": 13,
   "metadata": {},
   "outputs": [
    {
     "name": "stdout",
     "output_type": "stream",
     "text": [
      "[[ 0.93005882 -1.73183431  1.00610018 ...  1.1072419  -0.05507101\n",
      "   0.47321012]\n",
      " [-0.38091406 -1.7314013   0.71400493 ... -0.36478721  0.43214835\n",
      "   0.1966711 ]\n",
      " [-0.28687803 -1.73096829  1.29819543 ... -0.6101254  -0.05507101\n",
      "  -0.90948499]\n",
      " ...\n",
      " [-0.33188458  1.73096829  1.29819543 ...  1.35258008 -0.05507101\n",
      "   0.74974914]\n",
      " [-1.39921865  1.7314013  -1.38908087 ... -0.85546358  0.06673383\n",
      "  -1.0477545 ]\n",
      " [-0.99491401  1.73183431 -0.80489037 ...  0.61656553 -0.66409522\n",
      "   0.1966711 ]]\n",
      "\n",
      "----\n",
      "\n",
      "[6.85697100e+03 7.79850000e+03 6.27778750e+01 1.85766625e+01\n",
      " 7.26708750e+00 2.80703750e+00 6.23121250e+00 4.46089000e+01\n",
      " 2.64525000e-01 8.16562500e-01 1.95837000e+01 1.39252500e+00\n",
      " 1.94778750e+00 7.13658250e+01 1.07783750e+00 2.16850000e+00\n",
      " 3.24530000e+00 1.62451250e+00 6.48687500e-01 2.45212500e-01\n",
      " 1.25776250e+00]\n"
     ]
    }
   ],
   "source": [
    "# Loading the files as DataFrame and standardise\n",
    "sample = pd.read_csv(\"sample_submission.csv\")\n",
    "test = pd.read_csv(\"test.csv\")\n",
    "train = pd.read_csv(\"train.csv\")\n",
    "target = train.pop(\"TARGET_5Yrs\")\n",
    "scaler = StandardScaler()\n",
    "print(scaler.fit_transform(train), end=\"\\n\\n----\\n\\n\")\n",
    "print(scaler.mean_)"
   ]
  },
  {
   "cell_type": "code",
   "execution_count": 14,
   "metadata": {},
   "outputs": [
    {
     "data": {
      "text/plain": [
       "Id_old     0\n",
       "Id         0\n",
       "GP         0\n",
       "MIN        0\n",
       "PTS        0\n",
       "FGM        0\n",
       "FGA        0\n",
       "FG%        0\n",
       "3P Made    0\n",
       "3PA        0\n",
       "3P%        0\n",
       "FTM        0\n",
       "FTA        0\n",
       "FT%        0\n",
       "OREB       0\n",
       "DREB       0\n",
       "REB        0\n",
       "AST        0\n",
       "STL        0\n",
       "BLK        0\n",
       "TOV        0\n",
       "dtype: int64"
      ]
     },
     "execution_count": 14,
     "metadata": {},
     "output_type": "execute_result"
    }
   ],
   "source": [
    "# check for any null values on train\n",
    "train.isnull().sum()"
   ]
  },
  {
   "cell_type": "code",
   "execution_count": 15,
   "metadata": {},
   "outputs": [
    {
     "data": {
      "text/plain": [
       "Id_old     0\n",
       "Id         0\n",
       "GP         0\n",
       "MIN        0\n",
       "PTS        0\n",
       "FGM        0\n",
       "FGA        0\n",
       "FG%        0\n",
       "3P Made    0\n",
       "3PA        0\n",
       "3P%        0\n",
       "FTM        0\n",
       "FTA        0\n",
       "FT%        0\n",
       "OREB       0\n",
       "DREB       0\n",
       "REB        0\n",
       "AST        0\n",
       "STL        0\n",
       "BLK        0\n",
       "TOV        0\n",
       "dtype: int64"
      ]
     },
     "execution_count": 15,
     "metadata": {},
     "output_type": "execute_result"
    }
   ],
   "source": [
    "# check for any null values on test\n",
    "test.isnull().sum()"
   ]
  },
  {
   "cell_type": "code",
   "execution_count": 16,
   "metadata": {},
   "outputs": [
    {
     "name": "stdout",
     "output_type": "stream",
     "text": [
      "count    8000.000000\n",
      "mean        0.833625\n",
      "std         0.372440\n",
      "min         0.000000\n",
      "25%         1.000000\n",
      "50%         1.000000\n",
      "75%         1.000000\n",
      "max         1.000000\n",
      "Name: TARGET_5Yrs, dtype: float64\n",
      "\n",
      "-------\n",
      "\n",
      "1    6669\n",
      "0    1331\n",
      "Name: TARGET_5Yrs, dtype: int64\n"
     ]
    }
   ],
   "source": [
    "# Prove that the target variable is imbalance - 83% is \"1\" with 6669 occurences out of 8000 entries\n",
    "print(target.describe(),end=\"\\n\\n-------\\n\\n\")\n",
    "print(target.value_counts())"
   ]
  },
  {
   "cell_type": "code",
   "execution_count": 17,
   "metadata": {},
   "outputs": [],
   "source": [
    "# resampling using SMOTE\n",
    "sm = SMOTE(random_state=123)\n",
    "\n",
    "train_resampled, target_resampled = sm.fit_resample(train, target)"
   ]
  },
  {
   "cell_type": "code",
   "execution_count": 25,
   "metadata": {},
   "outputs": [
    {
     "name": "stdout",
     "output_type": "stream",
     "text": [
      "count    13338.000000\n",
      "mean         0.500000\n",
      "std          0.500019\n",
      "min          0.000000\n",
      "25%          0.000000\n",
      "50%          0.500000\n",
      "75%          1.000000\n",
      "max          1.000000\n",
      "Name: TARGET_5Yrs, dtype: float64\n",
      "\n",
      "-------\n",
      "\n",
      "1    6669\n",
      "0    6669\n",
      "Name: TARGET_5Yrs, dtype: int64\n"
     ]
    }
   ],
   "source": [
    "# Check distribution after SMOTE\n",
    "print(target_resampled.describe(),end=\"\\n\\n-------\\n\\n\")\n",
    "print(target_resampled.value_counts())"
   ]
  },
  {
   "cell_type": "code",
   "execution_count": 29,
   "metadata": {},
   "outputs": [],
   "source": [
    "# split train into train and validation\n",
    "X_train, X_val, y_train, y_val = train_test_split(train_resampled, target_resampled, test_size=0.2, random_state=8)"
   ]
  },
  {
   "cell_type": "code",
   "execution_count": 30,
   "metadata": {},
   "outputs": [
    {
     "data": {
      "text/plain": [
       "LogisticRegressionCV(solver='liblinear')"
      ]
     },
     "execution_count": 30,
     "metadata": {},
     "output_type": "execute_result"
    }
   ],
   "source": [
    "# Instantiate LogisticRegression Class into reg\n",
    "reg = LogisticRegressionCV(solver='liblinear')\n",
    "\n",
    "# fitting\n",
    "reg.fit(X_train,y_train)"
   ]
  },
  {
   "cell_type": "code",
   "execution_count": 31,
   "metadata": {},
   "outputs": [],
   "source": [
    "# predictions probability\n",
    "y_train_preds = reg.predict_proba(X_train)[:,1]\n",
    "y_val_preds = reg.predict_proba(X_val)[:,1]"
   ]
  },
  {
   "cell_type": "code",
   "execution_count": 32,
   "metadata": {},
   "outputs": [
    {
     "name": "stdout",
     "output_type": "stream",
     "text": [
      "Train RMSE - 0.4617055382037367\n",
      "Train MAE - 0.4277028840731858\n",
      "Val RMSE - 0.45500206381688113\n",
      "Val MAE - 0.42129689798222114\n",
      "Train AUROC score: 0.716734651629199\n",
      "Validation AUROC score: 0.7358329229378471\n"
     ]
    }
   ],
   "source": [
    "#RMSE and MAE scores for this model on training set and validation set\n",
    "print(\"Train RMSE - \" + str(mse(y_train, y_train_preds, squared=False)))\n",
    "print(\"Train MAE - \" + str(mae(y_train, y_train_preds)))\n",
    "print(\"Val RMSE - \" + str(mse(y_val, y_val_preds, squared=False)))\n",
    "print(\"Val MAE - \" + str(mae(y_val, y_val_preds)))\n",
    "\n",
    "# AUROC scores\n",
    "print('Train AUROC score:',roc_auc_score(y_train,y_train_preds))\n",
    "print('Validation AUROC score:', roc_auc_score(y_val,y_val_preds))"
   ]
  },
  {
   "cell_type": "code",
   "execution_count": 33,
   "metadata": {},
   "outputs": [],
   "source": [
    "# prepare submission\n",
    "y_test_preds = reg.predict_proba(test)[:,1]"
   ]
  },
  {
   "cell_type": "code",
   "execution_count": 34,
   "metadata": {},
   "outputs": [
    {
     "name": "stdout",
     "output_type": "stream",
     "text": [
      "[]\n",
      "[]\n"
     ]
    }
   ],
   "source": [
    "# check if there is out of binary values\n",
    "print(list(y_test_preds[y_test_preds > 1]))\n",
    "print(list(y_test_preds[y_test_preds < 0]))"
   ]
  },
  {
   "cell_type": "code",
   "execution_count": 35,
   "metadata": {},
   "outputs": [],
   "source": [
    "#printout prediction into a file\n",
    "submission = pd.DataFrame({'Id':test['Id'],'TARGET_5Yrs':y_test_preds})\n",
    "submission.to_csv('submission_week_2_14.csv',index=False)"
   ]
  },
  {
   "cell_type": "code",
   "execution_count": 36,
   "metadata": {},
   "outputs": [
    {
     "data": {
      "text/plain": [
       "['LogisticRegressionCV_SMOTE_liblinear_predict_proba_1.joblib']"
      ]
     },
     "execution_count": 36,
     "metadata": {},
     "output_type": "execute_result"
    }
   ],
   "source": [
    "# save model\n",
    "from joblib import dump  \n",
    "\n",
    "dump(reg,  'LogisticRegressionCV_SMOTE_liblinear_predict_proba_1.joblib')"
   ]
  },
  {
   "cell_type": "code",
   "execution_count": null,
   "metadata": {},
   "outputs": [],
   "source": []
  }
 ],
 "metadata": {
  "kernelspec": {
   "display_name": "Python 3",
   "language": "python",
   "name": "python3"
  },
  "language_info": {
   "codemirror_mode": {
    "name": "ipython",
    "version": 3
   },
   "file_extension": ".py",
   "mimetype": "text/x-python",
   "name": "python",
   "nbconvert_exporter": "python",
   "pygments_lexer": "ipython3",
   "version": "3.7.6"
  }
 },
 "nbformat": 4,
 "nbformat_minor": 4
}
