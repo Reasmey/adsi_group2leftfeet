{
 "cells": [
  {
   "cell_type": "code",
   "execution_count": 460,
   "id": "formal-attraction",
   "metadata": {},
   "outputs": [],
   "source": [
    "import pandas as pd\n",
    "import numpy as np\n",
    "from numpy import inf\n",
    "from sklearn import preprocessing\n",
    "import matplotlib.pyplot as plt \n",
    "plt.rc(\"font\", size=14)\n",
    "from sklearn.linear_model import LogisticRegression\n",
    "from sklearn.model_selection import train_test_split\n",
    "import seaborn as sns\n",
    "sns.set(style=\"white\")\n",
    "sns.set(style=\"whitegrid\", color_codes=True)\n",
    "from sklearn.linear_model import LogisticRegression\n",
    "from sklearn import metrics\n",
    "from sklearn.metrics import confusion_matrix\n",
    "from sklearn.metrics import classification_report\n",
    "from sklearn.metrics import roc_auc_score\n",
    "from sklearn.metrics import roc_curve"
   ]
  },
  {
   "cell_type": "code",
   "execution_count": 461,
   "id": "mexican-april",
   "metadata": {},
   "outputs": [],
   "source": [
    "import os\n",
    "os.chdir('/Users/KevinShao/Desktop/adsi_group2leftfeet')"
   ]
  },
  {
   "cell_type": "code",
   "execution_count": 462,
   "id": "restricted-scholar",
   "metadata": {},
   "outputs": [],
   "source": [
    "test = pd.read_csv(\"data/raw/test.csv\")\n",
    "train = pd.read_csv(\"data/raw/train.csv\")\n",
    "target = train.pop(\"TARGET_5Yrs\")"
   ]
  },
  {
   "cell_type": "code",
   "execution_count": 463,
   "id": "short-bandwidth",
   "metadata": {},
   "outputs": [],
   "source": [
    "#changing negative values to 0 \n",
    "train[train < 0] = 0\n",
    "test[test < 0] = 0"
   ]
  },
  {
   "cell_type": "code",
   "execution_count": 464,
   "id": "nonprofit-panel",
   "metadata": {},
   "outputs": [],
   "source": [
    "X_all = np.concatenate((train, test), axis=0)"
   ]
  },
  {
   "cell_type": "code",
   "execution_count": 412,
   "id": "ignored-jesus",
   "metadata": {},
   "outputs": [],
   "source": [
    "#Normalizing the data as some might have % and other might have higher value such as GP and MIN\n",
    "from sklearn.preprocessing import StandardScaler\n",
    "scaler = StandardScaler()\n",
    "X_all = scaler.fit_transform(X_all)"
   ]
  },
  {
   "cell_type": "code",
   "execution_count": 465,
   "id": "independent-september",
   "metadata": {},
   "outputs": [],
   "source": [
    "from sklearn.preprocessing import QuantileTransformer\n",
    "sc = QuantileTransformer()\n",
    "X_all = sc.fit_transform(X_all)\n",
    "from sklearn.kernel_approximation import AdditiveChi2Sampler\n",
    "sc = AdditiveChi2Sampler()\n",
    "X_all = sc.fit_transform(X_all)"
   ]
  },
  {
   "cell_type": "code",
   "execution_count": 472,
   "id": "featured-orchestra",
   "metadata": {},
   "outputs": [],
   "source": [
    "df_train=X_all[:8000]"
   ]
  },
  {
   "cell_type": "code",
   "execution_count": 473,
   "id": "inappropriate-bracket",
   "metadata": {},
   "outputs": [],
   "source": [
    "df_test=X_all[:-3799]"
   ]
  },
  {
   "cell_type": "code",
   "execution_count": 474,
   "id": "level-decline",
   "metadata": {},
   "outputs": [],
   "source": [
    "df_train = train.iloc[:, 1:].values\n",
    "df_test = test.iloc[:, 1:].values"
   ]
  },
  {
   "cell_type": "code",
   "execution_count": 475,
   "id": "described-speaker",
   "metadata": {},
   "outputs": [
    {
     "name": "stdout",
     "output_type": "stream",
     "text": [
      "(8000, 19)\n"
     ]
    }
   ],
   "source": [
    "print(df_train.shape)"
   ]
  },
  {
   "cell_type": "code",
   "execution_count": 416,
   "id": "extra-following",
   "metadata": {},
   "outputs": [
    {
     "name": "stdout",
     "output_type": "stream",
     "text": [
      "0    6669\n",
      "1    6669\n",
      "Name: TARGET_5Yrs, dtype: int64 [6669 6669]\n"
     ]
    }
   ],
   "source": [
    "#Upsmapling\n",
    "from imblearn.over_sampling import SMOTE\n",
    "sm = SMOTE(random_state=8)\n",
    "training_set, target = sm.fit_sample(df_train, target)\n",
    "print(target.value_counts(), np.bincount(target))"
   ]
  },
  {
   "cell_type": "code",
   "execution_count": 417,
   "id": "increasing-ending",
   "metadata": {},
   "outputs": [],
   "source": [
    "#Splitting into training and testing\n",
    "X_train, X_test, y_train, y_test = train_test_split (training_set, target, test_size=0.2, random_state=8)"
   ]
  },
  {
   "cell_type": "code",
   "execution_count": 418,
   "id": "voluntary-truth",
   "metadata": {},
   "outputs": [
    {
     "name": "stdout",
     "output_type": "stream",
     "text": [
      "0    5363\n",
      "1    5307\n",
      "Name: TARGET_5Yrs, dtype: int64\n"
     ]
    }
   ],
   "source": [
    "print(y_train.value_counts())"
   ]
  },
  {
   "cell_type": "code",
   "execution_count": 419,
   "id": "peaceful-buyer",
   "metadata": {},
   "outputs": [],
   "source": [
    "from sklearn.ensemble import GradientBoostingClassifier\n",
    "from sklearn.ensemble import GradientBoostingRegressor\n",
    "from sklearn.metrics import roc_curve, auc"
   ]
  },
  {
   "cell_type": "code",
   "execution_count": 420,
   "id": "cosmetic-denial",
   "metadata": {},
   "outputs": [],
   "source": [
    "parameters = {\n",
    "    \"n_estimators\":[500,1000],\n",
    "    \"max_depth\":[5,7,9],\n",
    "    \"learning_rate\":[0.01,0.1],\n",
    "    \"max_features\":[11,15,19]\n",
    "}"
   ]
  },
  {
   "cell_type": "code",
   "execution_count": 67,
   "id": "unlimited-norwegian",
   "metadata": {},
   "outputs": [
    {
     "data": {
      "text/plain": [
       "GridSearchCV(cv=5, estimator=GradientBoostingClassifier(),\n",
       "             param_grid={'learning_rate': [0.01, 0.1], 'max_depth': [5, 7, 9],\n",
       "                         'max_features': [11, 15, 19],\n",
       "                         'n_estimators': [500, 1000]})"
      ]
     },
     "execution_count": 67,
     "metadata": {},
     "output_type": "execute_result"
    }
   ],
   "source": [
    "from sklearn.model_selection import GridSearchCV\n",
    "gbm = GradientBoostingClassifier()\n",
    "cv = GridSearchCV(gbm,parameters,cv=5)\n",
    "cv.fit(X_train,y_train.values.ravel())"
   ]
  },
  {
   "cell_type": "code",
   "execution_count": 68,
   "id": "minute-desire",
   "metadata": {},
   "outputs": [],
   "source": [
    "def display(results):\n",
    "    print(f'Best parameters are: {results.best_params_}')\n",
    "    print(\"\\n\")\n",
    "    mean_score = results.cv_results_['mean_test_score']\n",
    "    std_score = results.cv_results_['std_test_score']\n",
    "    params = results.cv_results_['params']\n",
    "    for mean,std,params in zip(mean_score,std_score,params):\n",
    "        print(f'{round(mean,3)} + or -{round(std,3)} for the {params}')"
   ]
  },
  {
   "cell_type": "code",
   "execution_count": 175,
   "id": "middle-preservation",
   "metadata": {},
   "outputs": [
    {
     "name": "stdout",
     "output_type": "stream",
     "text": [
      "Best parameters are: {'learning_rate': 0.1, 'max_depth': 9, 'n_estimators': 500}\n",
      "\n",
      "\n",
      "0.622 + or -0.002 for the {'learning_rate': 0.01, 'max_depth': 1, 'n_estimators': 5}\n",
      "0.635 + or -0.004 for the {'learning_rate': 0.01, 'max_depth': 1, 'n_estimators': 50}\n",
      "0.662 + or -0.013 for the {'learning_rate': 0.01, 'max_depth': 1, 'n_estimators': 250}\n",
      "0.677 + or -0.01 for the {'learning_rate': 0.01, 'max_depth': 1, 'n_estimators': 500}\n",
      "0.65 + or -0.008 for the {'learning_rate': 0.01, 'max_depth': 3, 'n_estimators': 5}\n",
      "0.693 + or -0.014 for the {'learning_rate': 0.01, 'max_depth': 3, 'n_estimators': 50}\n",
      "0.784 + or -0.008 for the {'learning_rate': 0.01, 'max_depth': 3, 'n_estimators': 250}\n",
      "0.828 + or -0.006 for the {'learning_rate': 0.01, 'max_depth': 3, 'n_estimators': 500}\n",
      "0.705 + or -0.013 for the {'learning_rate': 0.01, 'max_depth': 5, 'n_estimators': 5}\n",
      "0.745 + or -0.017 for the {'learning_rate': 0.01, 'max_depth': 5, 'n_estimators': 50}\n",
      "0.828 + or -0.004 for the {'learning_rate': 0.01, 'max_depth': 5, 'n_estimators': 250}\n",
      "0.866 + or -0.006 for the {'learning_rate': 0.01, 'max_depth': 5, 'n_estimators': 500}\n",
      "0.737 + or -0.006 for the {'learning_rate': 0.01, 'max_depth': 7, 'n_estimators': 5}\n",
      "0.798 + or -0.006 for the {'learning_rate': 0.01, 'max_depth': 7, 'n_estimators': 50}\n",
      "0.857 + or -0.007 for the {'learning_rate': 0.01, 'max_depth': 7, 'n_estimators': 250}\n",
      "0.884 + or -0.004 for the {'learning_rate': 0.01, 'max_depth': 7, 'n_estimators': 500}\n",
      "0.772 + or -0.009 for the {'learning_rate': 0.01, 'max_depth': 9, 'n_estimators': 5}\n",
      "0.824 + or -0.011 for the {'learning_rate': 0.01, 'max_depth': 9, 'n_estimators': 50}\n",
      "0.874 + or -0.007 for the {'learning_rate': 0.01, 'max_depth': 9, 'n_estimators': 250}\n",
      "0.888 + or -0.006 for the {'learning_rate': 0.01, 'max_depth': 9, 'n_estimators': 500}\n",
      "0.633 + or -0.011 for the {'learning_rate': 0.1, 'max_depth': 1, 'n_estimators': 5}\n",
      "0.677 + or -0.009 for the {'learning_rate': 0.1, 'max_depth': 1, 'n_estimators': 50}\n",
      "0.727 + or -0.009 for the {'learning_rate': 0.1, 'max_depth': 1, 'n_estimators': 250}\n",
      "0.762 + or -0.009 for the {'learning_rate': 0.1, 'max_depth': 1, 'n_estimators': 500}\n",
      "0.692 + or -0.013 for the {'learning_rate': 0.1, 'max_depth': 3, 'n_estimators': 5}\n",
      "0.828 + or -0.008 for the {'learning_rate': 0.1, 'max_depth': 3, 'n_estimators': 50}\n",
      "0.883 + or -0.007 for the {'learning_rate': 0.1, 'max_depth': 3, 'n_estimators': 250}\n",
      "0.885 + or -0.008 for the {'learning_rate': 0.1, 'max_depth': 3, 'n_estimators': 500}\n",
      "0.752 + or -0.019 for the {'learning_rate': 0.1, 'max_depth': 5, 'n_estimators': 5}\n",
      "0.868 + or -0.006 for the {'learning_rate': 0.1, 'max_depth': 5, 'n_estimators': 50}\n",
      "0.889 + or -0.006 for the {'learning_rate': 0.1, 'max_depth': 5, 'n_estimators': 250}\n",
      "0.889 + or -0.005 for the {'learning_rate': 0.1, 'max_depth': 5, 'n_estimators': 500}\n",
      "0.796 + or -0.006 for the {'learning_rate': 0.1, 'max_depth': 7, 'n_estimators': 5}\n",
      "0.881 + or -0.006 for the {'learning_rate': 0.1, 'max_depth': 7, 'n_estimators': 50}\n",
      "0.891 + or -0.004 for the {'learning_rate': 0.1, 'max_depth': 7, 'n_estimators': 250}\n",
      "0.891 + or -0.006 for the {'learning_rate': 0.1, 'max_depth': 7, 'n_estimators': 500}\n",
      "0.814 + or -0.011 for the {'learning_rate': 0.1, 'max_depth': 9, 'n_estimators': 5}\n",
      "0.886 + or -0.004 for the {'learning_rate': 0.1, 'max_depth': 9, 'n_estimators': 50}\n",
      "0.894 + or -0.005 for the {'learning_rate': 0.1, 'max_depth': 9, 'n_estimators': 250}\n",
      "0.898 + or -0.006 for the {'learning_rate': 0.1, 'max_depth': 9, 'n_estimators': 500}\n",
      "0.659 + or -0.007 for the {'learning_rate': 1, 'max_depth': 1, 'n_estimators': 5}\n",
      "0.779 + or -0.008 for the {'learning_rate': 1, 'max_depth': 1, 'n_estimators': 50}\n",
      "0.867 + or -0.007 for the {'learning_rate': 1, 'max_depth': 1, 'n_estimators': 250}\n",
      "0.881 + or -0.004 for the {'learning_rate': 1, 'max_depth': 1, 'n_estimators': 500}\n",
      "0.792 + or -0.015 for the {'learning_rate': 1, 'max_depth': 3, 'n_estimators': 5}\n",
      "0.869 + or -0.01 for the {'learning_rate': 1, 'max_depth': 3, 'n_estimators': 50}\n",
      "0.853 + or -0.011 for the {'learning_rate': 1, 'max_depth': 3, 'n_estimators': 250}\n",
      "0.857 + or -0.006 for the {'learning_rate': 1, 'max_depth': 3, 'n_estimators': 500}\n",
      "0.836 + or -0.016 for the {'learning_rate': 1, 'max_depth': 5, 'n_estimators': 5}\n",
      "0.85 + or -0.008 for the {'learning_rate': 1, 'max_depth': 5, 'n_estimators': 50}\n",
      "0.867 + or -0.01 for the {'learning_rate': 1, 'max_depth': 5, 'n_estimators': 250}\n",
      "0.873 + or -0.009 for the {'learning_rate': 1, 'max_depth': 5, 'n_estimators': 500}\n",
      "0.845 + or -0.005 for the {'learning_rate': 1, 'max_depth': 7, 'n_estimators': 5}\n",
      "0.866 + or -0.006 for the {'learning_rate': 1, 'max_depth': 7, 'n_estimators': 50}\n",
      "0.883 + or -0.006 for the {'learning_rate': 1, 'max_depth': 7, 'n_estimators': 250}\n",
      "0.889 + or -0.008 for the {'learning_rate': 1, 'max_depth': 7, 'n_estimators': 500}\n",
      "0.837 + or -0.012 for the {'learning_rate': 1, 'max_depth': 9, 'n_estimators': 5}\n",
      "0.868 + or -0.007 for the {'learning_rate': 1, 'max_depth': 9, 'n_estimators': 50}\n",
      "0.895 + or -0.008 for the {'learning_rate': 1, 'max_depth': 9, 'n_estimators': 250}\n",
      "0.893 + or -0.008 for the {'learning_rate': 1, 'max_depth': 9, 'n_estimators': 500}\n"
     ]
    }
   ],
   "source": [
    "display(cv)"
   ]
  },
  {
   "cell_type": "code",
   "execution_count": 480,
   "id": "healthy-insurance",
   "metadata": {},
   "outputs": [
    {
     "data": {
      "text/plain": [
       "['models/gbm.joblib']"
      ]
     },
     "execution_count": 480,
     "metadata": {},
     "output_type": "execute_result"
    }
   ],
   "source": [
    "from joblib import dump\n",
    "dump(cv,'models/gbm.joblib')"
   ]
  },
  {
   "cell_type": "code",
   "execution_count": null,
   "id": "ultimate-substance",
   "metadata": {},
   "outputs": [],
   "source": [
    "gbm = GradientBoostingClassifier(learning_rate=0.001,max_depth=9,n_estimators=250)\n",
    "gbm.fit(X_train,y_train)"
   ]
  },
  {
   "cell_type": "code",
   "execution_count": 445,
   "id": "metallic-hammer",
   "metadata": {},
   "outputs": [
    {
     "data": {
      "text/plain": [
       "BLK        0.450300\n",
       "GP         0.271827\n",
       "FTM        0.089900\n",
       "3P Made    0.046223\n",
       "OREB       0.038333\n",
       "3PA        0.032458\n",
       "FG%        0.020168\n",
       "FGM        0.016917\n",
       "STL        0.014913\n",
       "FT%        0.007178\n",
       "MIN        0.003491\n",
       "TOV        0.002963\n",
       "DREB       0.001388\n",
       "PTS        0.001359\n",
       "3P%        0.000909\n",
       "REB        0.000686\n",
       "AST        0.000661\n",
       "FTA        0.000327\n",
       "FGA        0.000000\n",
       "dtype: float64"
      ]
     },
     "execution_count": 445,
     "metadata": {},
     "output_type": "execute_result"
    }
   ],
   "source": [
    "#Get column names for feature importance or coefficient dataframe\n",
    "#Drop this variable as its not needed\n",
    "columns = train.columns\n",
    "feature_imp = pd.Series(gbm.feature_importances_,index=columns).sort_values(ascending=False)\n",
    "feature_imp"
   ]
  },
  {
   "cell_type": "code",
   "execution_count": 446,
   "id": "political-distinction",
   "metadata": {},
   "outputs": [
    {
     "name": "stderr",
     "output_type": "stream",
     "text": [
      "No handles with labels found to put in legend.\n"
     ]
    },
    {
     "data": {
      "image/png": "[encoded data removed]",
      "text/plain": [
       "<Figure size 432x288 with 1 Axes>"
      ]
     },
     "metadata": {},
     "output_type": "display_data"
    }
   ],
   "source": [
    "# Creating a bar plot\n",
    "sns.barplot(x=feature_imp, y=feature_imp.index)\n",
    "# Add labels to your graph\n",
    "plt.xlabel('Feature Importance Score')\n",
    "plt.ylabel('Features')\n",
    "plt.title(\"Visualizing Important Features\")\n",
    "plt.legend()\n",
    "plt.show()"
   ]
  },
  {
   "cell_type": "code",
   "execution_count": 447,
   "id": "executed-kansas",
   "metadata": {},
   "outputs": [],
   "source": [
    "# make predictions for test data\n",
    "y_pred_gbm = gbm.predict(X_test)"
   ]
  },
  {
   "cell_type": "code",
   "execution_count": 448,
   "id": "primary-rebel",
   "metadata": {},
   "outputs": [
    {
     "name": "stdout",
     "output_type": "stream",
     "text": [
      "              precision    recall  f1-score   support\n",
      "\n",
      "           0       0.78      0.78      0.78      1306\n",
      "           1       0.79      0.78      0.79      1362\n",
      "\n",
      "    accuracy                           0.78      2668\n",
      "   macro avg       0.78      0.78      0.78      2668\n",
      "weighted avg       0.78      0.78      0.78      2668\n",
      "\n"
     ]
    }
   ],
   "source": [
    "print(classification_report(y_test, y_pred_gbm))"
   ]
  },
  {
   "cell_type": "code",
   "execution_count": 449,
   "id": "unlikely-revolution",
   "metadata": {},
   "outputs": [
    {
     "name": "stdout",
     "output_type": "stream",
     "text": [
      "roc_auc: 0.7807346326836582\n"
     ]
    }
   ],
   "source": [
    "from sklearn import metrics\n",
    "print(\"roc_auc:\",metrics.accuracy_score(y_test, y_pred_gbm))"
   ]
  },
  {
   "cell_type": "code",
   "execution_count": 450,
   "id": "accessible-peter",
   "metadata": {
    "scrolled": true
   },
   "outputs": [
    {
     "data": {
      "image/png": "[encoded data removed]",
      "text/plain": [
       "<Figure size 432x288 with 1 Axes>"
      ]
     },
     "metadata": {},
     "output_type": "display_data"
    }
   ],
   "source": [
    "logit_roc_auc_test = roc_auc_score(y_test, gbm.predict(X_test))\n",
    "logit_roc_auc_train = roc_auc_score(y_train, gbm.predict(X_train))\n",
    "fpr_test, tpr_test, thresholds_test = roc_curve(y_test, gbm.predict_proba(X_test)[:,1])\n",
    "fpr_train, tpr_train, thresholds_train = roc_curve(y_train, gbm.predict_proba(X_train)[:,1])\n",
    "plt.figure()\n",
    "plt.plot(fpr_train, tpr_train, label='GBM train (area = %0.2f)' % logit_roc_auc_train)\n",
    "plt.plot(fpr_test, tpr_test, label='GBM test (area = %0.2f)' % logit_roc_auc_test)\n",
    "plt.plot([0, 1], [0, 1],'r--')\n",
    "plt.xlim([0.0, 1.0])\n",
    "plt.ylim([0.0, 1.05])\n",
    "plt.xlabel('False Positive Rate')\n",
    "plt.ylabel('True Positive Rate')\n",
    "plt.title('Receiver operating characteristic')\n",
    "plt.legend(loc=\"lower right\")\n",
    "plt.savefig('Log_ROC')\n",
    "plt.show()"
   ]
  },
  {
   "cell_type": "code",
   "execution_count": 451,
   "id": "awful-casino",
   "metadata": {},
   "outputs": [],
   "source": [
    "y_test_preds = gbm.predict(df_test)"
   ]
  },
  {
   "cell_type": "code",
   "execution_count": 452,
   "id": "efficient-burlington",
   "metadata": {},
   "outputs": [
    {
     "name": "stdout",
     "output_type": "stream",
     "text": [
      "(3799, 19)\n"
     ]
    }
   ],
   "source": [
    "print(df_test.shape)"
   ]
  },
  {
   "cell_type": "code",
   "execution_count": 458,
   "id": "banner-gospel",
   "metadata": {},
   "outputs": [],
   "source": [
    "#printout prediction into a file\n",
    "submission = pd.DataFrame({'Id':test['Id'],'TARGET_5Yrs':y_test_preds})\n",
    "submission.to_csv('data/submission/submission_week3_gbm.csv',index=False)"
   ]
  },
  {
   "cell_type": "code",
   "execution_count": 456,
   "id": "quick-creek",
   "metadata": {},
   "outputs": [
    {
     "name": "stdout",
     "output_type": "stream",
     "text": [
      "        Id  TARGET_5Yrs\n",
      "0        0            0\n",
      "1        1            0\n",
      "2        2            1\n",
      "3        3            1\n",
      "4        4            0\n",
      "...    ...          ...\n",
      "3794  3794            1\n",
      "3795  3795            1\n",
      "3796  3796            0\n",
      "3797  3797            1\n",
      "3798  3798            1\n",
      "\n",
      "[3799 rows x 2 columns]\n"
     ]
    }
   ],
   "source": [
    "print(submission)"
   ]
  },
  {
   "cell_type": "code",
   "execution_count": null,
   "id": "statistical-postcard",
   "metadata": {},
   "outputs": [],
   "source": []
  }
 ],
 "metadata": {
  "kernelspec": {
   "display_name": "Python 3",
   "language": "python",
   "name": "python3"
  },
  "language_info": {
   "codemirror_mode": {
    "name": "ipython",
    "version": 3
   },
   "file_extension": ".py",
   "mimetype": "text/x-python",
   "name": "python",
   "nbconvert_exporter": "python",
   "pygments_lexer": "ipython3",
   "version": "3.9.1"
  }
 },
 "nbformat": 4,
 "nbformat_minor": 5
}
